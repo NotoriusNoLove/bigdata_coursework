{
 "cells": [
  {
   "cell_type": "code",
   "execution_count": 1,
   "metadata": {},
   "outputs": [],
   "source": [
    "import warnings \n",
    "warnings.filterwarnings('ignore')"
   ]
  },
  {
   "cell_type": "code",
   "execution_count": 2,
   "metadata": {},
   "outputs": [],
   "source": [
    "import pandas as pd\n",
    "import numpy as np\n",
    "import matplotlib.pyplot as plt\n",
    "import seaborn as sns\n",
    "import plotly.express as px"
   ]
  },
  {
   "cell_type": "code",
   "execution_count": 3,
   "metadata": {},
   "outputs": [],
   "source": [
    "df = pd.read_csv('supermarket_sales.csv')"
   ]
  },
  {
   "cell_type": "code",
   "execution_count": 4,
   "metadata": {},
   "outputs": [
    {
     "name": "stdout",
     "output_type": "stream",
     "text": [
      "<class 'pandas.core.frame.DataFrame'>\n",
      "RangeIndex: 1000 entries, 0 to 999\n",
      "Data columns (total 17 columns):\n",
      " #   Column                   Non-Null Count  Dtype  \n",
      "---  ------                   --------------  -----  \n",
      " 0   Invoice ID               1000 non-null   object \n",
      " 1   Branch                   1000 non-null   object \n",
      " 2   City                     1000 non-null   object \n",
      " 3   Customer type            1000 non-null   object \n",
      " 4   Gender                   1000 non-null   object \n",
      " 5   Product line             1000 non-null   object \n",
      " 6   Unit price               1000 non-null   float64\n",
      " 7   Quantity                 1000 non-null   int64  \n",
      " 8   Tax 5%                   1000 non-null   float64\n",
      " 9   Total                    1000 non-null   float64\n",
      " 10  Date                     1000 non-null   object \n",
      " 11  Time                     1000 non-null   object \n",
      " 12  Payment                  1000 non-null   object \n",
      " 13  cogs                     1000 non-null   float64\n",
      " 14  gross margin percentage  1000 non-null   float64\n",
      " 15  gross income             1000 non-null   float64\n",
      " 16  Rating                   1000 non-null   float64\n",
      "dtypes: float64(7), int64(1), object(9)\n",
      "memory usage: 132.9+ KB\n"
     ]
    }
   ],
   "source": [
    "df.info()"
   ]
  },
  {
   "cell_type": "code",
   "execution_count": 5,
   "metadata": {},
   "outputs": [
    {
     "data": {
      "text/plain": [
       "(1000, 17)"
      ]
     },
     "execution_count": 5,
     "metadata": {},
     "output_type": "execute_result"
    }
   ],
   "source": [
    "df.shape"
   ]
  },
  {
   "cell_type": "code",
   "execution_count": 6,
   "metadata": {},
   "outputs": [
    {
     "data": {
      "text/plain": [
       "False"
      ]
     },
     "execution_count": 6,
     "metadata": {},
     "output_type": "execute_result"
    }
   ],
   "source": [
    "df.duplicated().any()"
   ]
  },
  {
   "cell_type": "code",
   "execution_count": 7,
   "metadata": {},
   "outputs": [
    {
     "data": {
      "text/plain": [
       "Invoice ID                 0\n",
       "Branch                     0\n",
       "City                       0\n",
       "Customer type              0\n",
       "Gender                     0\n",
       "Product line               0\n",
       "Unit price                 0\n",
       "Quantity                   0\n",
       "Tax 5%                     0\n",
       "Total                      0\n",
       "Date                       0\n",
       "Time                       0\n",
       "Payment                    0\n",
       "cogs                       0\n",
       "gross margin percentage    0\n",
       "gross income               0\n",
       "Rating                     0\n",
       "dtype: int64"
      ]
     },
     "execution_count": 7,
     "metadata": {},
     "output_type": "execute_result"
    }
   ],
   "source": [
    "df.isna().sum()"
   ]
  },
  {
   "cell_type": "code",
   "execution_count": 8,
   "metadata": {},
   "outputs": [
    {
     "data": {
      "text/html": [
       "<div>\n",
       "<style scoped>\n",
       "    .dataframe tbody tr th:only-of-type {\n",
       "        vertical-align: middle;\n",
       "    }\n",
       "\n",
       "    .dataframe tbody tr th {\n",
       "        vertical-align: top;\n",
       "    }\n",
       "\n",
       "    .dataframe thead th {\n",
       "        text-align: right;\n",
       "    }\n",
       "</style>\n",
       "<table border=\"1\" class=\"dataframe\">\n",
       "  <thead>\n",
       "    <tr style=\"text-align: right;\">\n",
       "      <th></th>\n",
       "      <th>Invoice ID</th>\n",
       "      <th>Branch</th>\n",
       "      <th>City</th>\n",
       "      <th>Customer type</th>\n",
       "      <th>Gender</th>\n",
       "      <th>Product line</th>\n",
       "      <th>Unit price</th>\n",
       "      <th>Quantity</th>\n",
       "      <th>Tax 5%</th>\n",
       "      <th>Total</th>\n",
       "      <th>Date</th>\n",
       "      <th>Time</th>\n",
       "      <th>Payment</th>\n",
       "      <th>cogs</th>\n",
       "      <th>gross margin percentage</th>\n",
       "      <th>gross income</th>\n",
       "      <th>Rating</th>\n",
       "    </tr>\n",
       "  </thead>\n",
       "  <tbody>\n",
       "    <tr>\n",
       "      <th>0</th>\n",
       "      <td>750-67-8428</td>\n",
       "      <td>A</td>\n",
       "      <td>Yangon</td>\n",
       "      <td>Member</td>\n",
       "      <td>Female</td>\n",
       "      <td>Health and beauty</td>\n",
       "      <td>74.69</td>\n",
       "      <td>7</td>\n",
       "      <td>26.1415</td>\n",
       "      <td>548.9715</td>\n",
       "      <td>1/5/2019</td>\n",
       "      <td>13:08</td>\n",
       "      <td>Ewallet</td>\n",
       "      <td>522.83</td>\n",
       "      <td>4.761905</td>\n",
       "      <td>26.1415</td>\n",
       "      <td>9.1</td>\n",
       "    </tr>\n",
       "    <tr>\n",
       "      <th>1</th>\n",
       "      <td>226-31-3081</td>\n",
       "      <td>C</td>\n",
       "      <td>Naypyitaw</td>\n",
       "      <td>Normal</td>\n",
       "      <td>Female</td>\n",
       "      <td>Electronic accessories</td>\n",
       "      <td>15.28</td>\n",
       "      <td>5</td>\n",
       "      <td>3.8200</td>\n",
       "      <td>80.2200</td>\n",
       "      <td>3/8/2019</td>\n",
       "      <td>10:29</td>\n",
       "      <td>Cash</td>\n",
       "      <td>76.40</td>\n",
       "      <td>4.761905</td>\n",
       "      <td>3.8200</td>\n",
       "      <td>9.6</td>\n",
       "    </tr>\n",
       "    <tr>\n",
       "      <th>2</th>\n",
       "      <td>631-41-3108</td>\n",
       "      <td>A</td>\n",
       "      <td>Yangon</td>\n",
       "      <td>Normal</td>\n",
       "      <td>Male</td>\n",
       "      <td>Home and lifestyle</td>\n",
       "      <td>46.33</td>\n",
       "      <td>7</td>\n",
       "      <td>16.2155</td>\n",
       "      <td>340.5255</td>\n",
       "      <td>3/3/2019</td>\n",
       "      <td>13:23</td>\n",
       "      <td>Credit card</td>\n",
       "      <td>324.31</td>\n",
       "      <td>4.761905</td>\n",
       "      <td>16.2155</td>\n",
       "      <td>7.4</td>\n",
       "    </tr>\n",
       "    <tr>\n",
       "      <th>3</th>\n",
       "      <td>123-19-1176</td>\n",
       "      <td>A</td>\n",
       "      <td>Yangon</td>\n",
       "      <td>Member</td>\n",
       "      <td>Male</td>\n",
       "      <td>Health and beauty</td>\n",
       "      <td>58.22</td>\n",
       "      <td>8</td>\n",
       "      <td>23.2880</td>\n",
       "      <td>489.0480</td>\n",
       "      <td>1/27/2019</td>\n",
       "      <td>20:33</td>\n",
       "      <td>Ewallet</td>\n",
       "      <td>465.76</td>\n",
       "      <td>4.761905</td>\n",
       "      <td>23.2880</td>\n",
       "      <td>8.4</td>\n",
       "    </tr>\n",
       "    <tr>\n",
       "      <th>4</th>\n",
       "      <td>373-73-7910</td>\n",
       "      <td>A</td>\n",
       "      <td>Yangon</td>\n",
       "      <td>Normal</td>\n",
       "      <td>Male</td>\n",
       "      <td>Sports and travel</td>\n",
       "      <td>86.31</td>\n",
       "      <td>7</td>\n",
       "      <td>30.2085</td>\n",
       "      <td>634.3785</td>\n",
       "      <td>2/8/2019</td>\n",
       "      <td>10:37</td>\n",
       "      <td>Ewallet</td>\n",
       "      <td>604.17</td>\n",
       "      <td>4.761905</td>\n",
       "      <td>30.2085</td>\n",
       "      <td>5.3</td>\n",
       "    </tr>\n",
       "  </tbody>\n",
       "</table>\n",
       "</div>"
      ],
      "text/plain": [
       "    Invoice ID Branch       City Customer type  Gender  \\\n",
       "0  750-67-8428      A     Yangon        Member  Female   \n",
       "1  226-31-3081      C  Naypyitaw        Normal  Female   \n",
       "2  631-41-3108      A     Yangon        Normal    Male   \n",
       "3  123-19-1176      A     Yangon        Member    Male   \n",
       "4  373-73-7910      A     Yangon        Normal    Male   \n",
       "\n",
       "             Product line  Unit price  Quantity   Tax 5%     Total       Date  \\\n",
       "0       Health and beauty       74.69         7  26.1415  548.9715   1/5/2019   \n",
       "1  Electronic accessories       15.28         5   3.8200   80.2200   3/8/2019   \n",
       "2      Home and lifestyle       46.33         7  16.2155  340.5255   3/3/2019   \n",
       "3       Health and beauty       58.22         8  23.2880  489.0480  1/27/2019   \n",
       "4       Sports and travel       86.31         7  30.2085  634.3785   2/8/2019   \n",
       "\n",
       "    Time      Payment    cogs  gross margin percentage  gross income  Rating  \n",
       "0  13:08      Ewallet  522.83                 4.761905       26.1415     9.1  \n",
       "1  10:29         Cash   76.40                 4.761905        3.8200     9.6  \n",
       "2  13:23  Credit card  324.31                 4.761905       16.2155     7.4  \n",
       "3  20:33      Ewallet  465.76                 4.761905       23.2880     8.4  \n",
       "4  10:37      Ewallet  604.17                 4.761905       30.2085     5.3  "
      ]
     },
     "execution_count": 8,
     "metadata": {},
     "output_type": "execute_result"
    }
   ],
   "source": [
    "df.head()"
   ]
  },
  {
   "cell_type": "markdown",
   "metadata": {},
   "source": [
    "## step 2\n"
   ]
  },
  {
   "cell_type": "code",
   "execution_count": 9,
   "metadata": {},
   "outputs": [],
   "source": [
    "df[\"Date\"] = pd.to_datetime(df[\"Date\"])"
   ]
  },
  {
   "cell_type": "code",
   "execution_count": 10,
   "metadata": {},
   "outputs": [],
   "source": [
    "df[\"Month\"] = df[\"Date\"].dt.month"
   ]
  },
  {
   "cell_type": "code",
   "execution_count": 11,
   "metadata": {},
   "outputs": [
    {
     "data": {
      "text/plain": [
       "array(['A', 'C', 'B'], dtype=object)"
      ]
     },
     "execution_count": 11,
     "metadata": {},
     "output_type": "execute_result"
    }
   ],
   "source": [
    "df['Branch'].unique()"
   ]
  },
  {
   "cell_type": "code",
   "execution_count": 12,
   "metadata": {},
   "outputs": [],
   "source": [
    "def pie(column):\n",
    "    plt.pie(df[column].value_counts(), labels = df[column].value_counts().index, autopct = \"%1.1f%%\", shadow=True)\n",
    "    plt.show();"
   ]
  },
  {
   "cell_type": "code",
   "execution_count": 13,
   "metadata": {},
   "outputs": [
    {
     "data": {
      "image/png": "[encoded data removed]",
      "text/plain": [
       "<Figure size 640x480 with 1 Axes>"
      ]
     },
     "metadata": {},
     "output_type": "display_data"
    }
   ],
   "source": [
    "pie('Branch')"
   ]
  },
  {
   "cell_type": "markdown",
   "metadata": {},
   "source": [
    "В филиалах A самые большие объемы продаж\n",
    "В филиале C наименьшие объемы продаж"
   ]
  },
  {
   "cell_type": "code",
   "execution_count": 14,
   "metadata": {},
   "outputs": [
    {
     "data": {
      "image/png": "[encoded data removed]",
      "text/plain": [
       "<Figure size 640x480 with 1 Axes>"
      ]
     },
     "metadata": {},
     "output_type": "display_data"
    }
   ],
   "source": [
    "pie('Customer type')"
   ]
  },
  {
   "cell_type": "markdown",
   "metadata": {},
   "source": [
    "Большинство людей, приходящих в филиалы, имеют карту лояльности."
   ]
  },
  {
   "cell_type": "code",
   "execution_count": 15,
   "metadata": {},
   "outputs": [
    {
     "data": {
      "image/png": "[encoded data removed]",
      "text/plain": [
       "<Figure size 640x480 with 1 Axes>"
      ]
     },
     "metadata": {},
     "output_type": "display_data"
    }
   ],
   "source": [
    "pie('Gender')"
   ]
  },
  {
   "cell_type": "markdown",
   "metadata": {},
   "source": [
    "Большинство людей, приходящих в филиалы, женского пола"
   ]
  },
  {
   "cell_type": "code",
   "execution_count": 27,
   "metadata": {},
   "outputs": [],
   "source": [
    "df_gr = df.groupby('Product line').sum().reset_index()\n",
    "df_gr = df_gr[['Product line', 'Quantity']]"
   ]
  },
  {
   "cell_type": "code",
   "execution_count": 69,
   "metadata": {},
   "outputs": [
    {
     "data": {
      "application/vnd.plotly.v1+json": {
       "config": {
        "plotlyServerURL": "https://plot.ly"
       },
       "data": [
        {
         "alignmentgroup": "True",
         "bingroup": "x",
         "histfunc": "sum",
         "hovertemplate": "Product line=%{x}<br>sum of Quantity=%{y}<extra></extra>",
         "legendgroup": "",
         "marker": {
          "color": "#6E2C00",
          "pattern": {
           "shape": ""
          }
         },
         "name": "",
         "offsetgroup": "",
         "orientation": "v",
         "showlegend": false,
         "texttemplate": "%{value}",
         "type": "histogram",
         "x": [
          "Health and beauty",
          "Electronic accessories",
          "Home and lifestyle",
          "Health and beauty",
          "Sports and travel",
          "Electronic accessories",
          "Electronic accessories",
          "Home and lifestyle",
          "Health and beauty",
          "Food and beverages",
          "Fashion accessories",
          "Electronic accessories",
          "Electronic accessories",
          "Food and beverages",
          "Health and beauty",
          "Sports and travel",
          "Health and beauty",
          "Sports and travel",
          "Food and beverages",
          "Home and lifestyle",
          "Electronic accessories",
          "Health and beauty",
          "Home and lifestyle",
          "Electronic accessories",
          "Sports and travel",
          "Home and lifestyle",
          "Fashion accessories",
          "Fashion accessories",
          "Food and beverages",
          "Health and beauty",
          "Fashion accessories",
          "Sports and travel",
          "Sports and travel",
          "Health and beauty",
          "Food and beverages",
          "Sports and travel",
          "Sports and travel",
          "Electronic accessories",
          "Health and beauty",
          "Home and lifestyle",
          "Home and lifestyle",
          "Home and lifestyle",
          "Sports and travel",
          "Food and beverages",
          "Health and beauty",
          "Electronic accessories",
          "Health and beauty",
          "Food and beverages",
          "Electronic accessories",
          "Fashion accessories",
          "Food and beverages",
          "Food and beverages",
          "Fashion accessories",
          "Fashion accessories",
          "Home and lifestyle",
          "Electronic accessories",
          "Home and lifestyle",
          "Health and beauty",
          "Home and lifestyle",
          "Electronic accessories",
          "Sports and travel",
          "Home and lifestyle",
          "Sports and travel",
          "Sports and travel",
          "Health and beauty",
          "Health and beauty",
          "Health and beauty",
          "Fashion accessories",
          "Sports and travel",
          "Health and beauty",
          "Food and beverages",
          "Fashion accessories",
          "Food and beverages",
          "Electronic accessories",
          "Home and lifestyle",
          "Electronic accessories",
          "Fashion accessories",
          "Fashion accessories",
          "Food and beverages",
          "Health and beauty",
          "Health and beauty",
          "Food and beverages",
          "Food and beverages",
          "Food and beverages",
          "Sports and travel",
          "Sports and travel",
          "Fashion accessories",
          "Food and beverages",
          "Sports and travel",
          "Health and beauty",
          "Home and lifestyle",
          "Sports and travel",
          "Sports and travel",
          "Health and beauty",
          "Health and beauty",
          "Electronic accessories",
          "Health and beauty",
          "Electronic accessories",
          "Food and beverages",
          "Home and lifestyle",
          "Fashion accessories",
          "Fashion accessories",
          "Electronic accessories",
          "Food and beverages",
          "Health and beauty",
          "Electronic accessories",
          "Fashion accessories",
          "Sports and travel",
          "Food and beverages",
          "Electronic accessories",
          "Sports and travel",
          "Health and beauty",
          "Fashion accessories",
          "Home and lifestyle",
          "Home and lifestyle",
          "Fashion accessories",
          "Fashion accessories",
          "Fashion accessories",
          "Food and beverages",
          "Home and lifestyle",
          "Electronic accessories",
          "Sports and travel",
          "Sports and travel",
          "Home and lifestyle",
          "Fashion accessories",
          "Home and lifestyle",
          "Sports and travel",
          "Fashion accessories",
          "Food and beverages",
          "Sports and travel",
          "Fashion accessories",
          "Sports and travel",
          "Sports and travel",
          "Electronic accessories",
          "Health and beauty",
          "Fashion accessories",
          "Electronic accessories",
          "Home and lifestyle",
          "Sports and travel",
          "Sports and travel",
          "Sports and travel",
          "Health and beauty",
          "Health and beauty",
          "Food and beverages",
          "Home and lifestyle",
          "Health and beauty",
          "Fashion accessories",
          "Health and beauty",
          "Home and lifestyle",
          "Health and beauty",
          "Fashion accessories",
          "Sports and travel",
          "Fashion accessories",
          "Food and beverages",
          "Sports and travel",
          "Food and beverages",
          "Electronic accessories",
          "Home and lifestyle",
          "Health and beauty",
          "Sports and travel",
          "Food and beverages",
          "Sports and travel",
          "Food and beverages",
          "Sports and travel",
          "Food and beverages",
          "Health and beauty",
          "Home and lifestyle",
          "Fashion accessories",
          "Food and beverages",
          "Sports and travel",
          "Health and beauty",
          "Food and beverages",
          "Electronic accessories",
          "Electronic accessories",
          "Food and beverages",
          "Home and lifestyle",
          "Food and beverages",
          "Fashion accessories",
          "Food and beverages",
          "Health and beauty",
          "Fashion accessories",
          "Food and beverages",
          "Sports and travel",
          "Health and beauty",
          "Sports and travel",
          "Food and beverages",
          "Home and lifestyle",
          "Home and lifestyle",
          "Home and lifestyle",
          "Home and lifestyle",
          "Home and lifestyle",
          "Fashion accessories",
          "Food and beverages",
          "Home and lifestyle",
          "Electronic accessories",
          "Fashion accessories",
          "Health and beauty",
          "Home and lifestyle",
          "Health and beauty",
          "Food and beverages",
          "Sports and travel",
          "Electronic accessories",
          "Electronic accessories",
          "Health and beauty",
          "Home and lifestyle",
          "Health and beauty",
          "Electronic accessories",
          "Home and lifestyle",
          "Fashion accessories",
          "Electronic accessories",
          "Electronic accessories",
          "Food and beverages",
          "Home and lifestyle",
          "Sports and travel",
          "Sports and travel",
          "Home and lifestyle",
          "Sports and travel",
          "Electronic accessories",
          "Fashion accessories",
          "Food and beverages",
          "Electronic accessories",
          "Food and beverages",
          "Electronic accessories",
          "Fashion accessories",
          "Food and beverages",
          "Sports and travel",
          "Health and beauty",
          "Electronic accessories",
          "Electronic accessories",
          "Home and lifestyle",
          "Fashion accessories",
          "Electronic accessories",
          "Health and beauty",
          "Fashion accessories",
          "Health and beauty",
          "Sports and travel",
          "Health and beauty",
          "Fashion accessories",
          "Electronic accessories",
          "Fashion accessories",
          "Food and beverages",
          "Health and beauty",
          "Fashion accessories",
          "Home and lifestyle",
          "Home and lifestyle",
          "Home and lifestyle",
          "Electronic accessories",
          "Fashion accessories",
          "Electronic accessories",
          "Food and beverages",
          "Food and beverages",
          "Fashion accessories",
          "Sports and travel",
          "Home and lifestyle",
          "Home and lifestyle",
          "Fashion accessories",
          "Electronic accessories",
          "Home and lifestyle",
          "Electronic accessories",
          "Electronic accessories",
          "Electronic accessories",
          "Fashion accessories",
          "Fashion accessories",
          "Sports and travel",
          "Sports and travel",
          "Sports and travel",
          "Home and lifestyle",
          "Food and beverages",
          "Home and lifestyle",
          "Home and lifestyle",
          "Sports and travel",
          "Health and beauty",
          "Home and lifestyle",
          "Home and lifestyle",
          "Health and beauty",
          "Fashion accessories",
          "Home and lifestyle",
          "Fashion accessories",
          "Fashion accessories",
          "Sports and travel",
          "Home and lifestyle",
          "Home and lifestyle",
          "Sports and travel",
          "Health and beauty",
          "Health and beauty",
          "Health and beauty",
          "Home and lifestyle",
          "Sports and travel",
          "Food and beverages",
          "Home and lifestyle",
          "Electronic accessories",
          "Electronic accessories",
          "Electronic accessories",
          "Food and beverages",
          "Health and beauty",
          "Electronic accessories",
          "Electronic accessories",
          "Home and lifestyle",
          "Home and lifestyle",
          "Home and lifestyle",
          "Fashion accessories",
          "Health and beauty",
          "Food and beverages",
          "Electronic accessories",
          "Electronic accessories",
          "Electronic accessories",
          "Sports and travel",
          "Home and lifestyle",
          "Electronic accessories",
          "Fashion accessories",
          "Sports and travel",
          "Fashion accessories",
          "Food and beverages",
          "Health and beauty",
          "Electronic accessories",
          "Food and beverages",
          "Food and beverages",
          "Electronic accessories",
          "Health and beauty",
          "Health and beauty",
          "Food and beverages",
          "Health and beauty",
          "Health and beauty",
          "Fashion accessories",
          "Home and lifestyle",
          "Sports and travel",
          "Food and beverages",
          "Food and beverages",
          "Health and beauty",
          "Electronic accessories",
          "Home and lifestyle",
          "Food and beverages",
          "Fashion accessories",
          "Food and beverages",
          "Sports and travel",
          "Electronic accessories",
          "Fashion accessories",
          "Sports and travel",
          "Electronic accessories",
          "Food and beverages",
          "Electronic accessories",
          "Health and beauty",
          "Health and beauty",
          "Food and beverages",
          "Sports and travel",
          "Fashion accessories",
          "Electronic accessories",
          "Home and lifestyle",
          "Electronic accessories",
          "Health and beauty",
          "Fashion accessories",
          "Electronic accessories",
          "Fashion accessories",
          "Home and lifestyle",
          "Electronic accessories",
          "Food and beverages",
          "Fashion accessories",
          "Sports and travel",
          "Electronic accessories",
          "Sports and travel",
          "Food and beverages",
          "Food and beverages",
          "Food and beverages",
          "Home and lifestyle",
          "Food and beverages",
          "Fashion accessories",
          "Electronic accessories",
          "Home and lifestyle",
          "Sports and travel",
          "Electronic accessories",
          "Electronic accessories",
          "Fashion accessories",
          "Home and lifestyle",
          "Fashion accessories",
          "Home and lifestyle",
          "Fashion accessories",
          "Home and lifestyle",
          "Sports and travel",
          "Fashion accessories",
          "Electronic accessories",
          "Sports and travel",
          "Electronic accessories",
          "Food and beverages",
          "Food and beverages",
          "Food and beverages",
          "Sports and travel",
          "Food and beverages",
          "Health and beauty",
          "Fashion accessories",
          "Food and beverages",
          "Fashion accessories",
          "Fashion accessories",
          "Electronic accessories",
          "Sports and travel",
          "Health and beauty",
          "Health and beauty",
          "Food and beverages",
          "Home and lifestyle",
          "Health and beauty",
          "Electronic accessories",
          "Food and beverages",
          "Home and lifestyle",
          "Home and lifestyle",
          "Fashion accessories",
          "Fashion accessories",
          "Sports and travel",
          "Food and beverages",
          "Fashion accessories",
          "Home and lifestyle",
          "Fashion accessories",
          "Health and beauty",
          "Sports and travel",
          "Health and beauty",
          "Sports and travel",
          "Home and lifestyle",
          "Health and beauty",
          "Home and lifestyle",
          "Health and beauty",
          "Health and beauty",
          "Electronic accessories",
          "Food and beverages",
          "Electronic accessories",
          "Fashion accessories",
          "Fashion accessories",
          "Fashion accessories",
          "Fashion accessories",
          "Health and beauty",
          "Food and beverages",
          "Sports and travel",
          "Home and lifestyle",
          "Fashion accessories",
          "Food and beverages",
          "Electronic accessories",
          "Fashion accessories",
          "Fashion accessories",
          "Sports and travel",
          "Sports and travel",
          "Home and lifestyle",
          "Food and beverages",
          "Electronic accessories",
          "Food and beverages",
          "Sports and travel",
          "Home and lifestyle",
          "Fashion accessories",
          "Sports and travel",
          "Health and beauty",
          "Food and beverages",
          "Fashion accessories",
          "Health and beauty",
          "Sports and travel",
          "Electronic accessories",
          "Electronic accessories",
          "Food and beverages",
          "Health and beauty",
          "Electronic accessories",
          "Fashion accessories",
          "Food and beverages",
          "Electronic accessories",
          "Electronic accessories",
          "Food and beverages",
          "Food and beverages",
          "Food and beverages",
          "Sports and travel",
          "Food and beverages",
          "Food and beverages",
          "Sports and travel",
          "Health and beauty",
          "Sports and travel",
          "Food and beverages",
          "Electronic accessories",
          "Home and lifestyle",
          "Sports and travel",
          "Fashion accessories",
          "Health and beauty",
          "Electronic accessories",
          "Health and beauty",
          "Sports and travel",
          "Electronic accessories",
          "Sports and travel",
          "Electronic accessories",
          "Food and beverages",
          "Electronic accessories",
          "Sports and travel",
          "Home and lifestyle",
          "Sports and travel",
          "Sports and travel",
          "Fashion accessories",
          "Fashion accessories",
          "Home and lifestyle",
          "Home and lifestyle",
          "Fashion accessories",
          "Fashion accessories",
          "Health and beauty",
          "Home and lifestyle",
          "Fashion accessories",
          "Sports and travel",
          "Electronic accessories",
          "Food and beverages",
          "Sports and travel",
          "Sports and travel",
          "Sports and travel",
          "Fashion accessories",
          "Home and lifestyle",
          "Sports and travel",
          "Sports and travel",
          "Electronic accessories",
          "Sports and travel",
          "Food and beverages",
          "Health and beauty",
          "Home and lifestyle",
          "Sports and travel",
          "Home and lifestyle",
          "Fashion accessories",
          "Electronic accessories",
          "Sports and travel",
          "Fashion accessories",
          "Health and beauty",
          "Home and lifestyle",
          "Home and lifestyle",
          "Sports and travel",
          "Electronic accessories",
          "Home and lifestyle",
          "Home and lifestyle",
          "Health and beauty",
          "Food and beverages",
          "Sports and travel",
          "Fashion accessories",
          "Fashion accessories",
          "Food and beverages",
          "Sports and travel",
          "Health and beauty",
          "Fashion accessories",
          "Electronic accessories",
          "Food and beverages",
          "Home and lifestyle",
          "Home and lifestyle",
          "Fashion accessories",
          "Home and lifestyle",
          "Fashion accessories",
          "Food and beverages",
          "Home and lifestyle",
          "Health and beauty",
          "Sports and travel",
          "Electronic accessories",
          "Food and beverages",
          "Home and lifestyle",
          "Fashion accessories",
          "Sports and travel",
          "Sports and travel",
          "Electronic accessories",
          "Fashion accessories",
          "Fashion accessories",
          "Health and beauty",
          "Electronic accessories",
          "Electronic accessories",
          "Home and lifestyle",
          "Fashion accessories",
          "Food and beverages",
          "Food and beverages",
          "Home and lifestyle",
          "Electronic accessories",
          "Food and beverages",
          "Electronic accessories",
          "Electronic accessories",
          "Fashion accessories",
          "Food and beverages",
          "Sports and travel",
          "Fashion accessories",
          "Fashion accessories",
          "Sports and travel",
          "Home and lifestyle",
          "Sports and travel",
          "Food and beverages",
          "Food and beverages",
          "Sports and travel",
          "Fashion accessories",
          "Food and beverages",
          "Food and beverages",
          "Health and beauty",
          "Health and beauty",
          "Food and beverages",
          "Health and beauty",
          "Fashion accessories",
          "Fashion accessories",
          "Sports and travel",
          "Health and beauty",
          "Food and beverages",
          "Sports and travel",
          "Fashion accessories",
          "Health and beauty",
          "Health and beauty",
          "Home and lifestyle",
          "Sports and travel",
          "Sports and travel",
          "Sports and travel",
          "Health and beauty",
          "Food and beverages",
          "Sports and travel",
          "Fashion accessories",
          "Home and lifestyle",
          "Electronic accessories",
          "Fashion accessories",
          "Food and beverages",
          "Sports and travel",
          "Fashion accessories",
          "Home and lifestyle",
          "Fashion accessories",
          "Food and beverages",
          "Fashion accessories",
          "Food and beverages",
          "Electronic accessories",
          "Food and beverages",
          "Fashion accessories",
          "Sports and travel",
          "Food and beverages",
          "Sports and travel",
          "Sports and travel",
          "Electronic accessories",
          "Food and beverages",
          "Fashion accessories",
          "Food and beverages",
          "Food and beverages",
          "Home and lifestyle",
          "Fashion accessories",
          "Fashion accessories",
          "Food and beverages",
          "Sports and travel",
          "Health and beauty",
          "Home and lifestyle",
          "Fashion accessories",
          "Sports and travel",
          "Electronic accessories",
          "Food and beverages",
          "Home and lifestyle",
          "Food and beverages",
          "Health and beauty",
          "Health and beauty",
          "Electronic accessories",
          "Food and beverages",
          "Fashion accessories",
          "Food and beverages",
          "Electronic accessories",
          "Electronic accessories",
          "Food and beverages",
          "Electronic accessories",
          "Home and lifestyle",
          "Health and beauty",
          "Fashion accessories",
          "Sports and travel",
          "Electronic accessories",
          "Electronic accessories",
          "Health and beauty",
          "Home and lifestyle",
          "Sports and travel",
          "Fashion accessories",
          "Electronic accessories",
          "Electronic accessories",
          "Fashion accessories",
          "Sports and travel",
          "Fashion accessories",
          "Sports and travel",
          "Sports and travel",
          "Fashion accessories",
          "Food and beverages",
          "Sports and travel",
          "Fashion accessories",
          "Food and beverages",
          "Health and beauty",
          "Health and beauty",
          "Sports and travel",
          "Fashion accessories",
          "Food and beverages",
          "Health and beauty",
          "Health and beauty",
          "Electronic accessories",
          "Fashion accessories",
          "Sports and travel",
          "Food and beverages",
          "Health and beauty",
          "Food and beverages",
          "Electronic accessories",
          "Sports and travel",
          "Fashion accessories",
          "Fashion accessories",
          "Sports and travel",
          "Home and lifestyle",
          "Sports and travel",
          "Home and lifestyle",
          "Sports and travel",
          "Food and beverages",
          "Sports and travel",
          "Food and beverages",
          "Health and beauty",
          "Fashion accessories",
          "Food and beverages",
          "Home and lifestyle",
          "Sports and travel",
          "Home and lifestyle",
          "Electronic accessories",
          "Home and lifestyle",
          "Fashion accessories",
          "Food and beverages",
          "Fashion accessories",
          "Health and beauty",
          "Home and lifestyle",
          "Health and beauty",
          "Electronic accessories",
          "Food and beverages",
          "Fashion accessories",
          "Sports and travel",
          "Food and beverages",
          "Home and lifestyle",
          "Electronic accessories",
          "Health and beauty",
          "Fashion accessories",
          "Health and beauty",
          "Fashion accessories",
          "Electronic accessories",
          "Fashion accessories",
          "Fashion accessories",
          "Fashion accessories",
          "Sports and travel",
          "Home and lifestyle",
          "Food and beverages",
          "Food and beverages",
          "Health and beauty",
          "Home and lifestyle",
          "Sports and travel",
          "Fashion accessories",
          "Home and lifestyle",
          "Fashion accessories",
          "Health and beauty",
          "Fashion accessories",
          "Electronic accessories",
          "Food and beverages",
          "Health and beauty",
          "Home and lifestyle",
          "Electronic accessories",
          "Electronic accessories",
          "Home and lifestyle",
          "Home and lifestyle",
          "Food and beverages",
          "Sports and travel",
          "Home and lifestyle",
          "Sports and travel",
          "Food and beverages",
          "Fashion accessories",
          "Home and lifestyle",
          "Home and lifestyle",
          "Health and beauty",
          "Fashion accessories",
          "Food and beverages",
          "Electronic accessories",
          "Home and lifestyle",
          "Fashion accessories",
          "Fashion accessories",
          "Electronic accessories",
          "Home and lifestyle",
          "Food and beverages",
          "Food and beverages",
          "Food and beverages",
          "Electronic accessories",
          "Fashion accessories",
          "Health and beauty",
          "Health and beauty",
          "Home and lifestyle",
          "Fashion accessories",
          "Sports and travel",
          "Electronic accessories",
          "Home and lifestyle",
          "Sports and travel",
          "Health and beauty",
          "Sports and travel",
          "Food and beverages",
          "Food and beverages",
          "Food and beverages",
          "Health and beauty",
          "Sports and travel",
          "Sports and travel",
          "Electronic accessories",
          "Health and beauty",
          "Sports and travel",
          "Fashion accessories",
          "Home and lifestyle",
          "Health and beauty",
          "Electronic accessories",
          "Electronic accessories",
          "Health and beauty",
          "Health and beauty",
          "Sports and travel",
          "Fashion accessories",
          "Health and beauty",
          "Home and lifestyle",
          "Electronic accessories",
          "Electronic accessories",
          "Fashion accessories",
          "Home and lifestyle",
          "Sports and travel",
          "Health and beauty",
          "Home and lifestyle",
          "Sports and travel",
          "Electronic accessories",
          "Fashion accessories",
          "Fashion accessories",
          "Electronic accessories",
          "Home and lifestyle",
          "Sports and travel",
          "Electronic accessories",
          "Health and beauty",
          "Fashion accessories",
          "Health and beauty",
          "Electronic accessories",
          "Sports and travel",
          "Electronic accessories",
          "Electronic accessories",
          "Food and beverages",
          "Fashion accessories",
          "Food and beverages",
          "Health and beauty",
          "Food and beverages",
          "Electronic accessories",
          "Home and lifestyle",
          "Sports and travel",
          "Health and beauty",
          "Sports and travel",
          "Sports and travel",
          "Health and beauty",
          "Fashion accessories",
          "Electronic accessories",
          "Electronic accessories",
          "Electronic accessories",
          "Health and beauty",
          "Sports and travel",
          "Health and beauty",
          "Home and lifestyle",
          "Fashion accessories",
          "Fashion accessories",
          "Sports and travel",
          "Electronic accessories",
          "Sports and travel",
          "Fashion accessories",
          "Electronic accessories",
          "Sports and travel",
          "Food and beverages",
          "Fashion accessories",
          "Electronic accessories",
          "Electronic accessories",
          "Sports and travel",
          "Food and beverages",
          "Fashion accessories",
          "Fashion accessories",
          "Fashion accessories",
          "Health and beauty",
          "Electronic accessories",
          "Health and beauty",
          "Fashion accessories",
          "Food and beverages",
          "Home and lifestyle",
          "Health and beauty",
          "Food and beverages",
          "Home and lifestyle",
          "Sports and travel",
          "Home and lifestyle",
          "Home and lifestyle",
          "Electronic accessories",
          "Health and beauty",
          "Sports and travel",
          "Health and beauty",
          "Food and beverages",
          "Sports and travel",
          "Food and beverages",
          "Fashion accessories",
          "Electronic accessories",
          "Sports and travel",
          "Home and lifestyle",
          "Home and lifestyle",
          "Fashion accessories",
          "Electronic accessories",
          "Electronic accessories",
          "Electronic accessories",
          "Food and beverages",
          "Fashion accessories",
          "Sports and travel",
          "Home and lifestyle",
          "Food and beverages",
          "Sports and travel",
          "Food and beverages",
          "Electronic accessories",
          "Fashion accessories",
          "Sports and travel",
          "Health and beauty",
          "Electronic accessories",
          "Fashion accessories",
          "Electronic accessories",
          "Electronic accessories",
          "Health and beauty",
          "Fashion accessories",
          "Food and beverages",
          "Health and beauty",
          "Food and beverages",
          "Electronic accessories",
          "Home and lifestyle",
          "Health and beauty",
          "Food and beverages",
          "Health and beauty",
          "Home and lifestyle",
          "Health and beauty",
          "Health and beauty",
          "Food and beverages",
          "Home and lifestyle",
          "Food and beverages",
          "Electronic accessories",
          "Home and lifestyle",
          "Fashion accessories",
          "Food and beverages",
          "Electronic accessories",
          "Sports and travel",
          "Fashion accessories",
          "Home and lifestyle",
          "Electronic accessories",
          "Home and lifestyle",
          "Home and lifestyle",
          "Home and lifestyle",
          "Sports and travel",
          "Sports and travel",
          "Electronic accessories",
          "Sports and travel",
          "Health and beauty",
          "Electronic accessories",
          "Sports and travel",
          "Home and lifestyle",
          "Fashion accessories",
          "Food and beverages",
          "Health and beauty",
          "Home and lifestyle",
          "Home and lifestyle",
          "Health and beauty",
          "Sports and travel",
          "Health and beauty",
          "Food and beverages",
          "Food and beverages",
          "Fashion accessories",
          "Home and lifestyle",
          "Health and beauty",
          "Health and beauty",
          "Electronic accessories",
          "Electronic accessories",
          "Fashion accessories",
          "Home and lifestyle",
          "Food and beverages",
          "Health and beauty",
          "Home and lifestyle",
          "Food and beverages",
          "Food and beverages",
          "Home and lifestyle",
          "Fashion accessories",
          "Food and beverages",
          "Electronic accessories",
          "Home and lifestyle",
          "Food and beverages",
          "Fashion accessories",
          "Electronic accessories",
          "Fashion accessories",
          "Electronic accessories",
          "Food and beverages",
          "Electronic accessories",
          "Home and lifestyle",
          "Home and lifestyle",
          "Health and beauty",
          "Electronic accessories",
          "Food and beverages",
          "Home and lifestyle",
          "Electronic accessories",
          "Home and lifestyle",
          "Fashion accessories",
          "Fashion accessories",
          "Food and beverages",
          "Food and beverages",
          "Electronic accessories",
          "Food and beverages",
          "Food and beverages",
          "Health and beauty",
          "Sports and travel",
          "Health and beauty",
          "Electronic accessories",
          "Fashion accessories",
          "Health and beauty",
          "Health and beauty",
          "Electronic accessories",
          "Health and beauty",
          "Food and beverages",
          "Sports and travel",
          "Electronic accessories",
          "Fashion accessories",
          "Electronic accessories",
          "Health and beauty",
          "Home and lifestyle",
          "Food and beverages",
          "Home and lifestyle",
          "Fashion accessories"
         ],
         "xaxis": "x",
         "y": [
          7,
          5,
          7,
          8,
          7,
          7,
          6,
          10,
          2,
          3,
          4,
          4,
          5,
          10,
          10,
          6,
          7,
          6,
          3,
          2,
          5,
          3,
          2,
          5,
          3,
          8,
          1,
          2,
          5,
          9,
          5,
          9,
          8,
          2,
          4,
          1,
          5,
          9,
          8,
          8,
          1,
          2,
          6,
          8,
          2,
          4,
          9,
          9,
          6,
          10,
          7,
          5,
          4,
          1,
          2,
          8,
          2,
          8,
          10,
          6,
          3,
          6,
          9,
          10,
          4,
          10,
          2,
          6,
          10,
          1,
          10,
          10,
          3,
          6,
          9,
          10,
          9,
          9,
          10,
          5,
          6,
          3,
          8,
          4,
          5,
          7,
          5,
          7,
          1,
          6,
          4,
          10,
          7,
          9,
          1,
          1,
          10,
          6,
          3,
          6,
          1,
          9,
          9,
          6,
          7,
          10,
          6,
          6,
          9,
          10,
          2,
          3,
          7,
          9,
          9,
          3,
          5,
          1,
          10,
          2,
          8,
          7,
          9,
          8,
          8,
          7,
          5,
          9,
          8,
          9,
          7,
          6,
          4,
          6,
          6,
          3,
          5,
          6,
          10,
          8,
          10,
          10,
          10,
          1,
          6,
          6,
          10,
          4,
          8,
          8,
          4,
          7,
          9,
          6,
          8,
          5,
          1,
          5,
          9,
          6,
          8,
          1,
          7,
          2,
          10,
          8,
          10,
          10,
          6,
          7,
          5,
          5,
          8,
          6,
          8,
          9,
          8,
          7,
          6,
          3,
          7,
          8,
          10,
          8,
          7,
          3,
          8,
          4,
          1,
          4,
          3,
          2,
          9,
          4,
          5,
          1,
          2,
          1,
          4,
          5,
          6,
          4,
          7,
          10,
          5,
          9,
          9,
          10,
          3,
          9,
          9,
          9,
          5,
          3,
          7,
          1,
          5,
          3,
          8,
          3,
          6,
          7,
          5,
          1,
          2,
          2,
          9,
          4,
          6,
          8,
          2,
          3,
          9,
          4,
          10,
          2,
          5,
          5,
          5,
          1,
          9,
          2,
          2,
          4,
          8,
          8,
          3,
          5,
          4,
          7,
          9,
          10,
          2,
          4,
          8,
          4,
          1,
          6,
          4,
          4,
          9,
          4,
          4,
          10,
          1,
          7,
          4,
          10,
          4,
          10,
          5,
          2,
          9,
          2,
          6,
          7,
          10,
          4,
          10,
          10,
          8,
          1,
          1,
          6,
          4,
          5,
          1,
          9,
          7,
          7,
          10,
          7,
          1,
          2,
          10,
          5,
          4,
          6,
          4,
          1,
          2,
          1,
          1,
          4,
          8,
          7,
          7,
          8,
          3,
          2,
          6,
          2,
          5,
          9,
          10,
          2,
          3,
          5,
          7,
          4,
          9,
          1,
          6,
          5,
          6,
          4,
          5,
          4,
          4,
          4,
          9,
          3,
          5,
          2,
          5,
          5,
          9,
          6,
          3,
          9,
          3,
          7,
          7,
          5,
          3,
          9,
          1,
          8,
          7,
          10,
          10,
          7,
          7,
          9,
          1,
          4,
          10,
          10,
          3,
          1,
          8,
          8,
          2,
          6,
          4,
          4,
          9,
          4,
          10,
          9,
          7,
          2,
          6,
          6,
          5,
          5,
          9,
          7,
          4,
          4,
          4,
          2,
          5,
          4,
          5,
          1,
          6,
          10,
          9,
          7,
          3,
          10,
          1,
          10,
          1,
          5,
          5,
          9,
          6,
          9,
          6,
          4,
          1,
          5,
          7,
          4,
          5,
          4,
          4,
          5,
          10,
          2,
          5,
          3,
          8,
          1,
          4,
          1,
          2,
          7,
          3,
          3,
          10,
          8,
          1,
          9,
          7,
          3,
          5,
          10,
          2,
          2,
          6,
          7,
          1,
          9,
          4,
          6,
          4,
          8,
          5,
          8,
          9,
          1,
          7,
          1,
          10,
          3,
          1,
          1,
          6,
          6,
          5,
          1,
          4,
          5,
          9,
          10,
          10,
          1,
          5,
          10,
          4,
          1,
          5,
          10,
          7,
          6,
          1,
          1,
          6,
          4,
          10,
          8,
          5,
          3,
          5,
          4,
          10,
          1,
          8,
          10,
          5,
          10,
          10,
          4,
          10,
          4,
          1,
          9,
          2,
          10,
          8,
          10,
          2,
          8,
          2,
          6,
          1,
          8,
          1,
          1,
          2,
          2,
          1,
          8,
          3,
          6,
          5,
          6,
          7,
          5,
          7,
          7,
          7,
          1,
          5,
          5,
          2,
          5,
          3,
          6,
          6,
          2,
          6,
          5,
          4,
          2,
          10,
          9,
          6,
          8,
          10,
          9,
          5,
          7,
          1,
          1,
          4,
          6,
          3,
          1,
          4,
          6,
          1,
          4,
          10,
          9,
          5,
          6,
          3,
          9,
          9,
          6,
          7,
          3,
          2,
          10,
          6,
          3,
          9,
          10,
          8,
          6,
          2,
          10,
          10,
          9,
          7,
          7,
          5,
          10,
          7,
          2,
          5,
          7,
          4,
          4,
          4,
          2,
          3,
          4,
          2,
          4,
          3,
          4,
          3,
          5,
          10,
          5,
          6,
          7,
          1,
          3,
          3,
          3,
          3,
          9,
          5,
          2,
          1,
          1,
          10,
          6,
          7,
          4,
          7,
          4,
          1,
          2,
          1,
          9,
          3,
          1,
          10,
          9,
          6,
          5,
          6,
          6,
          3,
          1,
          7,
          10,
          1,
          2,
          2,
          10,
          3,
          1,
          10,
          3,
          2,
          3,
          3,
          10,
          7,
          1,
          5,
          3,
          3,
          8,
          2,
          8,
          5,
          9,
          6,
          1,
          2,
          10,
          5,
          6,
          10,
          9,
          4,
          3,
          1,
          3,
          5,
          1,
          3,
          7,
          6,
          10,
          2,
          4,
          3,
          4,
          6,
          2,
          10,
          2,
          3,
          8,
          10,
          2,
          7,
          4,
          10,
          6,
          1,
          1,
          6,
          2,
          6,
          2,
          2,
          10,
          2,
          3,
          9,
          7,
          10,
          7,
          9,
          5,
          4,
          4,
          9,
          10,
          8,
          3,
          10,
          9,
          9,
          7,
          4,
          1,
          8,
          3,
          6,
          4,
          9,
          9,
          8,
          5,
          7,
          3,
          3,
          6,
          7,
          9,
          3,
          7,
          4,
          8,
          3,
          10,
          4,
          7,
          4,
          3,
          1,
          7,
          1,
          10,
          7,
          10,
          8,
          9,
          7,
          1,
          2,
          2,
          8,
          1,
          10,
          5,
          9,
          7,
          4,
          5,
          10,
          5,
          3,
          8,
          8,
          6,
          10,
          4,
          10,
          10,
          8,
          5,
          4,
          8,
          3,
          6,
          4,
          6,
          4,
          7,
          7,
          1,
          2,
          5,
          7,
          1,
          5,
          9,
          8,
          4,
          1,
          8,
          5,
          7,
          8,
          5,
          3,
          7,
          1,
          4,
          10,
          7,
          2,
          2,
          1,
          10,
          1,
          5,
          6,
          8,
          7,
          9,
          9,
          4,
          2,
          4,
          1,
          10,
          8,
          10,
          5,
          1,
          8,
          8,
          7,
          8,
          4,
          5,
          4,
          2,
          1,
          3,
          7,
          4,
          9,
          3,
          10,
          10,
          8,
          4,
          8,
          1,
          7,
          1,
          5,
          6,
          10,
          6,
          3,
          1,
          2,
          2,
          1,
          3,
          1,
          1,
          9,
          6,
          1,
          2,
          7,
          10,
          5,
          9,
          8,
          4,
          6,
          9,
          1,
          2,
          9,
          7,
          3,
          3,
          8,
          2,
          3,
          4,
          7,
          1,
          10,
          6,
          4,
          8,
          1,
          1,
          8,
          8,
          10,
          8,
          10,
          6,
          2,
          7,
          1,
          10,
          8,
          10,
          5,
          8,
          5,
          5,
          6,
          8,
          7,
          6,
          7,
          9,
          9,
          4,
          5,
          7,
          2,
          4,
          10,
          5,
          2,
          10,
          3,
          4,
          8,
          8,
          3,
          6,
          1,
          4,
          3,
          3,
          9,
          6,
          2,
          7,
          6,
          4,
          1,
          9,
          9,
          2,
          6,
          2,
          10,
          7,
          6,
          3,
          7,
          5,
          3,
          6,
          4,
          9,
          10,
          5,
          7,
          7,
          2,
          1,
          5,
          8,
          3,
          3,
          4,
          4,
          6,
          7,
          9,
          6,
          10,
          9,
          1,
          2,
          1,
          3,
          2,
          2,
          9,
          3,
          3,
          5,
          10,
          7,
          7,
          3,
          2,
          2,
          4,
          6,
          1,
          1,
          4,
          4,
          9,
          7,
          7,
          5,
          2,
          8,
          10,
          8,
          5,
          10,
          2,
          10,
          1,
          1,
          10,
          1,
          1,
          7
         ],
         "yaxis": "y"
        }
       ],
       "layout": {
        "barmode": "relative",
        "legend": {
         "tracegroupgap": 0
        },
        "template": {
         "data": {
          "bar": [
           {
            "error_x": {
             "color": "#2a3f5f"
            },
            "error_y": {
             "color": "#2a3f5f"
            },
            "marker": {
             "line": {
              "color": "#E5ECF6",
              "width": 0.5
             },
             "pattern": {
              "fillmode": "overlay",
              "size": 10,
              "solidity": 0.2
             }
            },
            "type": "bar"
           }
          ],
          "barpolar": [
           {
            "marker": {
             "line": {
              "color": "#E5ECF6",
              "width": 0.5
             },
             "pattern": {
              "fillmode": "overlay",
              "size": 10,
              "solidity": 0.2
             }
            },
            "type": "barpolar"
           }
          ],
          "carpet": [
           {
            "aaxis": {
             "endlinecolor": "#2a3f5f",
             "gridcolor": "white",
             "linecolor": "white",
             "minorgridcolor": "white",
             "startlinecolor": "#2a3f5f"
            },
            "baxis": {
             "endlinecolor": "#2a3f5f",
             "gridcolor": "white",
             "linecolor": "white",
             "minorgridcolor": "white",
             "startlinecolor": "#2a3f5f"
            },
            "type": "carpet"
           }
          ],
          "choropleth": [
           {
            "colorbar": {
             "outlinewidth": 0,
             "ticks": ""
            },
            "type": "choropleth"
           }
          ],
          "contour": [
           {
            "colorbar": {
             "outlinewidth": 0,
             "ticks": ""
            },
            "colorscale": [
             [
              0,
              "#0d0887"
             ],
             [
              0.1111111111111111,
              "#46039f"
             ],
             [
              0.2222222222222222,
              "#7201a8"
             ],
             [
              0.3333333333333333,
              "#9c179e"
             ],
             [
              0.4444444444444444,
              "#bd3786"
             ],
             [
              0.5555555555555556,
              "#d8576b"
             ],
             [
              0.6666666666666666,
              "#ed7953"
             ],
             [
              0.7777777777777778,
              "#fb9f3a"
             ],
             [
              0.8888888888888888,
              "#fdca26"
             ],
             [
              1,
              "#f0f921"
             ]
            ],
            "type": "contour"
           }
          ],
          "contourcarpet": [
           {
            "colorbar": {
             "outlinewidth": 0,
             "ticks": ""
            },
            "type": "contourcarpet"
           }
          ],
          "heatmap": [
           {
            "colorbar": {
             "outlinewidth": 0,
             "ticks": ""
            },
            "colorscale": [
             [
              0,
              "#0d0887"
             ],
             [
              0.1111111111111111,
              "#46039f"
             ],
             [
              0.2222222222222222,
              "#7201a8"
             ],
             [
              0.3333333333333333,
              "#9c179e"
             ],
             [
              0.4444444444444444,
              "#bd3786"
             ],
             [
              0.5555555555555556,
              "#d8576b"
             ],
             [
              0.6666666666666666,
              "#ed7953"
             ],
             [
              0.7777777777777778,
              "#fb9f3a"
             ],
             [
              0.8888888888888888,
              "#fdca26"
             ],
             [
              1,
              "#f0f921"
             ]
            ],
            "type": "heatmap"
           }
          ],
          "heatmapgl": [
           {
            "colorbar": {
             "outlinewidth": 0,
             "ticks": ""
            },
            "colorscale": [
             [
              0,
              "#0d0887"
             ],
             [
              0.1111111111111111,
              "#46039f"
             ],
             [
              0.2222222222222222,
              "#7201a8"
             ],
             [
              0.3333333333333333,
              "#9c179e"
             ],
             [
              0.4444444444444444,
              "#bd3786"
             ],
             [
              0.5555555555555556,
              "#d8576b"
             ],
             [
              0.6666666666666666,
              "#ed7953"
             ],
             [
              0.7777777777777778,
              "#fb9f3a"
             ],
             [
              0.8888888888888888,
              "#fdca26"
             ],
             [
              1,
              "#f0f921"
             ]
            ],
            "type": "heatmapgl"
           }
          ],
          "histogram": [
           {
            "marker": {
             "pattern": {
              "fillmode": "overlay",
              "size": 10,
              "solidity": 0.2
             }
            },
            "type": "histogram"
           }
          ],
          "histogram2d": [
           {
            "colorbar": {
             "outlinewidth": 0,
             "ticks": ""
            },
            "colorscale": [
             [
              0,
              "#0d0887"
             ],
             [
              0.1111111111111111,
              "#46039f"
             ],
             [
              0.2222222222222222,
              "#7201a8"
             ],
             [
              0.3333333333333333,
              "#9c179e"
             ],
             [
              0.4444444444444444,
              "#bd3786"
             ],
             [
              0.5555555555555556,
              "#d8576b"
             ],
             [
              0.6666666666666666,
              "#ed7953"
             ],
             [
              0.7777777777777778,
              "#fb9f3a"
             ],
             [
              0.8888888888888888,
              "#fdca26"
             ],
             [
              1,
              "#f0f921"
             ]
            ],
            "type": "histogram2d"
           }
          ],
          "histogram2dcontour": [
           {
            "colorbar": {
             "outlinewidth": 0,
             "ticks": ""
            },
            "colorscale": [
             [
              0,
              "#0d0887"
             ],
             [
              0.1111111111111111,
              "#46039f"
             ],
             [
              0.2222222222222222,
              "#7201a8"
             ],
             [
              0.3333333333333333,
              "#9c179e"
             ],
             [
              0.4444444444444444,
              "#bd3786"
             ],
             [
              0.5555555555555556,
              "#d8576b"
             ],
             [
              0.6666666666666666,
              "#ed7953"
             ],
             [
              0.7777777777777778,
              "#fb9f3a"
             ],
             [
              0.8888888888888888,
              "#fdca26"
             ],
             [
              1,
              "#f0f921"
             ]
            ],
            "type": "histogram2dcontour"
           }
          ],
          "mesh3d": [
           {
            "colorbar": {
             "outlinewidth": 0,
             "ticks": ""
            },
            "type": "mesh3d"
           }
          ],
          "parcoords": [
           {
            "line": {
             "colorbar": {
              "outlinewidth": 0,
              "ticks": ""
             }
            },
            "type": "parcoords"
           }
          ],
          "pie": [
           {
            "automargin": true,
            "type": "pie"
           }
          ],
          "scatter": [
           {
            "fillpattern": {
             "fillmode": "overlay",
             "size": 10,
             "solidity": 0.2
            },
            "type": "scatter"
           }
          ],
          "scatter3d": [
           {
            "line": {
             "colorbar": {
              "outlinewidth": 0,
              "ticks": ""
             }
            },
            "marker": {
             "colorbar": {
              "outlinewidth": 0,
              "ticks": ""
             }
            },
            "type": "scatter3d"
           }
          ],
          "scattercarpet": [
           {
            "marker": {
             "colorbar": {
              "outlinewidth": 0,
              "ticks": ""
             }
            },
            "type": "scattercarpet"
           }
          ],
          "scattergeo": [
           {
            "marker": {
             "colorbar": {
              "outlinewidth": 0,
              "ticks": ""
             }
            },
            "type": "scattergeo"
           }
          ],
          "scattergl": [
           {
            "marker": {
             "colorbar": {
              "outlinewidth": 0,
              "ticks": ""
             }
            },
            "type": "scattergl"
           }
          ],
          "scattermapbox": [
           {
            "marker": {
             "colorbar": {
              "outlinewidth": 0,
              "ticks": ""
             }
            },
            "type": "scattermapbox"
           }
          ],
          "scatterpolar": [
           {
            "marker": {
             "colorbar": {
              "outlinewidth": 0,
              "ticks": ""
             }
            },
            "type": "scatterpolar"
           }
          ],
          "scatterpolargl": [
           {
            "marker": {
             "colorbar": {
              "outlinewidth": 0,
              "ticks": ""
             }
            },
            "type": "scatterpolargl"
           }
          ],
          "scatterternary": [
           {
            "marker": {
             "colorbar": {
              "outlinewidth": 0,
              "ticks": ""
             }
            },
            "type": "scatterternary"
           }
          ],
          "surface": [
           {
            "colorbar": {
             "outlinewidth": 0,
             "ticks": ""
            },
            "colorscale": [
             [
              0,
              "#0d0887"
             ],
             [
              0.1111111111111111,
              "#46039f"
             ],
             [
              0.2222222222222222,
              "#7201a8"
             ],
             [
              0.3333333333333333,
              "#9c179e"
             ],
             [
              0.4444444444444444,
              "#bd3786"
             ],
             [
              0.5555555555555556,
              "#d8576b"
             ],
             [
              0.6666666666666666,
              "#ed7953"
             ],
             [
              0.7777777777777778,
              "#fb9f3a"
             ],
             [
              0.8888888888888888,
              "#fdca26"
             ],
             [
              1,
              "#f0f921"
             ]
            ],
            "type": "surface"
           }
          ],
          "table": [
           {
            "cells": {
             "fill": {
              "color": "#EBF0F8"
             },
             "line": {
              "color": "white"
             }
            },
            "header": {
             "fill": {
              "color": "#C8D4E3"
             },
             "line": {
              "color": "white"
             }
            },
            "type": "table"
           }
          ]
         },
         "layout": {
          "annotationdefaults": {
           "arrowcolor": "#2a3f5f",
           "arrowhead": 0,
           "arrowwidth": 1
          },
          "autotypenumbers": "strict",
          "coloraxis": {
           "colorbar": {
            "outlinewidth": 0,
            "ticks": ""
           }
          },
          "colorscale": {
           "diverging": [
            [
             0,
             "#8e0152"
            ],
            [
             0.1,
             "#c51b7d"
            ],
            [
             0.2,
             "#de77ae"
            ],
            [
             0.3,
             "#f1b6da"
            ],
            [
             0.4,
             "#fde0ef"
            ],
            [
             0.5,
             "#f7f7f7"
            ],
            [
             0.6,
             "#e6f5d0"
            ],
            [
             0.7,
             "#b8e186"
            ],
            [
             0.8,
             "#7fbc41"
            ],
            [
             0.9,
             "#4d9221"
            ],
            [
             1,
             "#276419"
            ]
           ],
           "sequential": [
            [
             0,
             "#0d0887"
            ],
            [
             0.1111111111111111,
             "#46039f"
            ],
            [
             0.2222222222222222,
             "#7201a8"
            ],
            [
             0.3333333333333333,
             "#9c179e"
            ],
            [
             0.4444444444444444,
             "#bd3786"
            ],
            [
             0.5555555555555556,
             "#d8576b"
            ],
            [
             0.6666666666666666,
             "#ed7953"
            ],
            [
             0.7777777777777778,
             "#fb9f3a"
            ],
            [
             0.8888888888888888,
             "#fdca26"
            ],
            [
             1,
             "#f0f921"
            ]
           ],
           "sequentialminus": [
            [
             0,
             "#0d0887"
            ],
            [
             0.1111111111111111,
             "#46039f"
            ],
            [
             0.2222222222222222,
             "#7201a8"
            ],
            [
             0.3333333333333333,
             "#9c179e"
            ],
            [
             0.4444444444444444,
             "#bd3786"
            ],
            [
             0.5555555555555556,
             "#d8576b"
            ],
            [
             0.6666666666666666,
             "#ed7953"
            ],
            [
             0.7777777777777778,
             "#fb9f3a"
            ],
            [
             0.8888888888888888,
             "#fdca26"
            ],
            [
             1,
             "#f0f921"
            ]
           ]
          },
          "colorway": [
           "#636efa",
           "#EF553B",
           "#00cc96",
           "#ab63fa",
           "#FFA15A",
           "#19d3f3",
           "#FF6692",
           "#B6E880",
           "#FF97FF",
           "#FECB52"
          ],
          "font": {
           "color": "#2a3f5f"
          },
          "geo": {
           "bgcolor": "white",
           "lakecolor": "white",
           "landcolor": "#E5ECF6",
           "showlakes": true,
           "showland": true,
           "subunitcolor": "white"
          },
          "hoverlabel": {
           "align": "left"
          },
          "hovermode": "closest",
          "mapbox": {
           "style": "light"
          },
          "paper_bgcolor": "white",
          "plot_bgcolor": "#E5ECF6",
          "polar": {
           "angularaxis": {
            "gridcolor": "white",
            "linecolor": "white",
            "ticks": ""
           },
           "bgcolor": "#E5ECF6",
           "radialaxis": {
            "gridcolor": "white",
            "linecolor": "white",
            "ticks": ""
           }
          },
          "scene": {
           "xaxis": {
            "backgroundcolor": "#E5ECF6",
            "gridcolor": "white",
            "gridwidth": 2,
            "linecolor": "white",
            "showbackground": true,
            "ticks": "",
            "zerolinecolor": "white"
           },
           "yaxis": {
            "backgroundcolor": "#E5ECF6",
            "gridcolor": "white",
            "gridwidth": 2,
            "linecolor": "white",
            "showbackground": true,
            "ticks": "",
            "zerolinecolor": "white"
           },
           "zaxis": {
            "backgroundcolor": "#E5ECF6",
            "gridcolor": "white",
            "gridwidth": 2,
            "linecolor": "white",
            "showbackground": true,
            "ticks": "",
            "zerolinecolor": "white"
           }
          },
          "shapedefaults": {
           "line": {
            "color": "#2a3f5f"
           }
          },
          "ternary": {
           "aaxis": {
            "gridcolor": "white",
            "linecolor": "white",
            "ticks": ""
           },
           "baxis": {
            "gridcolor": "white",
            "linecolor": "white",
            "ticks": ""
           },
           "bgcolor": "#E5ECF6",
           "caxis": {
            "gridcolor": "white",
            "linecolor": "white",
            "ticks": ""
           }
          },
          "title": {
           "x": 0.05
          },
          "xaxis": {
           "automargin": true,
           "gridcolor": "white",
           "linecolor": "white",
           "ticks": "",
           "title": {
            "standoff": 15
           },
           "zerolinecolor": "white",
           "zerolinewidth": 2
          },
          "yaxis": {
           "automargin": true,
           "gridcolor": "white",
           "linecolor": "white",
           "ticks": "",
           "title": {
            "standoff": 15
           },
           "zerolinecolor": "white",
           "zerolinewidth": 2
          }
         }
        },
        "title": {
         "text": "<b>The best selling product </b>.."
        },
        "xaxis": {
         "anchor": "y",
         "domain": [
          0,
          1
         ],
         "title": {
          "text": "Product line"
         }
        },
        "yaxis": {
         "anchor": "x",
         "domain": [
          0,
          1
         ],
         "showgrid": false,
         "title": {
          "text": "sum of Quantity"
         }
        }
       }
      }
     },
     "metadata": {},
     "output_type": "display_data"
    }
   ],
   "source": [
    "fig=px.histogram(df,x='Product line',y='Quantity',\n",
    "                color_discrete_sequence=['#6E2C00'],\n",
    "                text_auto=True, title='<b>The best selling product </b>..')\n",
    "\n",
    "\n",
    "\n",
    "\n",
    "\n",
    "fig.update_yaxes(showgrid=False)\n",
    "\n",
    "fig.show()"
   ]
  },
  {
   "cell_type": "markdown",
   "metadata": {},
   "source": [
    "самый высокий процент продаж приходится на электронные аксессуары (Electronic accessories)"
   ]
  },
  {
   "cell_type": "code",
   "execution_count": 19,
   "metadata": {},
   "outputs": [
    {
     "data": {
      "image/png": "[encoded data removed]",
      "text/plain": [
       "<Figure size 640x480 with 1 Axes>"
      ]
     },
     "metadata": {},
     "output_type": "display_data"
    }
   ],
   "source": [
    "pie('Payment')"
   ]
  },
  {
   "cell_type": "markdown",
   "metadata": {},
   "source": [
    "Клиенты предпочитали электронные кошельки, наличные платежи"
   ]
  },
  {
   "cell_type": "code",
   "execution_count": 30,
   "metadata": {},
   "outputs": [],
   "source": [
    "df_gr = df.groupby('Product line').sum().reset_index()\n",
    "df_gr = df_gr[['Product line', 'Unit price']]"
   ]
  },
  {
   "cell_type": "code",
   "execution_count": 45,
   "metadata": {},
   "outputs": [
    {
     "data": {
      "application/vnd.plotly.v1+json": {
       "config": {
        "plotlyServerURL": "https://plot.ly"
       },
       "data": [
        {
         "alignmentgroup": "True",
         "bingroup": "x",
         "histfunc": "sum",
         "hovertemplate": "Product line=%{x}<br>sum of Unit price=%{y}<extra></extra>",
         "legendgroup": "Electronic accessories",
         "marker": {
          "color": "#636efa",
          "opacity": 0.8,
          "pattern": {
           "shape": ""
          }
         },
         "name": "Electronic accessories",
         "nbinsx": 5,
         "offsetgroup": "Electronic accessories",
         "orientation": "v",
         "showlegend": true,
         "texttemplate": "%{value}",
         "type": "histogram",
         "x": [
          "Electronic accessories"
         ],
         "xaxis": "x",
         "y": [
          9103.77
         ],
         "yaxis": "y"
        },
        {
         "alignmentgroup": "True",
         "bingroup": "x",
         "histfunc": "sum",
         "hovertemplate": "Product line=%{x}<br>sum of Unit price=%{y}<extra></extra>",
         "legendgroup": "Fashion accessories",
         "marker": {
          "color": "#EF553B",
          "opacity": 0.8,
          "pattern": {
           "shape": ""
          }
         },
         "name": "Fashion accessories",
         "nbinsx": 5,
         "offsetgroup": "Fashion accessories",
         "orientation": "v",
         "showlegend": true,
         "texttemplate": "%{value}",
         "type": "histogram",
         "x": [
          "Fashion accessories"
         ],
         "xaxis": "x",
         "y": [
          10173.35
         ],
         "yaxis": "y"
        },
        {
         "alignmentgroup": "True",
         "bingroup": "x",
         "histfunc": "sum",
         "hovertemplate": "Product line=%{x}<br>sum of Unit price=%{y}<extra></extra>",
         "legendgroup": "Food and beverages",
         "marker": {
          "color": "#00cc96",
          "opacity": 0.8,
          "pattern": {
           "shape": ""
          }
         },
         "name": "Food and beverages",
         "nbinsx": 5,
         "offsetgroup": "Food and beverages",
         "orientation": "v",
         "showlegend": true,
         "texttemplate": "%{value}",
         "type": "histogram",
         "x": [
          "Food and beverages"
         ],
         "xaxis": "x",
         "y": [
          9745.54
         ],
         "yaxis": "y"
        },
        {
         "alignmentgroup": "True",
         "bingroup": "x",
         "histfunc": "sum",
         "hovertemplate": "Product line=%{x}<br>sum of Unit price=%{y}<extra></extra>",
         "legendgroup": "Health and beauty",
         "marker": {
          "color": "#ab63fa",
          "opacity": 0.8,
          "pattern": {
           "shape": ""
          }
         },
         "name": "Health and beauty",
         "nbinsx": 5,
         "offsetgroup": "Health and beauty",
         "orientation": "v",
         "showlegend": true,
         "texttemplate": "%{value}",
         "type": "histogram",
         "x": [
          "Health and beauty"
         ],
         "xaxis": "x",
         "y": [
          8337.88
         ],
         "yaxis": "y"
        },
        {
         "alignmentgroup": "True",
         "bingroup": "x",
         "histfunc": "sum",
         "hovertemplate": "Product line=%{x}<br>sum of Unit price=%{y}<extra></extra>",
         "legendgroup": "Home and lifestyle",
         "marker": {
          "color": "#FFA15A",
          "opacity": 0.8,
          "pattern": {
           "shape": ""
          }
         },
         "name": "Home and lifestyle",
         "nbinsx": 5,
         "offsetgroup": "Home and lifestyle",
         "orientation": "v",
         "showlegend": true,
         "texttemplate": "%{value}",
         "type": "histogram",
         "x": [
          "Home and lifestyle"
         ],
         "xaxis": "x",
         "y": [
          8850.71
         ],
         "yaxis": "y"
        },
        {
         "alignmentgroup": "True",
         "bingroup": "x",
         "histfunc": "sum",
         "hovertemplate": "Product line=%{x}<br>sum of Unit price=%{y}<extra></extra>",
         "legendgroup": "Sports and travel",
         "marker": {
          "color": "#19d3f3",
          "opacity": 0.8,
          "pattern": {
           "shape": ""
          }
         },
         "name": "Sports and travel",
         "nbinsx": 5,
         "offsetgroup": "Sports and travel",
         "orientation": "v",
         "showlegend": true,
         "texttemplate": "%{value}",
         "type": "histogram",
         "x": [
          "Sports and travel"
         ],
         "xaxis": "x",
         "y": [
          9460.88
         ],
         "yaxis": "y"
        }
       ],
       "layout": {
        "barmode": "relative",
        "legend": {
         "title": {
          "text": "Product line"
         },
         "tracegroupgap": 0
        },
        "template": {
         "data": {
          "bar": [
           {
            "error_x": {
             "color": "#2a3f5f"
            },
            "error_y": {
             "color": "#2a3f5f"
            },
            "marker": {
             "line": {
              "color": "#E5ECF6",
              "width": 0.5
             },
             "pattern": {
              "fillmode": "overlay",
              "size": 10,
              "solidity": 0.2
             }
            },
            "type": "bar"
           }
          ],
          "barpolar": [
           {
            "marker": {
             "line": {
              "color": "#E5ECF6",
              "width": 0.5
             },
             "pattern": {
              "fillmode": "overlay",
              "size": 10,
              "solidity": 0.2
             }
            },
            "type": "barpolar"
           }
          ],
          "carpet": [
           {
            "aaxis": {
             "endlinecolor": "#2a3f5f",
             "gridcolor": "white",
             "linecolor": "white",
             "minorgridcolor": "white",
             "startlinecolor": "#2a3f5f"
            },
            "baxis": {
             "endlinecolor": "#2a3f5f",
             "gridcolor": "white",
             "linecolor": "white",
             "minorgridcolor": "white",
             "startlinecolor": "#2a3f5f"
            },
            "type": "carpet"
           }
          ],
          "choropleth": [
           {
            "colorbar": {
             "outlinewidth": 0,
             "ticks": ""
            },
            "type": "choropleth"
           }
          ],
          "contour": [
           {
            "colorbar": {
             "outlinewidth": 0,
             "ticks": ""
            },
            "colorscale": [
             [
              0,
              "#0d0887"
             ],
             [
              0.1111111111111111,
              "#46039f"
             ],
             [
              0.2222222222222222,
              "#7201a8"
             ],
             [
              0.3333333333333333,
              "#9c179e"
             ],
             [
              0.4444444444444444,
              "#bd3786"
             ],
             [
              0.5555555555555556,
              "#d8576b"
             ],
             [
              0.6666666666666666,
              "#ed7953"
             ],
             [
              0.7777777777777778,
              "#fb9f3a"
             ],
             [
              0.8888888888888888,
              "#fdca26"
             ],
             [
              1,
              "#f0f921"
             ]
            ],
            "type": "contour"
           }
          ],
          "contourcarpet": [
           {
            "colorbar": {
             "outlinewidth": 0,
             "ticks": ""
            },
            "type": "contourcarpet"
           }
          ],
          "heatmap": [
           {
            "colorbar": {
             "outlinewidth": 0,
             "ticks": ""
            },
            "colorscale": [
             [
              0,
              "#0d0887"
             ],
             [
              0.1111111111111111,
              "#46039f"
             ],
             [
              0.2222222222222222,
              "#7201a8"
             ],
             [
              0.3333333333333333,
              "#9c179e"
             ],
             [
              0.4444444444444444,
              "#bd3786"
             ],
             [
              0.5555555555555556,
              "#d8576b"
             ],
             [
              0.6666666666666666,
              "#ed7953"
             ],
             [
              0.7777777777777778,
              "#fb9f3a"
             ],
             [
              0.8888888888888888,
              "#fdca26"
             ],
             [
              1,
              "#f0f921"
             ]
            ],
            "type": "heatmap"
           }
          ],
          "heatmapgl": [
           {
            "colorbar": {
             "outlinewidth": 0,
             "ticks": ""
            },
            "colorscale": [
             [
              0,
              "#0d0887"
             ],
             [
              0.1111111111111111,
              "#46039f"
             ],
             [
              0.2222222222222222,
              "#7201a8"
             ],
             [
              0.3333333333333333,
              "#9c179e"
             ],
             [
              0.4444444444444444,
              "#bd3786"
             ],
             [
              0.5555555555555556,
              "#d8576b"
             ],
             [
              0.6666666666666666,
              "#ed7953"
             ],
             [
              0.7777777777777778,
              "#fb9f3a"
             ],
             [
              0.8888888888888888,
              "#fdca26"
             ],
             [
              1,
              "#f0f921"
             ]
            ],
            "type": "heatmapgl"
           }
          ],
          "histogram": [
           {
            "marker": {
             "pattern": {
              "fillmode": "overlay",
              "size": 10,
              "solidity": 0.2
             }
            },
            "type": "histogram"
           }
          ],
          "histogram2d": [
           {
            "colorbar": {
             "outlinewidth": 0,
             "ticks": ""
            },
            "colorscale": [
             [
              0,
              "#0d0887"
             ],
             [
              0.1111111111111111,
              "#46039f"
             ],
             [
              0.2222222222222222,
              "#7201a8"
             ],
             [
              0.3333333333333333,
              "#9c179e"
             ],
             [
              0.4444444444444444,
              "#bd3786"
             ],
             [
              0.5555555555555556,
              "#d8576b"
             ],
             [
              0.6666666666666666,
              "#ed7953"
             ],
             [
              0.7777777777777778,
              "#fb9f3a"
             ],
             [
              0.8888888888888888,
              "#fdca26"
             ],
             [
              1,
              "#f0f921"
             ]
            ],
            "type": "histogram2d"
           }
          ],
          "histogram2dcontour": [
           {
            "colorbar": {
             "outlinewidth": 0,
             "ticks": ""
            },
            "colorscale": [
             [
              0,
              "#0d0887"
             ],
             [
              0.1111111111111111,
              "#46039f"
             ],
             [
              0.2222222222222222,
              "#7201a8"
             ],
             [
              0.3333333333333333,
              "#9c179e"
             ],
             [
              0.4444444444444444,
              "#bd3786"
             ],
             [
              0.5555555555555556,
              "#d8576b"
             ],
             [
              0.6666666666666666,
              "#ed7953"
             ],
             [
              0.7777777777777778,
              "#fb9f3a"
             ],
             [
              0.8888888888888888,
              "#fdca26"
             ],
             [
              1,
              "#f0f921"
             ]
            ],
            "type": "histogram2dcontour"
           }
          ],
          "mesh3d": [
           {
            "colorbar": {
             "outlinewidth": 0,
             "ticks": ""
            },
            "type": "mesh3d"
           }
          ],
          "parcoords": [
           {
            "line": {
             "colorbar": {
              "outlinewidth": 0,
              "ticks": ""
             }
            },
            "type": "parcoords"
           }
          ],
          "pie": [
           {
            "automargin": true,
            "type": "pie"
           }
          ],
          "scatter": [
           {
            "fillpattern": {
             "fillmode": "overlay",
             "size": 10,
             "solidity": 0.2
            },
            "type": "scatter"
           }
          ],
          "scatter3d": [
           {
            "line": {
             "colorbar": {
              "outlinewidth": 0,
              "ticks": ""
             }
            },
            "marker": {
             "colorbar": {
              "outlinewidth": 0,
              "ticks": ""
             }
            },
            "type": "scatter3d"
           }
          ],
          "scattercarpet": [
           {
            "marker": {
             "colorbar": {
              "outlinewidth": 0,
              "ticks": ""
             }
            },
            "type": "scattercarpet"
           }
          ],
          "scattergeo": [
           {
            "marker": {
             "colorbar": {
              "outlinewidth": 0,
              "ticks": ""
             }
            },
            "type": "scattergeo"
           }
          ],
          "scattergl": [
           {
            "marker": {
             "colorbar": {
              "outlinewidth": 0,
              "ticks": ""
             }
            },
            "type": "scattergl"
           }
          ],
          "scattermapbox": [
           {
            "marker": {
             "colorbar": {
              "outlinewidth": 0,
              "ticks": ""
             }
            },
            "type": "scattermapbox"
           }
          ],
          "scatterpolar": [
           {
            "marker": {
             "colorbar": {
              "outlinewidth": 0,
              "ticks": ""
             }
            },
            "type": "scatterpolar"
           }
          ],
          "scatterpolargl": [
           {
            "marker": {
             "colorbar": {
              "outlinewidth": 0,
              "ticks": ""
             }
            },
            "type": "scatterpolargl"
           }
          ],
          "scatterternary": [
           {
            "marker": {
             "colorbar": {
              "outlinewidth": 0,
              "ticks": ""
             }
            },
            "type": "scatterternary"
           }
          ],
          "surface": [
           {
            "colorbar": {
             "outlinewidth": 0,
             "ticks": ""
            },
            "colorscale": [
             [
              0,
              "#0d0887"
             ],
             [
              0.1111111111111111,
              "#46039f"
             ],
             [
              0.2222222222222222,
              "#7201a8"
             ],
             [
              0.3333333333333333,
              "#9c179e"
             ],
             [
              0.4444444444444444,
              "#bd3786"
             ],
             [
              0.5555555555555556,
              "#d8576b"
             ],
             [
              0.6666666666666666,
              "#ed7953"
             ],
             [
              0.7777777777777778,
              "#fb9f3a"
             ],
             [
              0.8888888888888888,
              "#fdca26"
             ],
             [
              1,
              "#f0f921"
             ]
            ],
            "type": "surface"
           }
          ],
          "table": [
           {
            "cells": {
             "fill": {
              "color": "#EBF0F8"
             },
             "line": {
              "color": "white"
             }
            },
            "header": {
             "fill": {
              "color": "#C8D4E3"
             },
             "line": {
              "color": "white"
             }
            },
            "type": "table"
           }
          ]
         },
         "layout": {
          "annotationdefaults": {
           "arrowcolor": "#2a3f5f",
           "arrowhead": 0,
           "arrowwidth": 1
          },
          "autotypenumbers": "strict",
          "coloraxis": {
           "colorbar": {
            "outlinewidth": 0,
            "ticks": ""
           }
          },
          "colorscale": {
           "diverging": [
            [
             0,
             "#8e0152"
            ],
            [
             0.1,
             "#c51b7d"
            ],
            [
             0.2,
             "#de77ae"
            ],
            [
             0.3,
             "#f1b6da"
            ],
            [
             0.4,
             "#fde0ef"
            ],
            [
             0.5,
             "#f7f7f7"
            ],
            [
             0.6,
             "#e6f5d0"
            ],
            [
             0.7,
             "#b8e186"
            ],
            [
             0.8,
             "#7fbc41"
            ],
            [
             0.9,
             "#4d9221"
            ],
            [
             1,
             "#276419"
            ]
           ],
           "sequential": [
            [
             0,
             "#0d0887"
            ],
            [
             0.1111111111111111,
             "#46039f"
            ],
            [
             0.2222222222222222,
             "#7201a8"
            ],
            [
             0.3333333333333333,
             "#9c179e"
            ],
            [
             0.4444444444444444,
             "#bd3786"
            ],
            [
             0.5555555555555556,
             "#d8576b"
            ],
            [
             0.6666666666666666,
             "#ed7953"
            ],
            [
             0.7777777777777778,
             "#fb9f3a"
            ],
            [
             0.8888888888888888,
             "#fdca26"
            ],
            [
             1,
             "#f0f921"
            ]
           ],
           "sequentialminus": [
            [
             0,
             "#0d0887"
            ],
            [
             0.1111111111111111,
             "#46039f"
            ],
            [
             0.2222222222222222,
             "#7201a8"
            ],
            [
             0.3333333333333333,
             "#9c179e"
            ],
            [
             0.4444444444444444,
             "#bd3786"
            ],
            [
             0.5555555555555556,
             "#d8576b"
            ],
            [
             0.6666666666666666,
             "#ed7953"
            ],
            [
             0.7777777777777778,
             "#fb9f3a"
            ],
            [
             0.8888888888888888,
             "#fdca26"
            ],
            [
             1,
             "#f0f921"
            ]
           ]
          },
          "colorway": [
           "#636efa",
           "#EF553B",
           "#00cc96",
           "#ab63fa",
           "#FFA15A",
           "#19d3f3",
           "#FF6692",
           "#B6E880",
           "#FF97FF",
           "#FECB52"
          ],
          "font": {
           "color": "#2a3f5f"
          },
          "geo": {
           "bgcolor": "white",
           "lakecolor": "white",
           "landcolor": "#E5ECF6",
           "showlakes": true,
           "showland": true,
           "subunitcolor": "white"
          },
          "hoverlabel": {
           "align": "left"
          },
          "hovermode": "closest",
          "mapbox": {
           "style": "light"
          },
          "paper_bgcolor": "white",
          "plot_bgcolor": "#E5ECF6",
          "polar": {
           "angularaxis": {
            "gridcolor": "white",
            "linecolor": "white",
            "ticks": ""
           },
           "bgcolor": "#E5ECF6",
           "radialaxis": {
            "gridcolor": "white",
            "linecolor": "white",
            "ticks": ""
           }
          },
          "scene": {
           "xaxis": {
            "backgroundcolor": "#E5ECF6",
            "gridcolor": "white",
            "gridwidth": 2,
            "linecolor": "white",
            "showbackground": true,
            "ticks": "",
            "zerolinecolor": "white"
           },
           "yaxis": {
            "backgroundcolor": "#E5ECF6",
            "gridcolor": "white",
            "gridwidth": 2,
            "linecolor": "white",
            "showbackground": true,
            "ticks": "",
            "zerolinecolor": "white"
           },
           "zaxis": {
            "backgroundcolor": "#E5ECF6",
            "gridcolor": "white",
            "gridwidth": 2,
            "linecolor": "white",
            "showbackground": true,
            "ticks": "",
            "zerolinecolor": "white"
           }
          },
          "shapedefaults": {
           "line": {
            "color": "#2a3f5f"
           }
          },
          "ternary": {
           "aaxis": {
            "gridcolor": "white",
            "linecolor": "white",
            "ticks": ""
           },
           "baxis": {
            "gridcolor": "white",
            "linecolor": "white",
            "ticks": ""
           },
           "bgcolor": "#E5ECF6",
           "caxis": {
            "gridcolor": "white",
            "linecolor": "white",
            "ticks": ""
           }
          },
          "title": {
           "x": 0.05
          },
          "xaxis": {
           "automargin": true,
           "gridcolor": "white",
           "linecolor": "white",
           "ticks": "",
           "title": {
            "standoff": 15
           },
           "zerolinecolor": "white",
           "zerolinewidth": 2
          },
          "yaxis": {
           "automargin": true,
           "gridcolor": "white",
           "linecolor": "white",
           "ticks": "",
           "title": {
            "standoff": 15
           },
           "zerolinecolor": "white",
           "zerolinewidth": 2
          }
         }
        },
        "title": {
         "text": "Distribution of product line according to unit price"
        },
        "xaxis": {
         "anchor": "y",
         "categoryarray": [
          "Electronic accessories",
          "Fashion accessories",
          "Food and beverages",
          "Health and beauty",
          "Home and lifestyle",
          "Sports and travel"
         ],
         "categoryorder": "array",
         "domain": [
          0,
          1
         ],
         "title": {
          "text": "Product line"
         }
        },
        "yaxis": {
         "anchor": "x",
         "domain": [
          0,
          1
         ],
         "title": {
          "text": "sum of Unit price"
         }
        }
       }
      }
     },
     "metadata": {},
     "output_type": "display_data"
    }
   ],
   "source": [
    "fig=px.histogram(df_gr,x='Product line',y='Unit price',\n",
    "                color='Product line',nbins=5,\n",
    "                text_auto=True,opacity=.8, title='Distribution of product line according to unit price')\n",
    "\n",
    "\n",
    "fig.show()"
   ]
  },
  {
   "cell_type": "code",
   "execution_count": 67,
   "metadata": {},
   "outputs": [
    {
     "data": {
      "image/png": "[encoded data removed]",
      "text/plain": [
       "<Figure size 640x480 with 2 Axes>"
      ]
     },
     "metadata": {},
     "output_type": "display_data"
    }
   ],
   "source": [
    "plt.subplot(1, 2, 1)\n",
    "df[['Product line']][(df['Gender']=='Female')].value_counts().plot(kind='bar',color='pink',title='Interests of women')\n",
    "plt.xticks(rotation = -45)\n",
    "plt.subplot(1, 2, 2)\n",
    "df[['Product line','Gender']][(df['Gender']=='Male')].value_counts().plot(kind='bar',title='Interests of men')\n",
    "plt.axis([None, None, 0, 100])\n",
    "plt.xticks(rotation = -45)\n",
    "plt.show()"
   ]
  },
  {
   "cell_type": "code",
   "execution_count": 72,
   "metadata": {},
   "outputs": [
    {
     "data": {
      "image/png": "[encoded data removed]",
      "text/plain": [
       "<Figure size 500x500 with 1 Axes>"
      ]
     },
     "metadata": {},
     "output_type": "display_data"
    }
   ],
   "source": [
    "sns.catplot(data=df, y='Rating', kind = \"box\")\n",
    "plt.show();"
   ]
  },
  {
   "cell_type": "markdown",
   "metadata": {},
   "source": [
    "Средняя оценка по продуктам составляет примерно 7"
   ]
  },
  {
   "cell_type": "code",
   "execution_count": 75,
   "metadata": {},
   "outputs": [
    {
     "data": {
      "image/png": "[encoded data removed]",
      "text/plain": [
       "<Figure size 500x500 with 1 Axes>"
      ]
     },
     "metadata": {},
     "output_type": "display_data"
    }
   ],
   "source": [
    "sns.catplot(data=df, y='gross income', x='Branch', kind = \"box\")\n",
    "plt.show();"
   ]
  },
  {
   "cell_type": "markdown",
   "metadata": {},
   "source": [
    "Филиал C немного выделяется более высоким доходом по сравнению с филиалами A и B. Несмотря на то, что в филиале A продажи немного выше, именно филиал C является наиболее прибыльным филиалом с точки зрения валового дохода"
   ]
  },
  {
   "cell_type": "code",
   "execution_count": 78,
   "metadata": {},
   "outputs": [
    {
     "data": {
      "application/vnd.plotly.v1+json": {
       "config": {
        "plotlyServerURL": "https://plot.ly"
       },
       "data": [
        {
         "customdata": [
          [
           7,
           "Female"
          ],
          [
           5,
           "Female"
          ],
          [
           7,
           "Male"
          ],
          [
           8,
           "Male"
          ],
          [
           7,
           "Male"
          ],
          [
           7,
           "Male"
          ],
          [
           6,
           "Female"
          ],
          [
           10,
           "Female"
          ],
          [
           2,
           "Female"
          ],
          [
           3,
           "Female"
          ],
          [
           4,
           "Female"
          ],
          [
           4,
           "Male"
          ],
          [
           5,
           "Female"
          ],
          [
           10,
           "Male"
          ],
          [
           10,
           "Female"
          ],
          [
           6,
           "Female"
          ],
          [
           7,
           "Female"
          ],
          [
           6,
           "Male"
          ],
          [
           3,
           "Male"
          ],
          [
           2,
           "Female"
          ],
          [
           5,
           "Male"
          ],
          [
           3,
           "Male"
          ],
          [
           2,
           "Male"
          ],
          [
           5,
           "Male"
          ],
          [
           3,
           "Male"
          ],
          [
           8,
           "Female"
          ],
          [
           1,
           "Male"
          ],
          [
           2,
           "Female"
          ],
          [
           5,
           "Female"
          ],
          [
           9,
           "Male"
          ],
          [
           5,
           "Male"
          ],
          [
           9,
           "Male"
          ],
          [
           8,
           "Male"
          ],
          [
           2,
           "Male"
          ],
          [
           4,
           "Female"
          ],
          [
           1,
           "Female"
          ],
          [
           5,
           "Male"
          ],
          [
           9,
           "Female"
          ],
          [
           8,
           "Female"
          ],
          [
           8,
           "Male"
          ],
          [
           1,
           "Female"
          ],
          [
           2,
           "Male"
          ],
          [
           6,
           "Female"
          ],
          [
           8,
           "Female"
          ],
          [
           2,
           "Male"
          ],
          [
           4,
           "Female"
          ],
          [
           9,
           "Male"
          ],
          [
           9,
           "Female"
          ],
          [
           6,
           "Male"
          ],
          [
           10,
           "Female"
          ],
          [
           7,
           "Male"
          ],
          [
           5,
           "Female"
          ],
          [
           4,
           "Female"
          ],
          [
           1,
           "Male"
          ],
          [
           2,
           "Male"
          ],
          [
           8,
           "Female"
          ],
          [
           2,
           "Male"
          ],
          [
           8,
           "Male"
          ],
          [
           10,
           "Female"
          ],
          [
           6,
           "Male"
          ],
          [
           3,
           "Female"
          ],
          [
           6,
           "Male"
          ],
          [
           9,
           "Female"
          ],
          [
           10,
           "Male"
          ],
          [
           4,
           "Male"
          ],
          [
           10,
           "Male"
          ],
          [
           2,
           "Female"
          ],
          [
           6,
           "Female"
          ],
          [
           10,
           "Male"
          ],
          [
           1,
           "Female"
          ],
          [
           10,
           "Male"
          ],
          [
           10,
           "Male"
          ],
          [
           3,
           "Female"
          ],
          [
           6,
           "Female"
          ],
          [
           9,
           "Male"
          ],
          [
           10,
           "Female"
          ],
          [
           9,
           "Male"
          ],
          [
           9,
           "Female"
          ],
          [
           10,
           "Female"
          ],
          [
           5,
           "Female"
          ],
          [
           6,
           "Female"
          ],
          [
           3,
           "Female"
          ],
          [
           8,
           "Male"
          ],
          [
           4,
           "Female"
          ],
          [
           5,
           "Male"
          ],
          [
           7,
           "Female"
          ],
          [
           5,
           "Male"
          ],
          [
           7,
           "Male"
          ],
          [
           1,
           "Male"
          ],
          [
           6,
           "Female"
          ],
          [
           4,
           "Female"
          ],
          [
           10,
           "Female"
          ],
          [
           7,
           "Female"
          ],
          [
           9,
           "Male"
          ],
          [
           1,
           "Male"
          ],
          [
           1,
           "Male"
          ],
          [
           10,
           "Male"
          ],
          [
           6,
           "Female"
          ],
          [
           3,
           "Male"
          ],
          [
           6,
           "Male"
          ],
          [
           1,
           "Male"
          ],
          [
           9,
           "Male"
          ],
          [
           9,
           "Female"
          ],
          [
           6,
           "Male"
          ],
          [
           7,
           "Male"
          ],
          [
           10,
           "Male"
          ],
          [
           6,
           "Male"
          ],
          [
           6,
           "Male"
          ],
          [
           9,
           "Female"
          ],
          [
           10,
           "Male"
          ],
          [
           2,
           "Female"
          ],
          [
           3,
           "Female"
          ],
          [
           7,
           "Female"
          ],
          [
           9,
           "Male"
          ],
          [
           9,
           "Female"
          ],
          [
           3,
           "Female"
          ],
          [
           5,
           "Male"
          ],
          [
           1,
           "Male"
          ],
          [
           10,
           "Female"
          ],
          [
           2,
           "Male"
          ],
          [
           8,
           "Female"
          ],
          [
           7,
           "Male"
          ],
          [
           9,
           "Male"
          ],
          [
           8,
           "Male"
          ],
          [
           8,
           "Female"
          ],
          [
           7,
           "Female"
          ],
          [
           5,
           "Female"
          ],
          [
           9,
           "Female"
          ],
          [
           8,
           "Female"
          ],
          [
           9,
           "Female"
          ],
          [
           7,
           "Female"
          ],
          [
           6,
           "Female"
          ],
          [
           4,
           "Female"
          ],
          [
           6,
           "Male"
          ],
          [
           6,
           "Female"
          ],
          [
           3,
           "Male"
          ],
          [
           5,
           "Female"
          ],
          [
           6,
           "Female"
          ],
          [
           10,
           "Male"
          ],
          [
           8,
           "Male"
          ],
          [
           10,
           "Female"
          ],
          [
           10,
           "Male"
          ],
          [
           10,
           "Female"
          ],
          [
           1,
           "Female"
          ],
          [
           6,
           "Female"
          ],
          [
           6,
           "Female"
          ],
          [
           10,
           "Female"
          ],
          [
           4,
           "Male"
          ],
          [
           8,
           "Male"
          ],
          [
           8,
           "Male"
          ],
          [
           4,
           "Female"
          ],
          [
           7,
           "Male"
          ],
          [
           9,
           "Male"
          ],
          [
           6,
           "Female"
          ],
          [
           8,
           "Female"
          ],
          [
           5,
           "Male"
          ],
          [
           1,
           "Male"
          ],
          [
           5,
           "Male"
          ],
          [
           9,
           "Male"
          ],
          [
           6,
           "Male"
          ],
          [
           8,
           "Female"
          ],
          [
           1,
           "Male"
          ],
          [
           7,
           "Male"
          ],
          [
           2,
           "Male"
          ],
          [
           10,
           "Male"
          ],
          [
           8,
           "Male"
          ],
          [
           10,
           "Male"
          ],
          [
           10,
           "Male"
          ],
          [
           6,
           "Male"
          ],
          [
           7,
           "Male"
          ],
          [
           5,
           "Male"
          ],
          [
           5,
           "Male"
          ],
          [
           8,
           "Male"
          ],
          [
           6,
           "Male"
          ],
          [
           8,
           "Male"
          ],
          [
           9,
           "Male"
          ],
          [
           8,
           "Male"
          ],
          [
           7,
           "Female"
          ],
          [
           6,
           "Male"
          ],
          [
           3,
           "Male"
          ],
          [
           7,
           "Male"
          ],
          [
           8,
           "Male"
          ],
          [
           10,
           "Male"
          ],
          [
           8,
           "Male"
          ],
          [
           7,
           "Female"
          ],
          [
           3,
           "Male"
          ],
          [
           8,
           "Female"
          ],
          [
           4,
           "Male"
          ],
          [
           1,
           "Male"
          ],
          [
           4,
           "Female"
          ],
          [
           3,
           "Female"
          ],
          [
           2,
           "Female"
          ],
          [
           9,
           "Female"
          ],
          [
           4,
           "Male"
          ],
          [
           5,
           "Male"
          ],
          [
           1,
           "Female"
          ],
          [
           2,
           "Male"
          ],
          [
           1,
           "Female"
          ],
          [
           4,
           "Male"
          ],
          [
           5,
           "Female"
          ],
          [
           6,
           "Female"
          ],
          [
           4,
           "Female"
          ],
          [
           7,
           "Male"
          ],
          [
           10,
           "Male"
          ],
          [
           5,
           "Male"
          ],
          [
           9,
           "Female"
          ],
          [
           9,
           "Female"
          ],
          [
           10,
           "Female"
          ],
          [
           3,
           "Female"
          ],
          [
           9,
           "Female"
          ],
          [
           9,
           "Male"
          ],
          [
           9,
           "Female"
          ],
          [
           5,
           "Male"
          ],
          [
           3,
           "Male"
          ],
          [
           7,
           "Female"
          ],
          [
           1,
           "Male"
          ],
          [
           5,
           "Female"
          ],
          [
           3,
           "Female"
          ],
          [
           8,
           "Male"
          ],
          [
           3,
           "Female"
          ],
          [
           6,
           "Male"
          ],
          [
           7,
           "Male"
          ],
          [
           5,
           "Male"
          ],
          [
           1,
           "Female"
          ],
          [
           2,
           "Male"
          ],
          [
           2,
           "Female"
          ],
          [
           9,
           "Male"
          ],
          [
           4,
           "Male"
          ],
          [
           6,
           "Female"
          ],
          [
           8,
           "Female"
          ],
          [
           2,
           "Female"
          ],
          [
           3,
           "Female"
          ],
          [
           9,
           "Female"
          ],
          [
           4,
           "Male"
          ],
          [
           10,
           "Male"
          ],
          [
           2,
           "Female"
          ],
          [
           5,
           "Male"
          ],
          [
           5,
           "Female"
          ],
          [
           5,
           "Female"
          ],
          [
           1,
           "Male"
          ],
          [
           9,
           "Male"
          ],
          [
           2,
           "Male"
          ],
          [
           2,
           "Male"
          ],
          [
           4,
           "Male"
          ],
          [
           8,
           "Male"
          ],
          [
           8,
           "Male"
          ],
          [
           3,
           "Female"
          ],
          [
           5,
           "Male"
          ],
          [
           4,
           "Male"
          ],
          [
           7,
           "Male"
          ],
          [
           9,
           "Male"
          ],
          [
           10,
           "Male"
          ],
          [
           2,
           "Female"
          ],
          [
           4,
           "Male"
          ],
          [
           8,
           "Male"
          ],
          [
           4,
           "Male"
          ],
          [
           1,
           "Male"
          ],
          [
           6,
           "Male"
          ],
          [
           4,
           "Male"
          ],
          [
           4,
           "Male"
          ],
          [
           9,
           "Female"
          ],
          [
           4,
           "Female"
          ],
          [
           4,
           "Female"
          ],
          [
           10,
           "Female"
          ],
          [
           1,
           "Male"
          ],
          [
           7,
           "Female"
          ],
          [
           4,
           "Male"
          ],
          [
           10,
           "Female"
          ],
          [
           4,
           "Male"
          ],
          [
           10,
           "Female"
          ],
          [
           5,
           "Female"
          ],
          [
           2,
           "Female"
          ],
          [
           9,
           "Female"
          ],
          [
           2,
           "Female"
          ],
          [
           6,
           "Female"
          ],
          [
           7,
           "Male"
          ],
          [
           10,
           "Female"
          ],
          [
           4,
           "Female"
          ],
          [
           10,
           "Male"
          ],
          [
           10,
           "Male"
          ],
          [
           8,
           "Female"
          ],
          [
           1,
           "Male"
          ],
          [
           1,
           "Female"
          ],
          [
           6,
           "Male"
          ],
          [
           4,
           "Female"
          ],
          [
           5,
           "Male"
          ],
          [
           1,
           "Male"
          ],
          [
           9,
           "Female"
          ],
          [
           7,
           "Female"
          ],
          [
           7,
           "Female"
          ],
          [
           10,
           "Male"
          ],
          [
           7,
           "Male"
          ],
          [
           1,
           "Female"
          ],
          [
           2,
           "Female"
          ],
          [
           10,
           "Male"
          ],
          [
           5,
           "Female"
          ],
          [
           4,
           "Male"
          ],
          [
           6,
           "Male"
          ],
          [
           4,
           "Male"
          ],
          [
           1,
           "Female"
          ],
          [
           2,
           "Male"
          ],
          [
           1,
           "Male"
          ],
          [
           1,
           "Male"
          ],
          [
           4,
           "Female"
          ],
          [
           8,
           "Female"
          ],
          [
           7,
           "Male"
          ],
          [
           7,
           "Female"
          ],
          [
           8,
           "Female"
          ],
          [
           3,
           "Female"
          ],
          [
           2,
           "Female"
          ],
          [
           6,
           "Male"
          ],
          [
           2,
           "Male"
          ],
          [
           5,
           "Female"
          ],
          [
           9,
           "Female"
          ],
          [
           10,
           "Female"
          ],
          [
           2,
           "Male"
          ],
          [
           3,
           "Female"
          ],
          [
           5,
           "Male"
          ],
          [
           7,
           "Female"
          ],
          [
           4,
           "Male"
          ],
          [
           9,
           "Female"
          ],
          [
           1,
           "Female"
          ],
          [
           6,
           "Male"
          ],
          [
           5,
           "Female"
          ],
          [
           6,
           "Male"
          ],
          [
           4,
           "Male"
          ],
          [
           5,
           "Male"
          ],
          [
           4,
           "Male"
          ],
          [
           4,
           "Male"
          ],
          [
           4,
           "Male"
          ],
          [
           9,
           "Male"
          ],
          [
           3,
           "Male"
          ],
          [
           5,
           "Male"
          ],
          [
           2,
           "Male"
          ],
          [
           5,
           "Male"
          ],
          [
           5,
           "Female"
          ],
          [
           9,
           "Male"
          ],
          [
           6,
           "Female"
          ],
          [
           3,
           "Female"
          ],
          [
           9,
           "Female"
          ],
          [
           3,
           "Male"
          ],
          [
           7,
           "Female"
          ],
          [
           7,
           "Female"
          ],
          [
           5,
           "Female"
          ],
          [
           3,
           "Male"
          ],
          [
           9,
           "Female"
          ],
          [
           1,
           "Male"
          ],
          [
           8,
           "Female"
          ],
          [
           7,
           "Male"
          ],
          [
           10,
           "Female"
          ],
          [
           10,
           "Female"
          ],
          [
           7,
           "Male"
          ],
          [
           7,
           "Female"
          ],
          [
           9,
           "Male"
          ],
          [
           1,
           "Female"
          ],
          [
           4,
           "Female"
          ],
          [
           10,
           "Female"
          ],
          [
           10,
           "Female"
          ],
          [
           3,
           "Male"
          ],
          [
           1,
           "Male"
          ],
          [
           8,
           "Male"
          ],
          [
           8,
           "Female"
          ],
          [
           2,
           "Male"
          ],
          [
           6,
           "Male"
          ],
          [
           4,
           "Female"
          ],
          [
           4,
           "Female"
          ],
          [
           9,
           "Female"
          ],
          [
           4,
           "Male"
          ],
          [
           10,
           "Female"
          ],
          [
           9,
           "Male"
          ],
          [
           7,
           "Female"
          ],
          [
           2,
           "Female"
          ],
          [
           6,
           "Female"
          ],
          [
           6,
           "Male"
          ],
          [
           5,
           "Female"
          ],
          [
           5,
           "Female"
          ],
          [
           9,
           "Female"
          ],
          [
           7,
           "Male"
          ],
          [
           4,
           "Male"
          ],
          [
           4,
           "Female"
          ],
          [
           4,
           "Male"
          ],
          [
           2,
           "Female"
          ],
          [
           5,
           "Female"
          ],
          [
           4,
           "Female"
          ],
          [
           5,
           "Female"
          ],
          [
           1,
           "Male"
          ],
          [
           6,
           "Male"
          ],
          [
           10,
           "Female"
          ],
          [
           9,
           "Female"
          ],
          [
           7,
           "Male"
          ],
          [
           3,
           "Female"
          ],
          [
           10,
           "Female"
          ],
          [
           1,
           "Male"
          ],
          [
           10,
           "Female"
          ],
          [
           1,
           "Female"
          ],
          [
           5,
           "Female"
          ],
          [
           5,
           "Female"
          ],
          [
           9,
           "Male"
          ],
          [
           6,
           "Female"
          ],
          [
           9,
           "Male"
          ],
          [
           6,
           "Female"
          ],
          [
           4,
           "Male"
          ],
          [
           1,
           "Male"
          ],
          [
           5,
           "Female"
          ],
          [
           7,
           "Female"
          ],
          [
           4,
           "Male"
          ],
          [
           5,
           "Male"
          ],
          [
           4,
           "Female"
          ],
          [
           4,
           "Female"
          ],
          [
           5,
           "Female"
          ],
          [
           10,
           "Female"
          ],
          [
           2,
           "Male"
          ],
          [
           5,
           "Male"
          ],
          [
           3,
           "Male"
          ],
          [
           8,
           "Male"
          ],
          [
           1,
           "Male"
          ],
          [
           4,
           "Female"
          ],
          [
           1,
           "Female"
          ],
          [
           2,
           "Female"
          ],
          [
           7,
           "Female"
          ],
          [
           3,
           "Female"
          ],
          [
           3,
           "Female"
          ],
          [
           10,
           "Female"
          ],
          [
           8,
           "Male"
          ],
          [
           1,
           "Male"
          ],
          [
           9,
           "Male"
          ],
          [
           7,
           "Male"
          ],
          [
           3,
           "Female"
          ],
          [
           5,
           "Male"
          ],
          [
           10,
           "Female"
          ],
          [
           2,
           "Male"
          ],
          [
           2,
           "Male"
          ],
          [
           6,
           "Female"
          ],
          [
           7,
           "Male"
          ],
          [
           1,
           "Female"
          ],
          [
           9,
           "Male"
          ],
          [
           4,
           "Male"
          ],
          [
           6,
           "Male"
          ],
          [
           4,
           "Male"
          ],
          [
           8,
           "Female"
          ],
          [
           5,
           "Male"
          ],
          [
           8,
           "Female"
          ],
          [
           9,
           "Female"
          ],
          [
           1,
           "Male"
          ],
          [
           7,
           "Female"
          ],
          [
           1,
           "Female"
          ],
          [
           10,
           "Male"
          ],
          [
           3,
           "Male"
          ],
          [
           1,
           "Female"
          ],
          [
           1,
           "Female"
          ],
          [
           6,
           "Female"
          ],
          [
           6,
           "Male"
          ],
          [
           5,
           "Female"
          ],
          [
           1,
           "Male"
          ],
          [
           4,
           "Male"
          ],
          [
           5,
           "Female"
          ],
          [
           9,
           "Female"
          ],
          [
           10,
           "Male"
          ],
          [
           10,
           "Female"
          ],
          [
           1,
           "Male"
          ],
          [
           5,
           "Male"
          ],
          [
           10,
           "Female"
          ],
          [
           4,
           "Female"
          ],
          [
           1,
           "Female"
          ],
          [
           5,
           "Male"
          ],
          [
           10,
           "Female"
          ],
          [
           7,
           "Female"
          ],
          [
           6,
           "Male"
          ],
          [
           1,
           "Male"
          ],
          [
           1,
           "Female"
          ],
          [
           6,
           "Female"
          ],
          [
           4,
           "Female"
          ],
          [
           10,
           "Male"
          ],
          [
           8,
           "Male"
          ],
          [
           5,
           "Female"
          ],
          [
           3,
           "Male"
          ],
          [
           5,
           "Female"
          ],
          [
           4,
           "Male"
          ],
          [
           10,
           "Male"
          ],
          [
           1,
           "Male"
          ],
          [
           8,
           "Male"
          ],
          [
           10,
           "Female"
          ],
          [
           5,
           "Male"
          ],
          [
           10,
           "Male"
          ],
          [
           10,
           "Female"
          ],
          [
           4,
           "Female"
          ],
          [
           10,
           "Female"
          ],
          [
           4,
           "Male"
          ],
          [
           1,
           "Male"
          ],
          [
           9,
           "Female"
          ],
          [
           2,
           "Female"
          ],
          [
           10,
           "Female"
          ],
          [
           8,
           "Female"
          ],
          [
           10,
           "Female"
          ],
          [
           2,
           "Male"
          ],
          [
           8,
           "Male"
          ],
          [
           2,
           "Female"
          ],
          [
           6,
           "Female"
          ],
          [
           1,
           "Female"
          ],
          [
           8,
           "Female"
          ],
          [
           1,
           "Male"
          ],
          [
           1,
           "Female"
          ],
          [
           2,
           "Male"
          ],
          [
           2,
           "Female"
          ],
          [
           1,
           "Male"
          ],
          [
           8,
           "Male"
          ],
          [
           3,
           "Female"
          ],
          [
           6,
           "Female"
          ],
          [
           5,
           "Male"
          ],
          [
           6,
           "Female"
          ],
          [
           7,
           "Female"
          ],
          [
           5,
           "Female"
          ],
          [
           7,
           "Female"
          ],
          [
           7,
           "Male"
          ],
          [
           7,
           "Male"
          ],
          [
           1,
           "Female"
          ],
          [
           5,
           "Male"
          ],
          [
           5,
           "Male"
          ],
          [
           2,
           "Male"
          ],
          [
           5,
           "Male"
          ],
          [
           3,
           "Female"
          ],
          [
           6,
           "Female"
          ],
          [
           6,
           "Female"
          ],
          [
           2,
           "Male"
          ],
          [
           6,
           "Male"
          ],
          [
           5,
           "Female"
          ],
          [
           4,
           "Male"
          ],
          [
           2,
           "Male"
          ],
          [
           10,
           "Female"
          ],
          [
           9,
           "Male"
          ],
          [
           6,
           "Male"
          ],
          [
           8,
           "Male"
          ],
          [
           10,
           "Male"
          ],
          [
           9,
           "Female"
          ],
          [
           5,
           "Female"
          ],
          [
           7,
           "Male"
          ],
          [
           1,
           "Female"
          ],
          [
           1,
           "Male"
          ],
          [
           4,
           "Female"
          ],
          [
           6,
           "Female"
          ],
          [
           3,
           "Male"
          ],
          [
           1,
           "Male"
          ],
          [
           4,
           "Female"
          ],
          [
           6,
           "Male"
          ],
          [
           1,
           "Female"
          ],
          [
           4,
           "Male"
          ],
          [
           10,
           "Female"
          ],
          [
           9,
           "Male"
          ],
          [
           5,
           "Female"
          ],
          [
           6,
           "Female"
          ],
          [
           3,
           "Male"
          ],
          [
           9,
           "Female"
          ],
          [
           9,
           "Female"
          ],
          [
           6,
           "Male"
          ],
          [
           7,
           "Male"
          ],
          [
           3,
           "Male"
          ],
          [
           2,
           "Female"
          ],
          [
           10,
           "Female"
          ],
          [
           6,
           "Male"
          ],
          [
           3,
           "Female"
          ],
          [
           9,
           "Male"
          ],
          [
           10,
           "Male"
          ],
          [
           8,
           "Female"
          ],
          [
           6,
           "Male"
          ],
          [
           2,
           "Male"
          ],
          [
           10,
           "Female"
          ],
          [
           10,
           "Female"
          ],
          [
           9,
           "Female"
          ],
          [
           7,
           "Female"
          ],
          [
           7,
           "Female"
          ],
          [
           5,
           "Female"
          ],
          [
           10,
           "Male"
          ],
          [
           7,
           "Male"
          ],
          [
           2,
           "Male"
          ],
          [
           5,
           "Male"
          ],
          [
           7,
           "Male"
          ],
          [
           4,
           "Male"
          ],
          [
           4,
           "Male"
          ],
          [
           4,
           "Female"
          ],
          [
           2,
           "Male"
          ],
          [
           3,
           "Male"
          ],
          [
           4,
           "Female"
          ],
          [
           2,
           "Female"
          ],
          [
           4,
           "Female"
          ],
          [
           3,
           "Male"
          ],
          [
           4,
           "Male"
          ],
          [
           3,
           "Female"
          ],
          [
           5,
           "Female"
          ],
          [
           10,
           "Male"
          ],
          [
           5,
           "Male"
          ],
          [
           6,
           "Male"
          ],
          [
           7,
           "Female"
          ],
          [
           1,
           "Female"
          ],
          [
           3,
           "Female"
          ],
          [
           3,
           "Male"
          ],
          [
           3,
           "Male"
          ],
          [
           3,
           "Male"
          ],
          [
           9,
           "Female"
          ],
          [
           5,
           "Female"
          ],
          [
           2,
           "Female"
          ],
          [
           1,
           "Male"
          ],
          [
           1,
           "Female"
          ],
          [
           10,
           "Male"
          ],
          [
           6,
           "Female"
          ],
          [
           7,
           "Female"
          ],
          [
           4,
           "Male"
          ],
          [
           7,
           "Female"
          ],
          [
           4,
           "Female"
          ],
          [
           1,
           "Male"
          ],
          [
           2,
           "Male"
          ],
          [
           1,
           "Female"
          ],
          [
           9,
           "Female"
          ],
          [
           3,
           "Male"
          ],
          [
           1,
           "Male"
          ],
          [
           10,
           "Male"
          ],
          [
           9,
           "Female"
          ],
          [
           6,
           "Male"
          ],
          [
           5,
           "Male"
          ],
          [
           6,
           "Male"
          ],
          [
           6,
           "Female"
          ],
          [
           3,
           "Female"
          ],
          [
           1,
           "Female"
          ],
          [
           7,
           "Female"
          ],
          [
           10,
           "Female"
          ],
          [
           1,
           "Male"
          ],
          [
           2,
           "Female"
          ],
          [
           2,
           "Male"
          ],
          [
           10,
           "Male"
          ],
          [
           3,
           "Male"
          ],
          [
           1,
           "Female"
          ],
          [
           10,
           "Male"
          ],
          [
           3,
           "Male"
          ],
          [
           2,
           "Male"
          ],
          [
           3,
           "Male"
          ],
          [
           3,
           "Male"
          ],
          [
           10,
           "Male"
          ],
          [
           7,
           "Male"
          ],
          [
           1,
           "Female"
          ],
          [
           5,
           "Female"
          ],
          [
           3,
           "Male"
          ],
          [
           3,
           "Female"
          ],
          [
           8,
           "Female"
          ],
          [
           2,
           "Male"
          ],
          [
           8,
           "Female"
          ],
          [
           5,
           "Male"
          ],
          [
           9,
           "Male"
          ],
          [
           6,
           "Male"
          ],
          [
           1,
           "Male"
          ],
          [
           2,
           "Female"
          ],
          [
           10,
           "Male"
          ],
          [
           5,
           "Male"
          ],
          [
           6,
           "Female"
          ],
          [
           10,
           "Male"
          ],
          [
           9,
           "Male"
          ],
          [
           4,
           "Male"
          ],
          [
           3,
           "Female"
          ],
          [
           1,
           "Female"
          ],
          [
           3,
           "Female"
          ],
          [
           5,
           "Female"
          ],
          [
           1,
           "Male"
          ],
          [
           3,
           "Female"
          ],
          [
           7,
           "Male"
          ],
          [
           6,
           "Female"
          ],
          [
           10,
           "Female"
          ],
          [
           2,
           "Female"
          ],
          [
           4,
           "Female"
          ],
          [
           3,
           "Male"
          ],
          [
           4,
           "Female"
          ],
          [
           6,
           "Female"
          ],
          [
           2,
           "Female"
          ],
          [
           10,
           "Male"
          ],
          [
           2,
           "Male"
          ],
          [
           3,
           "Female"
          ],
          [
           8,
           "Male"
          ],
          [
           10,
           "Female"
          ],
          [
           2,
           "Male"
          ],
          [
           7,
           "Female"
          ],
          [
           4,
           "Female"
          ],
          [
           10,
           "Male"
          ],
          [
           6,
           "Male"
          ],
          [
           1,
           "Female"
          ],
          [
           1,
           "Female"
          ],
          [
           6,
           "Female"
          ],
          [
           2,
           "Male"
          ],
          [
           6,
           "Female"
          ],
          [
           2,
           "Female"
          ],
          [
           2,
           "Female"
          ],
          [
           10,
           "Male"
          ],
          [
           2,
           "Male"
          ],
          [
           3,
           "Female"
          ],
          [
           9,
           "Female"
          ],
          [
           7,
           "Male"
          ],
          [
           10,
           "Male"
          ],
          [
           7,
           "Female"
          ],
          [
           9,
           "Female"
          ],
          [
           5,
           "Female"
          ],
          [
           4,
           "Female"
          ],
          [
           4,
           "Male"
          ],
          [
           9,
           "Male"
          ],
          [
           10,
           "Male"
          ],
          [
           8,
           "Female"
          ],
          [
           3,
           "Male"
          ],
          [
           10,
           "Female"
          ],
          [
           9,
           "Male"
          ],
          [
           9,
           "Female"
          ],
          [
           7,
           "Male"
          ],
          [
           4,
           "Female"
          ],
          [
           1,
           "Male"
          ],
          [
           8,
           "Male"
          ],
          [
           3,
           "Male"
          ],
          [
           6,
           "Male"
          ],
          [
           4,
           "Female"
          ],
          [
           9,
           "Female"
          ],
          [
           9,
           "Female"
          ],
          [
           8,
           "Male"
          ],
          [
           5,
           "Female"
          ],
          [
           7,
           "Female"
          ],
          [
           3,
           "Male"
          ],
          [
           3,
           "Male"
          ],
          [
           6,
           "Female"
          ],
          [
           7,
           "Female"
          ],
          [
           9,
           "Female"
          ],
          [
           3,
           "Male"
          ],
          [
           7,
           "Female"
          ],
          [
           4,
           "Male"
          ],
          [
           8,
           "Female"
          ],
          [
           3,
           "Male"
          ],
          [
           10,
           "Male"
          ],
          [
           4,
           "Male"
          ],
          [
           7,
           "Female"
          ],
          [
           4,
           "Female"
          ],
          [
           3,
           "Male"
          ],
          [
           1,
           "Male"
          ],
          [
           7,
           "Male"
          ],
          [
           1,
           "Male"
          ],
          [
           10,
           "Male"
          ],
          [
           7,
           "Female"
          ],
          [
           10,
           "Male"
          ],
          [
           8,
           "Male"
          ],
          [
           9,
           "Male"
          ],
          [
           7,
           "Male"
          ],
          [
           1,
           "Male"
          ],
          [
           2,
           "Female"
          ],
          [
           2,
           "Male"
          ],
          [
           8,
           "Female"
          ],
          [
           1,
           "Female"
          ],
          [
           10,
           "Male"
          ],
          [
           5,
           "Female"
          ],
          [
           9,
           "Female"
          ],
          [
           7,
           "Male"
          ],
          [
           4,
           "Female"
          ],
          [
           5,
           "Female"
          ],
          [
           10,
           "Female"
          ],
          [
           5,
           "Male"
          ],
          [
           3,
           "Female"
          ],
          [
           8,
           "Female"
          ],
          [
           8,
           "Female"
          ],
          [
           6,
           "Female"
          ],
          [
           10,
           "Male"
          ],
          [
           4,
           "Female"
          ],
          [
           10,
           "Female"
          ],
          [
           10,
           "Male"
          ],
          [
           8,
           "Female"
          ],
          [
           5,
           "Female"
          ],
          [
           4,
           "Male"
          ],
          [
           8,
           "Female"
          ],
          [
           3,
           "Female"
          ],
          [
           6,
           "Male"
          ],
          [
           4,
           "Female"
          ],
          [
           6,
           "Female"
          ],
          [
           4,
           "Female"
          ],
          [
           7,
           "Female"
          ],
          [
           7,
           "Female"
          ],
          [
           1,
           "Female"
          ],
          [
           2,
           "Male"
          ],
          [
           5,
           "Female"
          ],
          [
           7,
           "Male"
          ],
          [
           1,
           "Male"
          ],
          [
           5,
           "Male"
          ],
          [
           9,
           "Male"
          ],
          [
           8,
           "Male"
          ],
          [
           4,
           "Female"
          ],
          [
           1,
           "Female"
          ],
          [
           8,
           "Female"
          ],
          [
           5,
           "Female"
          ],
          [
           7,
           "Male"
          ],
          [
           8,
           "Male"
          ],
          [
           5,
           "Female"
          ],
          [
           3,
           "Male"
          ],
          [
           7,
           "Male"
          ],
          [
           1,
           "Male"
          ],
          [
           4,
           "Male"
          ],
          [
           10,
           "Female"
          ],
          [
           7,
           "Male"
          ],
          [
           2,
           "Female"
          ],
          [
           2,
           "Male"
          ],
          [
           1,
           "Female"
          ],
          [
           10,
           "Female"
          ],
          [
           1,
           "Male"
          ],
          [
           5,
           "Male"
          ],
          [
           6,
           "Male"
          ],
          [
           8,
           "Female"
          ],
          [
           7,
           "Male"
          ],
          [
           9,
           "Female"
          ],
          [
           9,
           "Female"
          ],
          [
           4,
           "Female"
          ],
          [
           2,
           "Female"
          ],
          [
           4,
           "Female"
          ],
          [
           1,
           "Female"
          ],
          [
           10,
           "Female"
          ],
          [
           8,
           "Male"
          ],
          [
           10,
           "Female"
          ],
          [
           5,
           "Female"
          ],
          [
           1,
           "Male"
          ],
          [
           8,
           "Female"
          ],
          [
           8,
           "Female"
          ],
          [
           7,
           "Female"
          ],
          [
           8,
           "Male"
          ],
          [
           4,
           "Male"
          ],
          [
           5,
           "Male"
          ],
          [
           4,
           "Male"
          ],
          [
           2,
           "Female"
          ],
          [
           1,
           "Male"
          ],
          [
           3,
           "Female"
          ],
          [
           7,
           "Female"
          ],
          [
           4,
           "Female"
          ],
          [
           9,
           "Female"
          ],
          [
           3,
           "Male"
          ],
          [
           10,
           "Male"
          ],
          [
           10,
           "Female"
          ],
          [
           8,
           "Male"
          ],
          [
           4,
           "Male"
          ],
          [
           8,
           "Female"
          ],
          [
           1,
           "Male"
          ],
          [
           7,
           "Female"
          ],
          [
           1,
           "Male"
          ],
          [
           5,
           "Male"
          ],
          [
           6,
           "Male"
          ],
          [
           10,
           "Male"
          ],
          [
           6,
           "Female"
          ],
          [
           3,
           "Male"
          ],
          [
           1,
           "Male"
          ],
          [
           2,
           "Female"
          ],
          [
           2,
           "Female"
          ],
          [
           1,
           "Male"
          ],
          [
           3,
           "Male"
          ],
          [
           1,
           "Male"
          ],
          [
           1,
           "Female"
          ],
          [
           9,
           "Female"
          ],
          [
           6,
           "Female"
          ],
          [
           1,
           "Male"
          ],
          [
           2,
           "Female"
          ],
          [
           7,
           "Male"
          ],
          [
           10,
           "Female"
          ],
          [
           5,
           "Female"
          ],
          [
           9,
           "Female"
          ],
          [
           8,
           "Male"
          ],
          [
           4,
           "Female"
          ],
          [
           6,
           "Male"
          ],
          [
           9,
           "Female"
          ],
          [
           1,
           "Female"
          ],
          [
           2,
           "Male"
          ],
          [
           9,
           "Female"
          ],
          [
           7,
           "Female"
          ],
          [
           3,
           "Female"
          ],
          [
           3,
           "Male"
          ],
          [
           8,
           "Male"
          ],
          [
           2,
           "Female"
          ],
          [
           3,
           "Male"
          ],
          [
           4,
           "Male"
          ],
          [
           7,
           "Male"
          ],
          [
           1,
           "Male"
          ],
          [
           10,
           "Female"
          ],
          [
           6,
           "Male"
          ],
          [
           4,
           "Male"
          ],
          [
           8,
           "Male"
          ],
          [
           1,
           "Male"
          ],
          [
           1,
           "Male"
          ],
          [
           8,
           "Female"
          ],
          [
           8,
           "Female"
          ],
          [
           10,
           "Female"
          ],
          [
           8,
           "Female"
          ],
          [
           10,
           "Male"
          ],
          [
           6,
           "Female"
          ],
          [
           2,
           "Female"
          ],
          [
           7,
           "Male"
          ],
          [
           1,
           "Male"
          ],
          [
           10,
           "Female"
          ],
          [
           8,
           "Female"
          ],
          [
           10,
           "Male"
          ],
          [
           5,
           "Female"
          ],
          [
           8,
           "Female"
          ],
          [
           5,
           "Female"
          ],
          [
           5,
           "Male"
          ],
          [
           6,
           "Male"
          ],
          [
           8,
           "Male"
          ],
          [
           7,
           "Male"
          ],
          [
           6,
           "Female"
          ],
          [
           7,
           "Male"
          ],
          [
           9,
           "Male"
          ],
          [
           9,
           "Female"
          ],
          [
           4,
           "Male"
          ],
          [
           5,
           "Female"
          ],
          [
           7,
           "Male"
          ],
          [
           2,
           "Female"
          ],
          [
           4,
           "Female"
          ],
          [
           10,
           "Male"
          ],
          [
           5,
           "Female"
          ],
          [
           2,
           "Female"
          ],
          [
           10,
           "Female"
          ],
          [
           3,
           "Female"
          ],
          [
           4,
           "Female"
          ],
          [
           8,
           "Female"
          ],
          [
           8,
           "Male"
          ],
          [
           3,
           "Female"
          ],
          [
           6,
           "Female"
          ],
          [
           1,
           "Male"
          ],
          [
           4,
           "Female"
          ],
          [
           3,
           "Male"
          ],
          [
           3,
           "Female"
          ],
          [
           9,
           "Female"
          ],
          [
           6,
           "Female"
          ],
          [
           2,
           "Female"
          ],
          [
           7,
           "Female"
          ],
          [
           6,
           "Female"
          ],
          [
           4,
           "Female"
          ],
          [
           1,
           "Male"
          ],
          [
           9,
           "Female"
          ],
          [
           9,
           "Female"
          ],
          [
           2,
           "Male"
          ],
          [
           6,
           "Male"
          ],
          [
           2,
           "Female"
          ],
          [
           10,
           "Female"
          ],
          [
           7,
           "Male"
          ],
          [
           6,
           "Female"
          ],
          [
           3,
           "Male"
          ],
          [
           7,
           "Female"
          ],
          [
           5,
           "Female"
          ],
          [
           3,
           "Female"
          ],
          [
           6,
           "Female"
          ],
          [
           4,
           "Male"
          ],
          [
           9,
           "Male"
          ],
          [
           10,
           "Female"
          ],
          [
           5,
           "Male"
          ],
          [
           7,
           "Male"
          ],
          [
           7,
           "Female"
          ],
          [
           2,
           "Male"
          ],
          [
           1,
           "Male"
          ],
          [
           5,
           "Male"
          ],
          [
           8,
           "Female"
          ],
          [
           3,
           "Male"
          ],
          [
           3,
           "Female"
          ],
          [
           4,
           "Female"
          ],
          [
           4,
           "Female"
          ],
          [
           6,
           "Male"
          ],
          [
           7,
           "Female"
          ],
          [
           9,
           "Male"
          ],
          [
           6,
           "Male"
          ],
          [
           10,
           "Female"
          ],
          [
           9,
           "Female"
          ],
          [
           1,
           "Male"
          ],
          [
           2,
           "Male"
          ],
          [
           1,
           "Female"
          ],
          [
           3,
           "Male"
          ],
          [
           2,
           "Male"
          ],
          [
           2,
           "Female"
          ],
          [
           9,
           "Female"
          ],
          [
           3,
           "Male"
          ],
          [
           3,
           "Female"
          ],
          [
           5,
           "Female"
          ],
          [
           10,
           "Female"
          ],
          [
           7,
           "Male"
          ],
          [
           7,
           "Male"
          ],
          [
           3,
           "Male"
          ],
          [
           2,
           "Male"
          ],
          [
           2,
           "Male"
          ],
          [
           4,
           "Female"
          ],
          [
           6,
           "Male"
          ],
          [
           1,
           "Female"
          ],
          [
           1,
           "Female"
          ],
          [
           4,
           "Male"
          ],
          [
           4,
           "Male"
          ],
          [
           9,
           "Female"
          ],
          [
           7,
           "Male"
          ],
          [
           7,
           "Male"
          ],
          [
           5,
           "Female"
          ],
          [
           2,
           "Female"
          ],
          [
           8,
           "Male"
          ],
          [
           10,
           "Male"
          ],
          [
           8,
           "Male"
          ],
          [
           5,
           "Female"
          ],
          [
           10,
           "Female"
          ],
          [
           2,
           "Male"
          ],
          [
           10,
           "Male"
          ],
          [
           1,
           "Female"
          ],
          [
           1,
           "Male"
          ],
          [
           10,
           "Female"
          ],
          [
           1,
           "Male"
          ],
          [
           1,
           "Male"
          ],
          [
           7,
           "Female"
          ]
         ],
         "domain": {
          "x": [
           0,
           1
          ],
          "y": [
           0,
           1
          ]
         },
         "hovertemplate": "Gender=%{customdata[1]}<br>Quantity=%{customdata[0]}<extra></extra>",
         "labels": [
          "Female",
          "Female",
          "Male",
          "Male",
          "Male",
          "Male",
          "Female",
          "Female",
          "Female",
          "Female",
          "Female",
          "Male",
          "Female",
          "Male",
          "Female",
          "Female",
          "Female",
          "Male",
          "Male",
          "Female",
          "Male",
          "Male",
          "Male",
          "Male",
          "Male",
          "Female",
          "Male",
          "Female",
          "Female",
          "Male",
          "Male",
          "Male",
          "Male",
          "Male",
          "Female",
          "Female",
          "Male",
          "Female",
          "Female",
          "Male",
          "Female",
          "Male",
          "Female",
          "Female",
          "Male",
          "Female",
          "Male",
          "Female",
          "Male",
          "Female",
          "Male",
          "Female",
          "Female",
          "Male",
          "Male",
          "Female",
          "Male",
          "Male",
          "Female",
          "Male",
          "Female",
          "Male",
          "Female",
          "Male",
          "Male",
          "Male",
          "Female",
          "Female",
          "Male",
          "Female",
          "Male",
          "Male",
          "Female",
          "Female",
          "Male",
          "Female",
          "Male",
          "Female",
          "Female",
          "Female",
          "Female",
          "Female",
          "Male",
          "Female",
          "Male",
          "Female",
          "Male",
          "Male",
          "Male",
          "Female",
          "Female",
          "Female",
          "Female",
          "Male",
          "Male",
          "Male",
          "Male",
          "Female",
          "Male",
          "Male",
          "Male",
          "Male",
          "Female",
          "Male",
          "Male",
          "Male",
          "Male",
          "Male",
          "Female",
          "Male",
          "Female",
          "Female",
          "Female",
          "Male",
          "Female",
          "Female",
          "Male",
          "Male",
          "Female",
          "Male",
          "Female",
          "Male",
          "Male",
          "Male",
          "Female",
          "Female",
          "Female",
          "Female",
          "Female",
          "Female",
          "Female",
          "Female",
          "Female",
          "Male",
          "Female",
          "Male",
          "Female",
          "Female",
          "Male",
          "Male",
          "Female",
          "Male",
          "Female",
          "Female",
          "Female",
          "Female",
          "Female",
          "Male",
          "Male",
          "Male",
          "Female",
          "Male",
          "Male",
          "Female",
          "Female",
          "Male",
          "Male",
          "Male",
          "Male",
          "Male",
          "Female",
          "Male",
          "Male",
          "Male",
          "Male",
          "Male",
          "Male",
          "Male",
          "Male",
          "Male",
          "Male",
          "Male",
          "Male",
          "Male",
          "Male",
          "Male",
          "Male",
          "Female",
          "Male",
          "Male",
          "Male",
          "Male",
          "Male",
          "Male",
          "Female",
          "Male",
          "Female",
          "Male",
          "Male",
          "Female",
          "Female",
          "Female",
          "Female",
          "Male",
          "Male",
          "Female",
          "Male",
          "Female",
          "Male",
          "Female",
          "Female",
          "Female",
          "Male",
          "Male",
          "Male",
          "Female",
          "Female",
          "Female",
          "Female",
          "Female",
          "Male",
          "Female",
          "Male",
          "Male",
          "Female",
          "Male",
          "Female",
          "Female",
          "Male",
          "Female",
          "Male",
          "Male",
          "Male",
          "Female",
          "Male",
          "Female",
          "Male",
          "Male",
          "Female",
          "Female",
          "Female",
          "Female",
          "Female",
          "Male",
          "Male",
          "Female",
          "Male",
          "Female",
          "Female",
          "Male",
          "Male",
          "Male",
          "Male",
          "Male",
          "Male",
          "Male",
          "Female",
          "Male",
          "Male",
          "Male",
          "Male",
          "Male",
          "Female",
          "Male",
          "Male",
          "Male",
          "Male",
          "Male",
          "Male",
          "Male",
          "Female",
          "Female",
          "Female",
          "Female",
          "Male",
          "Female",
          "Male",
          "Female",
          "Male",
          "Female",
          "Female",
          "Female",
          "Female",
          "Female",
          "Female",
          "Male",
          "Female",
          "Female",
          "Male",
          "Male",
          "Female",
          "Male",
          "Female",
          "Male",
          "Female",
          "Male",
          "Male",
          "Female",
          "Female",
          "Female",
          "Male",
          "Male",
          "Female",
          "Female",
          "Male",
          "Female",
          "Male",
          "Male",
          "Male",
          "Female",
          "Male",
          "Male",
          "Male",
          "Female",
          "Female",
          "Male",
          "Female",
          "Female",
          "Female",
          "Female",
          "Male",
          "Male",
          "Female",
          "Female",
          "Female",
          "Male",
          "Female",
          "Male",
          "Female",
          "Male",
          "Female",
          "Female",
          "Male",
          "Female",
          "Male",
          "Male",
          "Male",
          "Male",
          "Male",
          "Male",
          "Male",
          "Male",
          "Male",
          "Male",
          "Male",
          "Female",
          "Male",
          "Female",
          "Female",
          "Female",
          "Male",
          "Female",
          "Female",
          "Female",
          "Male",
          "Female",
          "Male",
          "Female",
          "Male",
          "Female",
          "Female",
          "Male",
          "Female",
          "Male",
          "Female",
          "Female",
          "Female",
          "Female",
          "Male",
          "Male",
          "Male",
          "Female",
          "Male",
          "Male",
          "Female",
          "Female",
          "Female",
          "Male",
          "Female",
          "Male",
          "Female",
          "Female",
          "Female",
          "Male",
          "Female",
          "Female",
          "Female",
          "Male",
          "Male",
          "Female",
          "Male",
          "Female",
          "Female",
          "Female",
          "Female",
          "Male",
          "Male",
          "Female",
          "Female",
          "Male",
          "Female",
          "Female",
          "Male",
          "Female",
          "Female",
          "Female",
          "Female",
          "Male",
          "Female",
          "Male",
          "Female",
          "Male",
          "Male",
          "Female",
          "Female",
          "Male",
          "Male",
          "Female",
          "Female",
          "Female",
          "Female",
          "Male",
          "Male",
          "Male",
          "Male",
          "Male",
          "Female",
          "Female",
          "Female",
          "Female",
          "Female",
          "Female",
          "Female",
          "Male",
          "Male",
          "Male",
          "Male",
          "Female",
          "Male",
          "Female",
          "Male",
          "Male",
          "Female",
          "Male",
          "Female",
          "Male",
          "Male",
          "Male",
          "Male",
          "Female",
          "Male",
          "Female",
          "Female",
          "Male",
          "Female",
          "Female",
          "Male",
          "Male",
          "Female",
          "Female",
          "Female",
          "Male",
          "Female",
          "Male",
          "Male",
          "Female",
          "Female",
          "Male",
          "Female",
          "Male",
          "Male",
          "Female",
          "Female",
          "Female",
          "Male",
          "Female",
          "Female",
          "Male",
          "Male",
          "Female",
          "Female",
          "Female",
          "Male",
          "Male",
          "Female",
          "Male",
          "Female",
          "Male",
          "Male",
          "Male",
          "Male",
          "Female",
          "Male",
          "Male",
          "Female",
          "Female",
          "Female",
          "Male",
          "Male",
          "Female",
          "Female",
          "Female",
          "Female",
          "Female",
          "Male",
          "Male",
          "Female",
          "Female",
          "Female",
          "Female",
          "Male",
          "Female",
          "Male",
          "Female",
          "Male",
          "Male",
          "Female",
          "Female",
          "Male",
          "Female",
          "Female",
          "Female",
          "Female",
          "Male",
          "Male",
          "Female",
          "Male",
          "Male",
          "Male",
          "Male",
          "Female",
          "Female",
          "Female",
          "Male",
          "Male",
          "Female",
          "Male",
          "Male",
          "Female",
          "Male",
          "Male",
          "Male",
          "Male",
          "Female",
          "Female",
          "Male",
          "Female",
          "Male",
          "Female",
          "Female",
          "Male",
          "Male",
          "Female",
          "Male",
          "Female",
          "Male",
          "Female",
          "Male",
          "Female",
          "Female",
          "Male",
          "Female",
          "Female",
          "Male",
          "Male",
          "Male",
          "Female",
          "Female",
          "Male",
          "Female",
          "Male",
          "Male",
          "Female",
          "Male",
          "Male",
          "Female",
          "Female",
          "Female",
          "Female",
          "Female",
          "Female",
          "Male",
          "Male",
          "Male",
          "Male",
          "Male",
          "Male",
          "Male",
          "Female",
          "Male",
          "Male",
          "Female",
          "Female",
          "Female",
          "Male",
          "Male",
          "Female",
          "Female",
          "Male",
          "Male",
          "Male",
          "Female",
          "Female",
          "Female",
          "Male",
          "Male",
          "Male",
          "Female",
          "Female",
          "Female",
          "Male",
          "Female",
          "Male",
          "Female",
          "Female",
          "Male",
          "Female",
          "Female",
          "Male",
          "Male",
          "Female",
          "Female",
          "Male",
          "Male",
          "Male",
          "Female",
          "Male",
          "Male",
          "Male",
          "Female",
          "Female",
          "Female",
          "Female",
          "Female",
          "Male",
          "Female",
          "Male",
          "Male",
          "Male",
          "Female",
          "Male",
          "Male",
          "Male",
          "Male",
          "Male",
          "Male",
          "Male",
          "Female",
          "Female",
          "Male",
          "Female",
          "Female",
          "Male",
          "Female",
          "Male",
          "Male",
          "Male",
          "Male",
          "Female",
          "Male",
          "Male",
          "Female",
          "Male",
          "Male",
          "Male",
          "Female",
          "Female",
          "Female",
          "Female",
          "Male",
          "Female",
          "Male",
          "Female",
          "Female",
          "Female",
          "Female",
          "Male",
          "Female",
          "Female",
          "Female",
          "Male",
          "Male",
          "Female",
          "Male",
          "Female",
          "Male",
          "Female",
          "Female",
          "Male",
          "Male",
          "Female",
          "Female",
          "Female",
          "Male",
          "Female",
          "Female",
          "Female",
          "Male",
          "Male",
          "Female",
          "Female",
          "Male",
          "Male",
          "Female",
          "Female",
          "Female",
          "Female",
          "Male",
          "Male",
          "Male",
          "Female",
          "Male",
          "Female",
          "Male",
          "Female",
          "Male",
          "Female",
          "Male",
          "Male",
          "Male",
          "Male",
          "Female",
          "Female",
          "Female",
          "Male",
          "Female",
          "Female",
          "Male",
          "Male",
          "Female",
          "Female",
          "Female",
          "Male",
          "Female",
          "Male",
          "Female",
          "Male",
          "Male",
          "Male",
          "Female",
          "Female",
          "Male",
          "Male",
          "Male",
          "Male",
          "Male",
          "Female",
          "Male",
          "Male",
          "Male",
          "Male",
          "Male",
          "Female",
          "Male",
          "Female",
          "Female",
          "Male",
          "Female",
          "Female",
          "Male",
          "Female",
          "Female",
          "Female",
          "Male",
          "Female",
          "Female",
          "Female",
          "Female",
          "Male",
          "Female",
          "Female",
          "Male",
          "Female",
          "Female",
          "Male",
          "Female",
          "Female",
          "Male",
          "Female",
          "Female",
          "Female",
          "Female",
          "Female",
          "Female",
          "Male",
          "Female",
          "Male",
          "Male",
          "Male",
          "Male",
          "Male",
          "Female",
          "Female",
          "Female",
          "Female",
          "Male",
          "Male",
          "Female",
          "Male",
          "Male",
          "Male",
          "Male",
          "Female",
          "Male",
          "Female",
          "Male",
          "Female",
          "Female",
          "Male",
          "Male",
          "Male",
          "Female",
          "Male",
          "Female",
          "Female",
          "Female",
          "Female",
          "Female",
          "Female",
          "Female",
          "Male",
          "Female",
          "Female",
          "Male",
          "Female",
          "Female",
          "Female",
          "Male",
          "Male",
          "Male",
          "Male",
          "Female",
          "Male",
          "Female",
          "Female",
          "Female",
          "Female",
          "Male",
          "Male",
          "Female",
          "Male",
          "Male",
          "Female",
          "Male",
          "Female",
          "Male",
          "Male",
          "Male",
          "Male",
          "Female",
          "Male",
          "Male",
          "Female",
          "Female",
          "Male",
          "Male",
          "Male",
          "Female",
          "Female",
          "Female",
          "Male",
          "Female",
          "Male",
          "Female",
          "Female",
          "Female",
          "Male",
          "Female",
          "Male",
          "Female",
          "Female",
          "Male",
          "Female",
          "Female",
          "Female",
          "Male",
          "Male",
          "Female",
          "Male",
          "Male",
          "Male",
          "Male",
          "Female",
          "Male",
          "Male",
          "Male",
          "Male",
          "Male",
          "Female",
          "Female",
          "Female",
          "Female",
          "Male",
          "Female",
          "Female",
          "Male",
          "Male",
          "Female",
          "Female",
          "Male",
          "Female",
          "Female",
          "Female",
          "Male",
          "Male",
          "Male",
          "Male",
          "Female",
          "Male",
          "Male",
          "Female",
          "Male",
          "Female",
          "Male",
          "Female",
          "Female",
          "Male",
          "Female",
          "Female",
          "Female",
          "Female",
          "Female",
          "Female",
          "Male",
          "Female",
          "Female",
          "Male",
          "Female",
          "Male",
          "Female",
          "Female",
          "Female",
          "Female",
          "Female",
          "Female",
          "Female",
          "Male",
          "Female",
          "Female",
          "Male",
          "Male",
          "Female",
          "Female",
          "Male",
          "Female",
          "Male",
          "Female",
          "Female",
          "Female",
          "Female",
          "Male",
          "Male",
          "Female",
          "Male",
          "Male",
          "Female",
          "Male",
          "Male",
          "Male",
          "Female",
          "Male",
          "Female",
          "Female",
          "Female",
          "Male",
          "Female",
          "Male",
          "Male",
          "Female",
          "Female",
          "Male",
          "Male",
          "Female",
          "Male",
          "Male",
          "Female",
          "Female",
          "Male",
          "Female",
          "Female",
          "Female",
          "Male",
          "Male",
          "Male",
          "Male",
          "Male",
          "Female",
          "Male",
          "Female",
          "Female",
          "Male",
          "Male",
          "Female",
          "Male",
          "Male",
          "Female",
          "Female",
          "Male",
          "Male",
          "Male",
          "Female",
          "Female",
          "Male",
          "Male",
          "Female",
          "Male",
          "Female",
          "Male",
          "Male",
          "Female"
         ],
         "legendgroup": "",
         "name": "",
         "showlegend": true,
         "textinfo": "percent+label",
         "textposition": "inside",
         "type": "pie",
         "values": [
          7,
          5,
          7,
          8,
          7,
          7,
          6,
          10,
          2,
          3,
          4,
          4,
          5,
          10,
          10,
          6,
          7,
          6,
          3,
          2,
          5,
          3,
          2,
          5,
          3,
          8,
          1,
          2,
          5,
          9,
          5,
          9,
          8,
          2,
          4,
          1,
          5,
          9,
          8,
          8,
          1,
          2,
          6,
          8,
          2,
          4,
          9,
          9,
          6,
          10,
          7,
          5,
          4,
          1,
          2,
          8,
          2,
          8,
          10,
          6,
          3,
          6,
          9,
          10,
          4,
          10,
          2,
          6,
          10,
          1,
          10,
          10,
          3,
          6,
          9,
          10,
          9,
          9,
          10,
          5,
          6,
          3,
          8,
          4,
          5,
          7,
          5,
          7,
          1,
          6,
          4,
          10,
          7,
          9,
          1,
          1,
          10,
          6,
          3,
          6,
          1,
          9,
          9,
          6,
          7,
          10,
          6,
          6,
          9,
          10,
          2,
          3,
          7,
          9,
          9,
          3,
          5,
          1,
          10,
          2,
          8,
          7,
          9,
          8,
          8,
          7,
          5,
          9,
          8,
          9,
          7,
          6,
          4,
          6,
          6,
          3,
          5,
          6,
          10,
          8,
          10,
          10,
          10,
          1,
          6,
          6,
          10,
          4,
          8,
          8,
          4,
          7,
          9,
          6,
          8,
          5,
          1,
          5,
          9,
          6,
          8,
          1,
          7,
          2,
          10,
          8,
          10,
          10,
          6,
          7,
          5,
          5,
          8,
          6,
          8,
          9,
          8,
          7,
          6,
          3,
          7,
          8,
          10,
          8,
          7,
          3,
          8,
          4,
          1,
          4,
          3,
          2,
          9,
          4,
          5,
          1,
          2,
          1,
          4,
          5,
          6,
          4,
          7,
          10,
          5,
          9,
          9,
          10,
          3,
          9,
          9,
          9,
          5,
          3,
          7,
          1,
          5,
          3,
          8,
          3,
          6,
          7,
          5,
          1,
          2,
          2,
          9,
          4,
          6,
          8,
          2,
          3,
          9,
          4,
          10,
          2,
          5,
          5,
          5,
          1,
          9,
          2,
          2,
          4,
          8,
          8,
          3,
          5,
          4,
          7,
          9,
          10,
          2,
          4,
          8,
          4,
          1,
          6,
          4,
          4,
          9,
          4,
          4,
          10,
          1,
          7,
          4,
          10,
          4,
          10,
          5,
          2,
          9,
          2,
          6,
          7,
          10,
          4,
          10,
          10,
          8,
          1,
          1,
          6,
          4,
          5,
          1,
          9,
          7,
          7,
          10,
          7,
          1,
          2,
          10,
          5,
          4,
          6,
          4,
          1,
          2,
          1,
          1,
          4,
          8,
          7,
          7,
          8,
          3,
          2,
          6,
          2,
          5,
          9,
          10,
          2,
          3,
          5,
          7,
          4,
          9,
          1,
          6,
          5,
          6,
          4,
          5,
          4,
          4,
          4,
          9,
          3,
          5,
          2,
          5,
          5,
          9,
          6,
          3,
          9,
          3,
          7,
          7,
          5,
          3,
          9,
          1,
          8,
          7,
          10,
          10,
          7,
          7,
          9,
          1,
          4,
          10,
          10,
          3,
          1,
          8,
          8,
          2,
          6,
          4,
          4,
          9,
          4,
          10,
          9,
          7,
          2,
          6,
          6,
          5,
          5,
          9,
          7,
          4,
          4,
          4,
          2,
          5,
          4,
          5,
          1,
          6,
          10,
          9,
          7,
          3,
          10,
          1,
          10,
          1,
          5,
          5,
          9,
          6,
          9,
          6,
          4,
          1,
          5,
          7,
          4,
          5,
          4,
          4,
          5,
          10,
          2,
          5,
          3,
          8,
          1,
          4,
          1,
          2,
          7,
          3,
          3,
          10,
          8,
          1,
          9,
          7,
          3,
          5,
          10,
          2,
          2,
          6,
          7,
          1,
          9,
          4,
          6,
          4,
          8,
          5,
          8,
          9,
          1,
          7,
          1,
          10,
          3,
          1,
          1,
          6,
          6,
          5,
          1,
          4,
          5,
          9,
          10,
          10,
          1,
          5,
          10,
          4,
          1,
          5,
          10,
          7,
          6,
          1,
          1,
          6,
          4,
          10,
          8,
          5,
          3,
          5,
          4,
          10,
          1,
          8,
          10,
          5,
          10,
          10,
          4,
          10,
          4,
          1,
          9,
          2,
          10,
          8,
          10,
          2,
          8,
          2,
          6,
          1,
          8,
          1,
          1,
          2,
          2,
          1,
          8,
          3,
          6,
          5,
          6,
          7,
          5,
          7,
          7,
          7,
          1,
          5,
          5,
          2,
          5,
          3,
          6,
          6,
          2,
          6,
          5,
          4,
          2,
          10,
          9,
          6,
          8,
          10,
          9,
          5,
          7,
          1,
          1,
          4,
          6,
          3,
          1,
          4,
          6,
          1,
          4,
          10,
          9,
          5,
          6,
          3,
          9,
          9,
          6,
          7,
          3,
          2,
          10,
          6,
          3,
          9,
          10,
          8,
          6,
          2,
          10,
          10,
          9,
          7,
          7,
          5,
          10,
          7,
          2,
          5,
          7,
          4,
          4,
          4,
          2,
          3,
          4,
          2,
          4,
          3,
          4,
          3,
          5,
          10,
          5,
          6,
          7,
          1,
          3,
          3,
          3,
          3,
          9,
          5,
          2,
          1,
          1,
          10,
          6,
          7,
          4,
          7,
          4,
          1,
          2,
          1,
          9,
          3,
          1,
          10,
          9,
          6,
          5,
          6,
          6,
          3,
          1,
          7,
          10,
          1,
          2,
          2,
          10,
          3,
          1,
          10,
          3,
          2,
          3,
          3,
          10,
          7,
          1,
          5,
          3,
          3,
          8,
          2,
          8,
          5,
          9,
          6,
          1,
          2,
          10,
          5,
          6,
          10,
          9,
          4,
          3,
          1,
          3,
          5,
          1,
          3,
          7,
          6,
          10,
          2,
          4,
          3,
          4,
          6,
          2,
          10,
          2,
          3,
          8,
          10,
          2,
          7,
          4,
          10,
          6,
          1,
          1,
          6,
          2,
          6,
          2,
          2,
          10,
          2,
          3,
          9,
          7,
          10,
          7,
          9,
          5,
          4,
          4,
          9,
          10,
          8,
          3,
          10,
          9,
          9,
          7,
          4,
          1,
          8,
          3,
          6,
          4,
          9,
          9,
          8,
          5,
          7,
          3,
          3,
          6,
          7,
          9,
          3,
          7,
          4,
          8,
          3,
          10,
          4,
          7,
          4,
          3,
          1,
          7,
          1,
          10,
          7,
          10,
          8,
          9,
          7,
          1,
          2,
          2,
          8,
          1,
          10,
          5,
          9,
          7,
          4,
          5,
          10,
          5,
          3,
          8,
          8,
          6,
          10,
          4,
          10,
          10,
          8,
          5,
          4,
          8,
          3,
          6,
          4,
          6,
          4,
          7,
          7,
          1,
          2,
          5,
          7,
          1,
          5,
          9,
          8,
          4,
          1,
          8,
          5,
          7,
          8,
          5,
          3,
          7,
          1,
          4,
          10,
          7,
          2,
          2,
          1,
          10,
          1,
          5,
          6,
          8,
          7,
          9,
          9,
          4,
          2,
          4,
          1,
          10,
          8,
          10,
          5,
          1,
          8,
          8,
          7,
          8,
          4,
          5,
          4,
          2,
          1,
          3,
          7,
          4,
          9,
          3,
          10,
          10,
          8,
          4,
          8,
          1,
          7,
          1,
          5,
          6,
          10,
          6,
          3,
          1,
          2,
          2,
          1,
          3,
          1,
          1,
          9,
          6,
          1,
          2,
          7,
          10,
          5,
          9,
          8,
          4,
          6,
          9,
          1,
          2,
          9,
          7,
          3,
          3,
          8,
          2,
          3,
          4,
          7,
          1,
          10,
          6,
          4,
          8,
          1,
          1,
          8,
          8,
          10,
          8,
          10,
          6,
          2,
          7,
          1,
          10,
          8,
          10,
          5,
          8,
          5,
          5,
          6,
          8,
          7,
          6,
          7,
          9,
          9,
          4,
          5,
          7,
          2,
          4,
          10,
          5,
          2,
          10,
          3,
          4,
          8,
          8,
          3,
          6,
          1,
          4,
          3,
          3,
          9,
          6,
          2,
          7,
          6,
          4,
          1,
          9,
          9,
          2,
          6,
          2,
          10,
          7,
          6,
          3,
          7,
          5,
          3,
          6,
          4,
          9,
          10,
          5,
          7,
          7,
          2,
          1,
          5,
          8,
          3,
          3,
          4,
          4,
          6,
          7,
          9,
          6,
          10,
          9,
          1,
          2,
          1,
          3,
          2,
          2,
          9,
          3,
          3,
          5,
          10,
          7,
          7,
          3,
          2,
          2,
          4,
          6,
          1,
          1,
          4,
          4,
          9,
          7,
          7,
          5,
          2,
          8,
          10,
          8,
          5,
          10,
          2,
          10,
          1,
          1,
          10,
          1,
          1,
          7
         ]
        }
       ],
       "layout": {
        "legend": {
         "tracegroupgap": 0
        },
        "piecolorway": [
         "rgb(127,0,0)",
         "rgb(179,0,0)",
         "rgb(215,48,31)",
         "rgb(239,101,72)",
         "rgb(252,141,89)",
         "rgb(253,187,132)",
         "rgb(253,212,158)",
         "rgb(254,232,200)",
         "rgb(255,247,236)"
        ],
        "template": {
         "data": {
          "bar": [
           {
            "error_x": {
             "color": "#2a3f5f"
            },
            "error_y": {
             "color": "#2a3f5f"
            },
            "marker": {
             "line": {
              "color": "#E5ECF6",
              "width": 0.5
             },
             "pattern": {
              "fillmode": "overlay",
              "size": 10,
              "solidity": 0.2
             }
            },
            "type": "bar"
           }
          ],
          "barpolar": [
           {
            "marker": {
             "line": {
              "color": "#E5ECF6",
              "width": 0.5
             },
             "pattern": {
              "fillmode": "overlay",
              "size": 10,
              "solidity": 0.2
             }
            },
            "type": "barpolar"
           }
          ],
          "carpet": [
           {
            "aaxis": {
             "endlinecolor": "#2a3f5f",
             "gridcolor": "white",
             "linecolor": "white",
             "minorgridcolor": "white",
             "startlinecolor": "#2a3f5f"
            },
            "baxis": {
             "endlinecolor": "#2a3f5f",
             "gridcolor": "white",
             "linecolor": "white",
             "minorgridcolor": "white",
             "startlinecolor": "#2a3f5f"
            },
            "type": "carpet"
           }
          ],
          "choropleth": [
           {
            "colorbar": {
             "outlinewidth": 0,
             "ticks": ""
            },
            "type": "choropleth"
           }
          ],
          "contour": [
           {
            "colorbar": {
             "outlinewidth": 0,
             "ticks": ""
            },
            "colorscale": [
             [
              0,
              "#0d0887"
             ],
             [
              0.1111111111111111,
              "#46039f"
             ],
             [
              0.2222222222222222,
              "#7201a8"
             ],
             [
              0.3333333333333333,
              "#9c179e"
             ],
             [
              0.4444444444444444,
              "#bd3786"
             ],
             [
              0.5555555555555556,
              "#d8576b"
             ],
             [
              0.6666666666666666,
              "#ed7953"
             ],
             [
              0.7777777777777778,
              "#fb9f3a"
             ],
             [
              0.8888888888888888,
              "#fdca26"
             ],
             [
              1,
              "#f0f921"
             ]
            ],
            "type": "contour"
           }
          ],
          "contourcarpet": [
           {
            "colorbar": {
             "outlinewidth": 0,
             "ticks": ""
            },
            "type": "contourcarpet"
           }
          ],
          "heatmap": [
           {
            "colorbar": {
             "outlinewidth": 0,
             "ticks": ""
            },
            "colorscale": [
             [
              0,
              "#0d0887"
             ],
             [
              0.1111111111111111,
              "#46039f"
             ],
             [
              0.2222222222222222,
              "#7201a8"
             ],
             [
              0.3333333333333333,
              "#9c179e"
             ],
             [
              0.4444444444444444,
              "#bd3786"
             ],
             [
              0.5555555555555556,
              "#d8576b"
             ],
             [
              0.6666666666666666,
              "#ed7953"
             ],
             [
              0.7777777777777778,
              "#fb9f3a"
             ],
             [
              0.8888888888888888,
              "#fdca26"
             ],
             [
              1,
              "#f0f921"
             ]
            ],
            "type": "heatmap"
           }
          ],
          "heatmapgl": [
           {
            "colorbar": {
             "outlinewidth": 0,
             "ticks": ""
            },
            "colorscale": [
             [
              0,
              "#0d0887"
             ],
             [
              0.1111111111111111,
              "#46039f"
             ],
             [
              0.2222222222222222,
              "#7201a8"
             ],
             [
              0.3333333333333333,
              "#9c179e"
             ],
             [
              0.4444444444444444,
              "#bd3786"
             ],
             [
              0.5555555555555556,
              "#d8576b"
             ],
             [
              0.6666666666666666,
              "#ed7953"
             ],
             [
              0.7777777777777778,
              "#fb9f3a"
             ],
             [
              0.8888888888888888,
              "#fdca26"
             ],
             [
              1,
              "#f0f921"
             ]
            ],
            "type": "heatmapgl"
           }
          ],
          "histogram": [
           {
            "marker": {
             "pattern": {
              "fillmode": "overlay",
              "size": 10,
              "solidity": 0.2
             }
            },
            "type": "histogram"
           }
          ],
          "histogram2d": [
           {
            "colorbar": {
             "outlinewidth": 0,
             "ticks": ""
            },
            "colorscale": [
             [
              0,
              "#0d0887"
             ],
             [
              0.1111111111111111,
              "#46039f"
             ],
             [
              0.2222222222222222,
              "#7201a8"
             ],
             [
              0.3333333333333333,
              "#9c179e"
             ],
             [
              0.4444444444444444,
              "#bd3786"
             ],
             [
              0.5555555555555556,
              "#d8576b"
             ],
             [
              0.6666666666666666,
              "#ed7953"
             ],
             [
              0.7777777777777778,
              "#fb9f3a"
             ],
             [
              0.8888888888888888,
              "#fdca26"
             ],
             [
              1,
              "#f0f921"
             ]
            ],
            "type": "histogram2d"
           }
          ],
          "histogram2dcontour": [
           {
            "colorbar": {
             "outlinewidth": 0,
             "ticks": ""
            },
            "colorscale": [
             [
              0,
              "#0d0887"
             ],
             [
              0.1111111111111111,
              "#46039f"
             ],
             [
              0.2222222222222222,
              "#7201a8"
             ],
             [
              0.3333333333333333,
              "#9c179e"
             ],
             [
              0.4444444444444444,
              "#bd3786"
             ],
             [
              0.5555555555555556,
              "#d8576b"
             ],
             [
              0.6666666666666666,
              "#ed7953"
             ],
             [
              0.7777777777777778,
              "#fb9f3a"
             ],
             [
              0.8888888888888888,
              "#fdca26"
             ],
             [
              1,
              "#f0f921"
             ]
            ],
            "type": "histogram2dcontour"
           }
          ],
          "mesh3d": [
           {
            "colorbar": {
             "outlinewidth": 0,
             "ticks": ""
            },
            "type": "mesh3d"
           }
          ],
          "parcoords": [
           {
            "line": {
             "colorbar": {
              "outlinewidth": 0,
              "ticks": ""
             }
            },
            "type": "parcoords"
           }
          ],
          "pie": [
           {
            "automargin": true,
            "type": "pie"
           }
          ],
          "scatter": [
           {
            "fillpattern": {
             "fillmode": "overlay",
             "size": 10,
             "solidity": 0.2
            },
            "type": "scatter"
           }
          ],
          "scatter3d": [
           {
            "line": {
             "colorbar": {
              "outlinewidth": 0,
              "ticks": ""
             }
            },
            "marker": {
             "colorbar": {
              "outlinewidth": 0,
              "ticks": ""
             }
            },
            "type": "scatter3d"
           }
          ],
          "scattercarpet": [
           {
            "marker": {
             "colorbar": {
              "outlinewidth": 0,
              "ticks": ""
             }
            },
            "type": "scattercarpet"
           }
          ],
          "scattergeo": [
           {
            "marker": {
             "colorbar": {
              "outlinewidth": 0,
              "ticks": ""
             }
            },
            "type": "scattergeo"
           }
          ],
          "scattergl": [
           {
            "marker": {
             "colorbar": {
              "outlinewidth": 0,
              "ticks": ""
             }
            },
            "type": "scattergl"
           }
          ],
          "scattermapbox": [
           {
            "marker": {
             "colorbar": {
              "outlinewidth": 0,
              "ticks": ""
             }
            },
            "type": "scattermapbox"
           }
          ],
          "scatterpolar": [
           {
            "marker": {
             "colorbar": {
              "outlinewidth": 0,
              "ticks": ""
             }
            },
            "type": "scatterpolar"
           }
          ],
          "scatterpolargl": [
           {
            "marker": {
             "colorbar": {
              "outlinewidth": 0,
              "ticks": ""
             }
            },
            "type": "scatterpolargl"
           }
          ],
          "scatterternary": [
           {
            "marker": {
             "colorbar": {
              "outlinewidth": 0,
              "ticks": ""
             }
            },
            "type": "scatterternary"
           }
          ],
          "surface": [
           {
            "colorbar": {
             "outlinewidth": 0,
             "ticks": ""
            },
            "colorscale": [
             [
              0,
              "#0d0887"
             ],
             [
              0.1111111111111111,
              "#46039f"
             ],
             [
              0.2222222222222222,
              "#7201a8"
             ],
             [
              0.3333333333333333,
              "#9c179e"
             ],
             [
              0.4444444444444444,
              "#bd3786"
             ],
             [
              0.5555555555555556,
              "#d8576b"
             ],
             [
              0.6666666666666666,
              "#ed7953"
             ],
             [
              0.7777777777777778,
              "#fb9f3a"
             ],
             [
              0.8888888888888888,
              "#fdca26"
             ],
             [
              1,
              "#f0f921"
             ]
            ],
            "type": "surface"
           }
          ],
          "table": [
           {
            "cells": {
             "fill": {
              "color": "#EBF0F8"
             },
             "line": {
              "color": "white"
             }
            },
            "header": {
             "fill": {
              "color": "#C8D4E3"
             },
             "line": {
              "color": "white"
             }
            },
            "type": "table"
           }
          ]
         },
         "layout": {
          "annotationdefaults": {
           "arrowcolor": "#2a3f5f",
           "arrowhead": 0,
           "arrowwidth": 1
          },
          "autotypenumbers": "strict",
          "coloraxis": {
           "colorbar": {
            "outlinewidth": 0,
            "ticks": ""
           }
          },
          "colorscale": {
           "diverging": [
            [
             0,
             "#8e0152"
            ],
            [
             0.1,
             "#c51b7d"
            ],
            [
             0.2,
             "#de77ae"
            ],
            [
             0.3,
             "#f1b6da"
            ],
            [
             0.4,
             "#fde0ef"
            ],
            [
             0.5,
             "#f7f7f7"
            ],
            [
             0.6,
             "#e6f5d0"
            ],
            [
             0.7,
             "#b8e186"
            ],
            [
             0.8,
             "#7fbc41"
            ],
            [
             0.9,
             "#4d9221"
            ],
            [
             1,
             "#276419"
            ]
           ],
           "sequential": [
            [
             0,
             "#0d0887"
            ],
            [
             0.1111111111111111,
             "#46039f"
            ],
            [
             0.2222222222222222,
             "#7201a8"
            ],
            [
             0.3333333333333333,
             "#9c179e"
            ],
            [
             0.4444444444444444,
             "#bd3786"
            ],
            [
             0.5555555555555556,
             "#d8576b"
            ],
            [
             0.6666666666666666,
             "#ed7953"
            ],
            [
             0.7777777777777778,
             "#fb9f3a"
            ],
            [
             0.8888888888888888,
             "#fdca26"
            ],
            [
             1,
             "#f0f921"
            ]
           ],
           "sequentialminus": [
            [
             0,
             "#0d0887"
            ],
            [
             0.1111111111111111,
             "#46039f"
            ],
            [
             0.2222222222222222,
             "#7201a8"
            ],
            [
             0.3333333333333333,
             "#9c179e"
            ],
            [
             0.4444444444444444,
             "#bd3786"
            ],
            [
             0.5555555555555556,
             "#d8576b"
            ],
            [
             0.6666666666666666,
             "#ed7953"
            ],
            [
             0.7777777777777778,
             "#fb9f3a"
            ],
            [
             0.8888888888888888,
             "#fdca26"
            ],
            [
             1,
             "#f0f921"
            ]
           ]
          },
          "colorway": [
           "#636efa",
           "#EF553B",
           "#00cc96",
           "#ab63fa",
           "#FFA15A",
           "#19d3f3",
           "#FF6692",
           "#B6E880",
           "#FF97FF",
           "#FECB52"
          ],
          "font": {
           "color": "#2a3f5f"
          },
          "geo": {
           "bgcolor": "white",
           "lakecolor": "white",
           "landcolor": "#E5ECF6",
           "showlakes": true,
           "showland": true,
           "subunitcolor": "white"
          },
          "hoverlabel": {
           "align": "left"
          },
          "hovermode": "closest",
          "mapbox": {
           "style": "light"
          },
          "paper_bgcolor": "white",
          "plot_bgcolor": "#E5ECF6",
          "polar": {
           "angularaxis": {
            "gridcolor": "white",
            "linecolor": "white",
            "ticks": ""
           },
           "bgcolor": "#E5ECF6",
           "radialaxis": {
            "gridcolor": "white",
            "linecolor": "white",
            "ticks": ""
           }
          },
          "scene": {
           "xaxis": {
            "backgroundcolor": "#E5ECF6",
            "gridcolor": "white",
            "gridwidth": 2,
            "linecolor": "white",
            "showbackground": true,
            "ticks": "",
            "zerolinecolor": "white"
           },
           "yaxis": {
            "backgroundcolor": "#E5ECF6",
            "gridcolor": "white",
            "gridwidth": 2,
            "linecolor": "white",
            "showbackground": true,
            "ticks": "",
            "zerolinecolor": "white"
           },
           "zaxis": {
            "backgroundcolor": "#E5ECF6",
            "gridcolor": "white",
            "gridwidth": 2,
            "linecolor": "white",
            "showbackground": true,
            "ticks": "",
            "zerolinecolor": "white"
           }
          },
          "shapedefaults": {
           "line": {
            "color": "#2a3f5f"
           }
          },
          "ternary": {
           "aaxis": {
            "gridcolor": "white",
            "linecolor": "white",
            "ticks": ""
           },
           "baxis": {
            "gridcolor": "white",
            "linecolor": "white",
            "ticks": ""
           },
           "bgcolor": "#E5ECF6",
           "caxis": {
            "gridcolor": "white",
            "linecolor": "white",
            "ticks": ""
           }
          },
          "title": {
           "x": 0.05
          },
          "xaxis": {
           "automargin": true,
           "gridcolor": "white",
           "linecolor": "white",
           "ticks": "",
           "title": {
            "standoff": 15
           },
           "zerolinecolor": "white",
           "zerolinewidth": 2
          },
          "yaxis": {
           "automargin": true,
           "gridcolor": "white",
           "linecolor": "white",
           "ticks": "",
           "title": {
            "standoff": 15
           },
           "zerolinecolor": "white",
           "zerolinewidth": 2
          }
         }
        },
        "title": {
         "text": "<b> Who buys more : Men or Women?<b>"
        }
       }
      }
     },
     "metadata": {},
     "output_type": "display_data"
    }
   ],
   "source": [
    "fig = px.pie(df,values='Quantity',names='Gender',\n",
    "             hover_data=['Quantity','Gender'],\n",
    "             labels={'Gender':'Gender'},\n",
    "             title='<b> Who buys more : Men or Women?<b>',\n",
    "             color_discrete_sequence=px.colors.sequential.OrRd_r)\n",
    "\n",
    "\n",
    "fig.update_traces(textposition='inside',\n",
    "                  textinfo='percent+label')\n",
    "\n",
    "\n",
    "\n",
    "fig.show()"
   ]
  },
  {
   "cell_type": "code",
   "execution_count": null,
   "metadata": {},
   "outputs": [],
   "source": [
    "# first set figure size\n",
    "plt.figure(figsize=(15,6))\n",
    "\n",
    "# call function i create it in cell 10\n",
    "count_plot(x_axis = \"Product line\", hue = \"Gender\")"
   ]
  },
  {
   "cell_type": "code",
   "execution_count": 92,
   "metadata": {},
   "outputs": [
    {
     "data": {
      "image/png": "[encoded data removed]",
      "text/plain": [
       "<Figure size 1500x500 with 1 Axes>"
      ]
     },
     "metadata": {},
     "output_type": "display_data"
    }
   ],
   "source": [
    "plt.figure(figsize=(15,5))\n",
    "\n",
    "chart = sns.countplot(x = \"Product line\", data = df, hue=\"Gender\", order = df[\"Product line\"].value_counts().index)\n",
    "for num in chart.containers:\n",
    "    chart.bar_label(num)\n",
    "    \n",
    "plt.show();"
   ]
  },
  {
   "cell_type": "markdown",
   "metadata": {},
   "source": [
    "Когда увеличивается количество женщин, увеличивается линейка модных аксессуаров\n",
    "Когда увеличивается количество мужчин, увеличивается линейка товаров для здоровья и красоты"
   ]
  },
  {
   "cell_type": "code",
   "execution_count": 96,
   "metadata": {},
   "outputs": [
    {
     "data": {
      "image/png": "[encoded data removed]",
      "text/plain": [
       "<Figure size 500x500 with 1 Axes>"
      ]
     },
     "metadata": {},
     "output_type": "display_data"
    }
   ],
   "source": [
    "sales_by_hour = df.groupby('Month')['Total'].sum()\n",
    "\n",
    "# Plot the total sales by hour\n",
    "plt.figure(figsize=(5, 5))\n",
    "sns.barplot(x=sales_by_hour.index, y=sales_by_hour.values)\n",
    "plt.title('Total Sales by Hour of Day')\n",
    "plt.xlabel('Hour of Day')\n",
    "plt.ylabel('Total Sales')\n",
    "plt.show();"
   ]
  }
 ],
 "metadata": {
  "kernelspec": {
   "display_name": "machine_learning",
   "language": "python",
   "name": "python3"
  },
  "language_info": {
   "codemirror_mode": {
    "name": "ipython",
    "version": 3
   },
   "file_extension": ".py",
   "mimetype": "text/x-python",
   "name": "python",
   "nbconvert_exporter": "python",
   "pygments_lexer": "ipython3",
   "version": "3.10.13"
  }
 },
 "nbformat": 4,
 "nbformat_minor": 2
}
