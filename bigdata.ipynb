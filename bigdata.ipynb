{
 "cells": [
  {
   "cell_type": "code",
   "execution_count": 80,
   "metadata": {},
   "outputs": [],
   "source": [
    "import warnings \n",
    "warnings.filterwarnings('ignore')"
   ]
  },
  {
   "cell_type": "code",
   "execution_count": 81,
   "metadata": {},
   "outputs": [],
   "source": [
    "import pandas as pd\n",
    "import numpy as np\n",
    "import matplotlib.pyplot as plt\n",
    "import seaborn as sns\n",
    "import plotly.express as px"
   ]
  },
  {
   "cell_type": "code",
   "execution_count": 82,
   "metadata": {},
   "outputs": [],
   "source": [
    "df = pd.read_csv('supermarket_sales.csv')"
   ]
  },
  {
   "cell_type": "code",
   "execution_count": 83,
   "metadata": {},
   "outputs": [
    {
     "name": "stdout",
     "output_type": "stream",
     "text": [
      "<class 'pandas.core.frame.DataFrame'>\n",
      "RangeIndex: 1000 entries, 0 to 999\n",
      "Data columns (total 17 columns):\n",
      " #   Column                   Non-Null Count  Dtype  \n",
      "---  ------                   --------------  -----  \n",
      " 0   Invoice ID               1000 non-null   object \n",
      " 1   Branch                   1000 non-null   object \n",
      " 2   City                     1000 non-null   object \n",
      " 3   Customer type            1000 non-null   object \n",
      " 4   Gender                   1000 non-null   object \n",
      " 5   Product line             1000 non-null   object \n",
      " 6   Unit price               1000 non-null   float64\n",
      " 7   Quantity                 1000 non-null   int64  \n",
      " 8   Tax 5%                   1000 non-null   float64\n",
      " 9   Total                    1000 non-null   float64\n",
      " 10  Date                     1000 non-null   object \n",
      " 11  Time                     1000 non-null   object \n",
      " 12  Payment                  1000 non-null   object \n",
      " 13  cogs                     1000 non-null   float64\n",
      " 14  gross margin percentage  1000 non-null   float64\n",
      " 15  gross income             1000 non-null   float64\n",
      " 16  Rating                   1000 non-null   float64\n",
      "dtypes: float64(7), int64(1), object(9)\n",
      "memory usage: 132.9+ KB\n"
     ]
    }
   ],
   "source": [
    "df.info()"
   ]
  },
  {
   "cell_type": "code",
   "execution_count": 84,
   "metadata": {},
   "outputs": [
    {
     "data": {
      "text/plain": [
       "(1000, 17)"
      ]
     },
     "execution_count": 84,
     "metadata": {},
     "output_type": "execute_result"
    }
   ],
   "source": [
    "df.shape"
   ]
  },
  {
   "cell_type": "code",
   "execution_count": 85,
   "metadata": {},
   "outputs": [
    {
     "data": {
      "text/plain": [
       "False"
      ]
     },
     "execution_count": 85,
     "metadata": {},
     "output_type": "execute_result"
    }
   ],
   "source": [
    "df.duplicated().any()"
   ]
  },
  {
   "cell_type": "code",
   "execution_count": 86,
   "metadata": {},
   "outputs": [
    {
     "data": {
      "text/plain": [
       "Invoice ID                 0\n",
       "Branch                     0\n",
       "City                       0\n",
       "Customer type              0\n",
       "Gender                     0\n",
       "Product line               0\n",
       "Unit price                 0\n",
       "Quantity                   0\n",
       "Tax 5%                     0\n",
       "Total                      0\n",
       "Date                       0\n",
       "Time                       0\n",
       "Payment                    0\n",
       "cogs                       0\n",
       "gross margin percentage    0\n",
       "gross income               0\n",
       "Rating                     0\n",
       "dtype: int64"
      ]
     },
     "execution_count": 86,
     "metadata": {},
     "output_type": "execute_result"
    }
   ],
   "source": [
    "df.isna().sum()"
   ]
  },
  {
   "cell_type": "code",
   "execution_count": 87,
   "metadata": {},
   "outputs": [
    {
     "data": {
      "text/html": [
       "<div>\n",
       "<style scoped>\n",
       "    .dataframe tbody tr th:only-of-type {\n",
       "        vertical-align: middle;\n",
       "    }\n",
       "\n",
       "    .dataframe tbody tr th {\n",
       "        vertical-align: top;\n",
       "    }\n",
       "\n",
       "    .dataframe thead th {\n",
       "        text-align: right;\n",
       "    }\n",
       "</style>\n",
       "<table border=\"1\" class=\"dataframe\">\n",
       "  <thead>\n",
       "    <tr style=\"text-align: right;\">\n",
       "      <th></th>\n",
       "      <th>Invoice ID</th>\n",
       "      <th>Branch</th>\n",
       "      <th>City</th>\n",
       "      <th>Customer type</th>\n",
       "      <th>Gender</th>\n",
       "      <th>Product line</th>\n",
       "      <th>Unit price</th>\n",
       "      <th>Quantity</th>\n",
       "      <th>Tax 5%</th>\n",
       "      <th>Total</th>\n",
       "      <th>Date</th>\n",
       "      <th>Time</th>\n",
       "      <th>Payment</th>\n",
       "      <th>cogs</th>\n",
       "      <th>gross margin percentage</th>\n",
       "      <th>gross income</th>\n",
       "      <th>Rating</th>\n",
       "    </tr>\n",
       "  </thead>\n",
       "  <tbody>\n",
       "    <tr>\n",
       "      <th>0</th>\n",
       "      <td>750-67-8428</td>\n",
       "      <td>A</td>\n",
       "      <td>Yangon</td>\n",
       "      <td>Member</td>\n",
       "      <td>Female</td>\n",
       "      <td>Health and beauty</td>\n",
       "      <td>74.69</td>\n",
       "      <td>7</td>\n",
       "      <td>26.1415</td>\n",
       "      <td>548.9715</td>\n",
       "      <td>1/5/2019</td>\n",
       "      <td>13:08</td>\n",
       "      <td>Ewallet</td>\n",
       "      <td>522.83</td>\n",
       "      <td>4.761905</td>\n",
       "      <td>26.1415</td>\n",
       "      <td>9.1</td>\n",
       "    </tr>\n",
       "    <tr>\n",
       "      <th>1</th>\n",
       "      <td>226-31-3081</td>\n",
       "      <td>C</td>\n",
       "      <td>Naypyitaw</td>\n",
       "      <td>Normal</td>\n",
       "      <td>Female</td>\n",
       "      <td>Electronic accessories</td>\n",
       "      <td>15.28</td>\n",
       "      <td>5</td>\n",
       "      <td>3.8200</td>\n",
       "      <td>80.2200</td>\n",
       "      <td>3/8/2019</td>\n",
       "      <td>10:29</td>\n",
       "      <td>Cash</td>\n",
       "      <td>76.40</td>\n",
       "      <td>4.761905</td>\n",
       "      <td>3.8200</td>\n",
       "      <td>9.6</td>\n",
       "    </tr>\n",
       "    <tr>\n",
       "      <th>2</th>\n",
       "      <td>631-41-3108</td>\n",
       "      <td>A</td>\n",
       "      <td>Yangon</td>\n",
       "      <td>Normal</td>\n",
       "      <td>Male</td>\n",
       "      <td>Home and lifestyle</td>\n",
       "      <td>46.33</td>\n",
       "      <td>7</td>\n",
       "      <td>16.2155</td>\n",
       "      <td>340.5255</td>\n",
       "      <td>3/3/2019</td>\n",
       "      <td>13:23</td>\n",
       "      <td>Credit card</td>\n",
       "      <td>324.31</td>\n",
       "      <td>4.761905</td>\n",
       "      <td>16.2155</td>\n",
       "      <td>7.4</td>\n",
       "    </tr>\n",
       "    <tr>\n",
       "      <th>3</th>\n",
       "      <td>123-19-1176</td>\n",
       "      <td>A</td>\n",
       "      <td>Yangon</td>\n",
       "      <td>Member</td>\n",
       "      <td>Male</td>\n",
       "      <td>Health and beauty</td>\n",
       "      <td>58.22</td>\n",
       "      <td>8</td>\n",
       "      <td>23.2880</td>\n",
       "      <td>489.0480</td>\n",
       "      <td>1/27/2019</td>\n",
       "      <td>20:33</td>\n",
       "      <td>Ewallet</td>\n",
       "      <td>465.76</td>\n",
       "      <td>4.761905</td>\n",
       "      <td>23.2880</td>\n",
       "      <td>8.4</td>\n",
       "    </tr>\n",
       "    <tr>\n",
       "      <th>4</th>\n",
       "      <td>373-73-7910</td>\n",
       "      <td>A</td>\n",
       "      <td>Yangon</td>\n",
       "      <td>Normal</td>\n",
       "      <td>Male</td>\n",
       "      <td>Sports and travel</td>\n",
       "      <td>86.31</td>\n",
       "      <td>7</td>\n",
       "      <td>30.2085</td>\n",
       "      <td>634.3785</td>\n",
       "      <td>2/8/2019</td>\n",
       "      <td>10:37</td>\n",
       "      <td>Ewallet</td>\n",
       "      <td>604.17</td>\n",
       "      <td>4.761905</td>\n",
       "      <td>30.2085</td>\n",
       "      <td>5.3</td>\n",
       "    </tr>\n",
       "  </tbody>\n",
       "</table>\n",
       "</div>"
      ],
      "text/plain": [
       "    Invoice ID Branch       City Customer type  Gender  \\\n",
       "0  750-67-8428      A     Yangon        Member  Female   \n",
       "1  226-31-3081      C  Naypyitaw        Normal  Female   \n",
       "2  631-41-3108      A     Yangon        Normal    Male   \n",
       "3  123-19-1176      A     Yangon        Member    Male   \n",
       "4  373-73-7910      A     Yangon        Normal    Male   \n",
       "\n",
       "             Product line  Unit price  Quantity   Tax 5%     Total       Date  \\\n",
       "0       Health and beauty       74.69         7  26.1415  548.9715   1/5/2019   \n",
       "1  Electronic accessories       15.28         5   3.8200   80.2200   3/8/2019   \n",
       "2      Home and lifestyle       46.33         7  16.2155  340.5255   3/3/2019   \n",
       "3       Health and beauty       58.22         8  23.2880  489.0480  1/27/2019   \n",
       "4       Sports and travel       86.31         7  30.2085  634.3785   2/8/2019   \n",
       "\n",
       "    Time      Payment    cogs  gross margin percentage  gross income  Rating  \n",
       "0  13:08      Ewallet  522.83                 4.761905       26.1415     9.1  \n",
       "1  10:29         Cash   76.40                 4.761905        3.8200     9.6  \n",
       "2  13:23  Credit card  324.31                 4.761905       16.2155     7.4  \n",
       "3  20:33      Ewallet  465.76                 4.761905       23.2880     8.4  \n",
       "4  10:37      Ewallet  604.17                 4.761905       30.2085     5.3  "
      ]
     },
     "execution_count": 87,
     "metadata": {},
     "output_type": "execute_result"
    }
   ],
   "source": [
    "df.head()"
   ]
  },
  {
   "cell_type": "markdown",
   "metadata": {},
   "source": [
    "## step 2\n"
   ]
  },
  {
   "cell_type": "code",
   "execution_count": 88,
   "metadata": {},
   "outputs": [],
   "source": [
    "df[\"Date\"] = pd.to_datetime(df[\"Date\"])"
   ]
  },
  {
   "cell_type": "code",
   "execution_count": 104,
   "metadata": {},
   "outputs": [],
   "source": [
    "df[\"Month\"] = df[\"Date\"].dt.month"
   ]
  },
  {
   "cell_type": "code",
   "execution_count": 90,
   "metadata": {},
   "outputs": [
    {
     "data": {
      "text/plain": [
       "array(['A', 'C', 'B'], dtype=object)"
      ]
     },
     "execution_count": 90,
     "metadata": {},
     "output_type": "execute_result"
    }
   ],
   "source": [
    "df['Branch'].unique()"
   ]
  },
  {
   "cell_type": "code",
   "execution_count": 91,
   "metadata": {},
   "outputs": [],
   "source": [
    "def pie(column):\n",
    "    plt.pie(df[column].value_counts(), labels = df[column].value_counts().index, autopct = \"%1.1f%%\", shadow=True)\n",
    "    plt.show();"
   ]
  },
  {
   "cell_type": "code",
   "execution_count": 92,
   "metadata": {},
   "outputs": [
    {
     "data": {
      "image/png": "[encoded data removed]",
      "text/plain": [
       "<Figure size 640x480 with 1 Axes>"
      ]
     },
     "metadata": {},
     "output_type": "display_data"
    }
   ],
   "source": [
    "plt.pie(\n",
    "    df['Branch'].value_counts(), \n",
    "    labels = df['Branch'].value_counts().index, \n",
    "    autopct = \"%1.1f%%\", \n",
    "    shadow=True,\n",
    "    colors=sns.color_palette('Set2')\n",
    "\n",
    ")\n",
    "plt.rcParams[\"font.serif\"] = \"Times New Roman\"\n",
    "plt.title(\n",
    "    label=\"Объемы продаж\", \n",
    "    fontdict={\"fontsize\":20},\n",
    "    pad=20\n",
    ")\n",
    "plt.show();"
   ]
  },
  {
   "cell_type": "markdown",
   "metadata": {},
   "source": [
    "В филиалах A самые большие объемы продаж\n",
    "В филиале C наименьшие объемы продаж"
   ]
  },
  {
   "cell_type": "code",
   "execution_count": 93,
   "metadata": {},
   "outputs": [
    {
     "data": {
      "image/png": "[encoded data removed]",
      "text/plain": [
       "<Figure size 640x480 with 1 Axes>"
      ]
     },
     "metadata": {},
     "output_type": "display_data"
    }
   ],
   "source": [
    "\n",
    "plt.pie(\n",
    "    df['Customer type'].value_counts(), \n",
    "    labels = df['Customer type'].value_counts().index, \n",
    "    autopct = \"%1.1f%%\", \n",
    "    shadow=True,\n",
    "    colors=sns.color_palette('Set2')\n",
    "\n",
    ")\n",
    "plt.rcParams[\"font.serif\"] = \"Times New Roman\"\n",
    "plt.title(\n",
    "    label=\"Наличие карты лояльности\", \n",
    "    fontdict={\"fontsize\":15},\n",
    "    pad=20,\n",
    "    weight=\"bold\"\n",
    ")\n",
    "plt.show();"
   ]
  },
  {
   "cell_type": "markdown",
   "metadata": {},
   "source": [
    "Большинство людей, приходящих в филиалы, имеют карту лояльности."
   ]
  },
  {
   "cell_type": "code",
   "execution_count": 94,
   "metadata": {},
   "outputs": [
    {
     "data": {
      "image/png": "[encoded data removed]",
      "text/plain": [
       "<Figure size 640x480 with 1 Axes>"
      ]
     },
     "metadata": {},
     "output_type": "display_data"
    }
   ],
   "source": [
    "\n",
    "plt.pie(\n",
    "    df['Gender'].value_counts(), \n",
    "    labels = df['Gender'].value_counts().index, \n",
    "    autopct = \"%1.1f%%\", \n",
    "    shadow=True,\n",
    "    colors=sns.color_palette('Set2')\n",
    "\n",
    ")\n",
    "plt.rcParams[\"font.serif\"] = \"Times New Roman\"\n",
    "plt.title(\n",
    "    label=\"Объемы продаж\", \n",
    "    fontdict={\"fontsize\":20},\n",
    "    pad=20\n",
    ")\n",
    "plt.show();"
   ]
  },
  {
   "cell_type": "markdown",
   "metadata": {},
   "source": [
    "Большинство людей, приходящих в филиалы, женского пола"
   ]
  },
  {
   "cell_type": "code",
   "execution_count": 95,
   "metadata": {},
   "outputs": [
    {
     "data": {
      "application/vnd.plotly.v1+json": {
       "config": {
        "plotlyServerURL": "https://plot.ly"
       },
       "data": [
        {
         "alignmentgroup": "True",
         "bingroup": "x",
         "histfunc": "sum",
         "hovertemplate": "Product line=%{x}<br>sum of Quantity=%{y}<extra></extra>",
         "legendgroup": "",
         "marker": {
          "color": "indianred",
          "pattern": {
           "shape": ""
          }
         },
         "name": "",
         "offsetgroup": "",
         "orientation": "v",
         "showlegend": false,
         "texttemplate": "%{value}",
         "type": "histogram",
         "x": [
          "Health and beauty",
          "Electronic accessories",
          "Home and lifestyle",
          "Health and beauty",
          "Sports and travel",
          "Electronic accessories",
          "Electronic accessories",
          "Home and lifestyle",
          "Health and beauty",
          "Food and beverages",
          "Fashion accessories",
          "Electronic accessories",
          "Electronic accessories",
          "Food and beverages",
          "Health and beauty",
          "Sports and travel",
          "Health and beauty",
          "Sports and travel",
          "Food and beverages",
          "Home and lifestyle",
          "Electronic accessories",
          "Health and beauty",
          "Home and lifestyle",
          "Electronic accessories",
          "Sports and travel",
          "Home and lifestyle",
          "Fashion accessories",
          "Fashion accessories",
          "Food and beverages",
          "Health and beauty",
          "Fashion accessories",
          "Sports and travel",
          "Sports and travel",
          "Health and beauty",
          "Food and beverages",
          "Sports and travel",
          "Sports and travel",
          "Electronic accessories",
          "Health and beauty",
          "Home and lifestyle",
          "Home and lifestyle",
          "Home and lifestyle",
          "Sports and travel",
          "Food and beverages",
          "Health and beauty",
          "Electronic accessories",
          "Health and beauty",
          "Food and beverages",
          "Electronic accessories",
          "Fashion accessories",
          "Food and beverages",
          "Food and beverages",
          "Fashion accessories",
          "Fashion accessories",
          "Home and lifestyle",
          "Electronic accessories",
          "Home and lifestyle",
          "Health and beauty",
          "Home and lifestyle",
          "Electronic accessories",
          "Sports and travel",
          "Home and lifestyle",
          "Sports and travel",
          "Sports and travel",
          "Health and beauty",
          "Health and beauty",
          "Health and beauty",
          "Fashion accessories",
          "Sports and travel",
          "Health and beauty",
          "Food and beverages",
          "Fashion accessories",
          "Food and beverages",
          "Electronic accessories",
          "Home and lifestyle",
          "Electronic accessories",
          "Fashion accessories",
          "Fashion accessories",
          "Food and beverages",
          "Health and beauty",
          "Health and beauty",
          "Food and beverages",
          "Food and beverages",
          "Food and beverages",
          "Sports and travel",
          "Sports and travel",
          "Fashion accessories",
          "Food and beverages",
          "Sports and travel",
          "Health and beauty",
          "Home and lifestyle",
          "Sports and travel",
          "Sports and travel",
          "Health and beauty",
          "Health and beauty",
          "Electronic accessories",
          "Health and beauty",
          "Electronic accessories",
          "Food and beverages",
          "Home and lifestyle",
          "Fashion accessories",
          "Fashion accessories",
          "Electronic accessories",
          "Food and beverages",
          "Health and beauty",
          "Electronic accessories",
          "Fashion accessories",
          "Sports and travel",
          "Food and beverages",
          "Electronic accessories",
          "Sports and travel",
          "Health and beauty",
          "Fashion accessories",
          "Home and lifestyle",
          "Home and lifestyle",
          "Fashion accessories",
          "Fashion accessories",
          "Fashion accessories",
          "Food and beverages",
          "Home and lifestyle",
          "Electronic accessories",
          "Sports and travel",
          "Sports and travel",
          "Home and lifestyle",
          "Fashion accessories",
          "Home and lifestyle",
          "Sports and travel",
          "Fashion accessories",
          "Food and beverages",
          "Sports and travel",
          "Fashion accessories",
          "Sports and travel",
          "Sports and travel",
          "Electronic accessories",
          "Health and beauty",
          "Fashion accessories",
          "Electronic accessories",
          "Home and lifestyle",
          "Sports and travel",
          "Sports and travel",
          "Sports and travel",
          "Health and beauty",
          "Health and beauty",
          "Food and beverages",
          "Home and lifestyle",
          "Health and beauty",
          "Fashion accessories",
          "Health and beauty",
          "Home and lifestyle",
          "Health and beauty",
          "Fashion accessories",
          "Sports and travel",
          "Fashion accessories",
          "Food and beverages",
          "Sports and travel",
          "Food and beverages",
          "Electronic accessories",
          "Home and lifestyle",
          "Health and beauty",
          "Sports and travel",
          "Food and beverages",
          "Sports and travel",
          "Food and beverages",
          "Sports and travel",
          "Food and beverages",
          "Health and beauty",
          "Home and lifestyle",
          "Fashion accessories",
          "Food and beverages",
          "Sports and travel",
          "Health and beauty",
          "Food and beverages",
          "Electronic accessories",
          "Electronic accessories",
          "Food and beverages",
          "Home and lifestyle",
          "Food and beverages",
          "Fashion accessories",
          "Food and beverages",
          "Health and beauty",
          "Fashion accessories",
          "Food and beverages",
          "Sports and travel",
          "Health and beauty",
          "Sports and travel",
          "Food and beverages",
          "Home and lifestyle",
          "Home and lifestyle",
          "Home and lifestyle",
          "Home and lifestyle",
          "Home and lifestyle",
          "Fashion accessories",
          "Food and beverages",
          "Home and lifestyle",
          "Electronic accessories",
          "Fashion accessories",
          "Health and beauty",
          "Home and lifestyle",
          "Health and beauty",
          "Food and beverages",
          "Sports and travel",
          "Electronic accessories",
          "Electronic accessories",
          "Health and beauty",
          "Home and lifestyle",
          "Health and beauty",
          "Electronic accessories",
          "Home and lifestyle",
          "Fashion accessories",
          "Electronic accessories",
          "Electronic accessories",
          "Food and beverages",
          "Home and lifestyle",
          "Sports and travel",
          "Sports and travel",
          "Home and lifestyle",
          "Sports and travel",
          "Electronic accessories",
          "Fashion accessories",
          "Food and beverages",
          "Electronic accessories",
          "Food and beverages",
          "Electronic accessories",
          "Fashion accessories",
          "Food and beverages",
          "Sports and travel",
          "Health and beauty",
          "Electronic accessories",
          "Electronic accessories",
          "Home and lifestyle",
          "Fashion accessories",
          "Electronic accessories",
          "Health and beauty",
          "Fashion accessories",
          "Health and beauty",
          "Sports and travel",
          "Health and beauty",
          "Fashion accessories",
          "Electronic accessories",
          "Fashion accessories",
          "Food and beverages",
          "Health and beauty",
          "Fashion accessories",
          "Home and lifestyle",
          "Home and lifestyle",
          "Home and lifestyle",
          "Electronic accessories",
          "Fashion accessories",
          "Electronic accessories",
          "Food and beverages",
          "Food and beverages",
          "Fashion accessories",
          "Sports and travel",
          "Home and lifestyle",
          "Home and lifestyle",
          "Fashion accessories",
          "Electronic accessories",
          "Home and lifestyle",
          "Electronic accessories",
          "Electronic accessories",
          "Electronic accessories",
          "Fashion accessories",
          "Fashion accessories",
          "Sports and travel",
          "Sports and travel",
          "Sports and travel",
          "Home and lifestyle",
          "Food and beverages",
          "Home and lifestyle",
          "Home and lifestyle",
          "Sports and travel",
          "Health and beauty",
          "Home and lifestyle",
          "Home and lifestyle",
          "Health and beauty",
          "Fashion accessories",
          "Home and lifestyle",
          "Fashion accessories",
          "Fashion accessories",
          "Sports and travel",
          "Home and lifestyle",
          "Home and lifestyle",
          "Sports and travel",
          "Health and beauty",
          "Health and beauty",
          "Health and beauty",
          "Home and lifestyle",
          "Sports and travel",
          "Food and beverages",
          "Home and lifestyle",
          "Electronic accessories",
          "Electronic accessories",
          "Electronic accessories",
          "Food and beverages",
          "Health and beauty",
          "Electronic accessories",
          "Electronic accessories",
          "Home and lifestyle",
          "Home and lifestyle",
          "Home and lifestyle",
          "Fashion accessories",
          "Health and beauty",
          "Food and beverages",
          "Electronic accessories",
          "Electronic accessories",
          "Electronic accessories",
          "Sports and travel",
          "Home and lifestyle",
          "Electronic accessories",
          "Fashion accessories",
          "Sports and travel",
          "Fashion accessories",
          "Food and beverages",
          "Health and beauty",
          "Electronic accessories",
          "Food and beverages",
          "Food and beverages",
          "Electronic accessories",
          "Health and beauty",
          "Health and beauty",
          "Food and beverages",
          "Health and beauty",
          "Health and beauty",
          "Fashion accessories",
          "Home and lifestyle",
          "Sports and travel",
          "Food and beverages",
          "Food and beverages",
          "Health and beauty",
          "Electronic accessories",
          "Home and lifestyle",
          "Food and beverages",
          "Fashion accessories",
          "Food and beverages",
          "Sports and travel",
          "Electronic accessories",
          "Fashion accessories",
          "Sports and travel",
          "Electronic accessories",
          "Food and beverages",
          "Electronic accessories",
          "Health and beauty",
          "Health and beauty",
          "Food and beverages",
          "Sports and travel",
          "Fashion accessories",
          "Electronic accessories",
          "Home and lifestyle",
          "Electronic accessories",
          "Health and beauty",
          "Fashion accessories",
          "Electronic accessories",
          "Fashion accessories",
          "Home and lifestyle",
          "Electronic accessories",
          "Food and beverages",
          "Fashion accessories",
          "Sports and travel",
          "Electronic accessories",
          "Sports and travel",
          "Food and beverages",
          "Food and beverages",
          "Food and beverages",
          "Home and lifestyle",
          "Food and beverages",
          "Fashion accessories",
          "Electronic accessories",
          "Home and lifestyle",
          "Sports and travel",
          "Electronic accessories",
          "Electronic accessories",
          "Fashion accessories",
          "Home and lifestyle",
          "Fashion accessories",
          "Home and lifestyle",
          "Fashion accessories",
          "Home and lifestyle",
          "Sports and travel",
          "Fashion accessories",
          "Electronic accessories",
          "Sports and travel",
          "Electronic accessories",
          "Food and beverages",
          "Food and beverages",
          "Food and beverages",
          "Sports and travel",
          "Food and beverages",
          "Health and beauty",
          "Fashion accessories",
          "Food and beverages",
          "Fashion accessories",
          "Fashion accessories",
          "Electronic accessories",
          "Sports and travel",
          "Health and beauty",
          "Health and beauty",
          "Food and beverages",
          "Home and lifestyle",
          "Health and beauty",
          "Electronic accessories",
          "Food and beverages",
          "Home and lifestyle",
          "Home and lifestyle",
          "Fashion accessories",
          "Fashion accessories",
          "Sports and travel",
          "Food and beverages",
          "Fashion accessories",
          "Home and lifestyle",
          "Fashion accessories",
          "Health and beauty",
          "Sports and travel",
          "Health and beauty",
          "Sports and travel",
          "Home and lifestyle",
          "Health and beauty",
          "Home and lifestyle",
          "Health and beauty",
          "Health and beauty",
          "Electronic accessories",
          "Food and beverages",
          "Electronic accessories",
          "Fashion accessories",
          "Fashion accessories",
          "Fashion accessories",
          "Fashion accessories",
          "Health and beauty",
          "Food and beverages",
          "Sports and travel",
          "Home and lifestyle",
          "Fashion accessories",
          "Food and beverages",
          "Electronic accessories",
          "Fashion accessories",
          "Fashion accessories",
          "Sports and travel",
          "Sports and travel",
          "Home and lifestyle",
          "Food and beverages",
          "Electronic accessories",
          "Food and beverages",
          "Sports and travel",
          "Home and lifestyle",
          "Fashion accessories",
          "Sports and travel",
          "Health and beauty",
          "Food and beverages",
          "Fashion accessories",
          "Health and beauty",
          "Sports and travel",
          "Electronic accessories",
          "Electronic accessories",
          "Food and beverages",
          "Health and beauty",
          "Electronic accessories",
          "Fashion accessories",
          "Food and beverages",
          "Electronic accessories",
          "Electronic accessories",
          "Food and beverages",
          "Food and beverages",
          "Food and beverages",
          "Sports and travel",
          "Food and beverages",
          "Food and beverages",
          "Sports and travel",
          "Health and beauty",
          "Sports and travel",
          "Food and beverages",
          "Electronic accessories",
          "Home and lifestyle",
          "Sports and travel",
          "Fashion accessories",
          "Health and beauty",
          "Electronic accessories",
          "Health and beauty",
          "Sports and travel",
          "Electronic accessories",
          "Sports and travel",
          "Electronic accessories",
          "Food and beverages",
          "Electronic accessories",
          "Sports and travel",
          "Home and lifestyle",
          "Sports and travel",
          "Sports and travel",
          "Fashion accessories",
          "Fashion accessories",
          "Home and lifestyle",
          "Home and lifestyle",
          "Fashion accessories",
          "Fashion accessories",
          "Health and beauty",
          "Home and lifestyle",
          "Fashion accessories",
          "Sports and travel",
          "Electronic accessories",
          "Food and beverages",
          "Sports and travel",
          "Sports and travel",
          "Sports and travel",
          "Fashion accessories",
          "Home and lifestyle",
          "Sports and travel",
          "Sports and travel",
          "Electronic accessories",
          "Sports and travel",
          "Food and beverages",
          "Health and beauty",
          "Home and lifestyle",
          "Sports and travel",
          "Home and lifestyle",
          "Fashion accessories",
          "Electronic accessories",
          "Sports and travel",
          "Fashion accessories",
          "Health and beauty",
          "Home and lifestyle",
          "Home and lifestyle",
          "Sports and travel",
          "Electronic accessories",
          "Home and lifestyle",
          "Home and lifestyle",
          "Health and beauty",
          "Food and beverages",
          "Sports and travel",
          "Fashion accessories",
          "Fashion accessories",
          "Food and beverages",
          "Sports and travel",
          "Health and beauty",
          "Fashion accessories",
          "Electronic accessories",
          "Food and beverages",
          "Home and lifestyle",
          "Home and lifestyle",
          "Fashion accessories",
          "Home and lifestyle",
          "Fashion accessories",
          "Food and beverages",
          "Home and lifestyle",
          "Health and beauty",
          "Sports and travel",
          "Electronic accessories",
          "Food and beverages",
          "Home and lifestyle",
          "Fashion accessories",
          "Sports and travel",
          "Sports and travel",
          "Electronic accessories",
          "Fashion accessories",
          "Fashion accessories",
          "Health and beauty",
          "Electronic accessories",
          "Electronic accessories",
          "Home and lifestyle",
          "Fashion accessories",
          "Food and beverages",
          "Food and beverages",
          "Home and lifestyle",
          "Electronic accessories",
          "Food and beverages",
          "Electronic accessories",
          "Electronic accessories",
          "Fashion accessories",
          "Food and beverages",
          "Sports and travel",
          "Fashion accessories",
          "Fashion accessories",
          "Sports and travel",
          "Home and lifestyle",
          "Sports and travel",
          "Food and beverages",
          "Food and beverages",
          "Sports and travel",
          "Fashion accessories",
          "Food and beverages",
          "Food and beverages",
          "Health and beauty",
          "Health and beauty",
          "Food and beverages",
          "Health and beauty",
          "Fashion accessories",
          "Fashion accessories",
          "Sports and travel",
          "Health and beauty",
          "Food and beverages",
          "Sports and travel",
          "Fashion accessories",
          "Health and beauty",
          "Health and beauty",
          "Home and lifestyle",
          "Sports and travel",
          "Sports and travel",
          "Sports and travel",
          "Health and beauty",
          "Food and beverages",
          "Sports and travel",
          "Fashion accessories",
          "Home and lifestyle",
          "Electronic accessories",
          "Fashion accessories",
          "Food and beverages",
          "Sports and travel",
          "Fashion accessories",
          "Home and lifestyle",
          "Fashion accessories",
          "Food and beverages",
          "Fashion accessories",
          "Food and beverages",
          "Electronic accessories",
          "Food and beverages",
          "Fashion accessories",
          "Sports and travel",
          "Food and beverages",
          "Sports and travel",
          "Sports and travel",
          "Electronic accessories",
          "Food and beverages",
          "Fashion accessories",
          "Food and beverages",
          "Food and beverages",
          "Home and lifestyle",
          "Fashion accessories",
          "Fashion accessories",
          "Food and beverages",
          "Sports and travel",
          "Health and beauty",
          "Home and lifestyle",
          "Fashion accessories",
          "Sports and travel",
          "Electronic accessories",
          "Food and beverages",
          "Home and lifestyle",
          "Food and beverages",
          "Health and beauty",
          "Health and beauty",
          "Electronic accessories",
          "Food and beverages",
          "Fashion accessories",
          "Food and beverages",
          "Electronic accessories",
          "Electronic accessories",
          "Food and beverages",
          "Electronic accessories",
          "Home and lifestyle",
          "Health and beauty",
          "Fashion accessories",
          "Sports and travel",
          "Electronic accessories",
          "Electronic accessories",
          "Health and beauty",
          "Home and lifestyle",
          "Sports and travel",
          "Fashion accessories",
          "Electronic accessories",
          "Electronic accessories",
          "Fashion accessories",
          "Sports and travel",
          "Fashion accessories",
          "Sports and travel",
          "Sports and travel",
          "Fashion accessories",
          "Food and beverages",
          "Sports and travel",
          "Fashion accessories",
          "Food and beverages",
          "Health and beauty",
          "Health and beauty",
          "Sports and travel",
          "Fashion accessories",
          "Food and beverages",
          "Health and beauty",
          "Health and beauty",
          "Electronic accessories",
          "Fashion accessories",
          "Sports and travel",
          "Food and beverages",
          "Health and beauty",
          "Food and beverages",
          "Electronic accessories",
          "Sports and travel",
          "Fashion accessories",
          "Fashion accessories",
          "Sports and travel",
          "Home and lifestyle",
          "Sports and travel",
          "Home and lifestyle",
          "Sports and travel",
          "Food and beverages",
          "Sports and travel",
          "Food and beverages",
          "Health and beauty",
          "Fashion accessories",
          "Food and beverages",
          "Home and lifestyle",
          "Sports and travel",
          "Home and lifestyle",
          "Electronic accessories",
          "Home and lifestyle",
          "Fashion accessories",
          "Food and beverages",
          "Fashion accessories",
          "Health and beauty",
          "Home and lifestyle",
          "Health and beauty",
          "Electronic accessories",
          "Food and beverages",
          "Fashion accessories",
          "Sports and travel",
          "Food and beverages",
          "Home and lifestyle",
          "Electronic accessories",
          "Health and beauty",
          "Fashion accessories",
          "Health and beauty",
          "Fashion accessories",
          "Electronic accessories",
          "Fashion accessories",
          "Fashion accessories",
          "Fashion accessories",
          "Sports and travel",
          "Home and lifestyle",
          "Food and beverages",
          "Food and beverages",
          "Health and beauty",
          "Home and lifestyle",
          "Sports and travel",
          "Fashion accessories",
          "Home and lifestyle",
          "Fashion accessories",
          "Health and beauty",
          "Fashion accessories",
          "Electronic accessories",
          "Food and beverages",
          "Health and beauty",
          "Home and lifestyle",
          "Electronic accessories",
          "Electronic accessories",
          "Home and lifestyle",
          "Home and lifestyle",
          "Food and beverages",
          "Sports and travel",
          "Home and lifestyle",
          "Sports and travel",
          "Food and beverages",
          "Fashion accessories",
          "Home and lifestyle",
          "Home and lifestyle",
          "Health and beauty",
          "Fashion accessories",
          "Food and beverages",
          "Electronic accessories",
          "Home and lifestyle",
          "Fashion accessories",
          "Fashion accessories",
          "Electronic accessories",
          "Home and lifestyle",
          "Food and beverages",
          "Food and beverages",
          "Food and beverages",
          "Electronic accessories",
          "Fashion accessories",
          "Health and beauty",
          "Health and beauty",
          "Home and lifestyle",
          "Fashion accessories",
          "Sports and travel",
          "Electronic accessories",
          "Home and lifestyle",
          "Sports and travel",
          "Health and beauty",
          "Sports and travel",
          "Food and beverages",
          "Food and beverages",
          "Food and beverages",
          "Health and beauty",
          "Sports and travel",
          "Sports and travel",
          "Electronic accessories",
          "Health and beauty",
          "Sports and travel",
          "Fashion accessories",
          "Home and lifestyle",
          "Health and beauty",
          "Electronic accessories",
          "Electronic accessories",
          "Health and beauty",
          "Health and beauty",
          "Sports and travel",
          "Fashion accessories",
          "Health and beauty",
          "Home and lifestyle",
          "Electronic accessories",
          "Electronic accessories",
          "Fashion accessories",
          "Home and lifestyle",
          "Sports and travel",
          "Health and beauty",
          "Home and lifestyle",
          "Sports and travel",
          "Electronic accessories",
          "Fashion accessories",
          "Fashion accessories",
          "Electronic accessories",
          "Home and lifestyle",
          "Sports and travel",
          "Electronic accessories",
          "Health and beauty",
          "Fashion accessories",
          "Health and beauty",
          "Electronic accessories",
          "Sports and travel",
          "Electronic accessories",
          "Electronic accessories",
          "Food and beverages",
          "Fashion accessories",
          "Food and beverages",
          "Health and beauty",
          "Food and beverages",
          "Electronic accessories",
          "Home and lifestyle",
          "Sports and travel",
          "Health and beauty",
          "Sports and travel",
          "Sports and travel",
          "Health and beauty",
          "Fashion accessories",
          "Electronic accessories",
          "Electronic accessories",
          "Electronic accessories",
          "Health and beauty",
          "Sports and travel",
          "Health and beauty",
          "Home and lifestyle",
          "Fashion accessories",
          "Fashion accessories",
          "Sports and travel",
          "Electronic accessories",
          "Sports and travel",
          "Fashion accessories",
          "Electronic accessories",
          "Sports and travel",
          "Food and beverages",
          "Fashion accessories",
          "Electronic accessories",
          "Electronic accessories",
          "Sports and travel",
          "Food and beverages",
          "Fashion accessories",
          "Fashion accessories",
          "Fashion accessories",
          "Health and beauty",
          "Electronic accessories",
          "Health and beauty",
          "Fashion accessories",
          "Food and beverages",
          "Home and lifestyle",
          "Health and beauty",
          "Food and beverages",
          "Home and lifestyle",
          "Sports and travel",
          "Home and lifestyle",
          "Home and lifestyle",
          "Electronic accessories",
          "Health and beauty",
          "Sports and travel",
          "Health and beauty",
          "Food and beverages",
          "Sports and travel",
          "Food and beverages",
          "Fashion accessories",
          "Electronic accessories",
          "Sports and travel",
          "Home and lifestyle",
          "Home and lifestyle",
          "Fashion accessories",
          "Electronic accessories",
          "Electronic accessories",
          "Electronic accessories",
          "Food and beverages",
          "Fashion accessories",
          "Sports and travel",
          "Home and lifestyle",
          "Food and beverages",
          "Sports and travel",
          "Food and beverages",
          "Electronic accessories",
          "Fashion accessories",
          "Sports and travel",
          "Health and beauty",
          "Electronic accessories",
          "Fashion accessories",
          "Electronic accessories",
          "Electronic accessories",
          "Health and beauty",
          "Fashion accessories",
          "Food and beverages",
          "Health and beauty",
          "Food and beverages",
          "Electronic accessories",
          "Home and lifestyle",
          "Health and beauty",
          "Food and beverages",
          "Health and beauty",
          "Home and lifestyle",
          "Health and beauty",
          "Health and beauty",
          "Food and beverages",
          "Home and lifestyle",
          "Food and beverages",
          "Electronic accessories",
          "Home and lifestyle",
          "Fashion accessories",
          "Food and beverages",
          "Electronic accessories",
          "Sports and travel",
          "Fashion accessories",
          "Home and lifestyle",
          "Electronic accessories",
          "Home and lifestyle",
          "Home and lifestyle",
          "Home and lifestyle",
          "Sports and travel",
          "Sports and travel",
          "Electronic accessories",
          "Sports and travel",
          "Health and beauty",
          "Electronic accessories",
          "Sports and travel",
          "Home and lifestyle",
          "Fashion accessories",
          "Food and beverages",
          "Health and beauty",
          "Home and lifestyle",
          "Home and lifestyle",
          "Health and beauty",
          "Sports and travel",
          "Health and beauty",
          "Food and beverages",
          "Food and beverages",
          "Fashion accessories",
          "Home and lifestyle",
          "Health and beauty",
          "Health and beauty",
          "Electronic accessories",
          "Electronic accessories",
          "Fashion accessories",
          "Home and lifestyle",
          "Food and beverages",
          "Health and beauty",
          "Home and lifestyle",
          "Food and beverages",
          "Food and beverages",
          "Home and lifestyle",
          "Fashion accessories",
          "Food and beverages",
          "Electronic accessories",
          "Home and lifestyle",
          "Food and beverages",
          "Fashion accessories",
          "Electronic accessories",
          "Fashion accessories",
          "Electronic accessories",
          "Food and beverages",
          "Electronic accessories",
          "Home and lifestyle",
          "Home and lifestyle",
          "Health and beauty",
          "Electronic accessories",
          "Food and beverages",
          "Home and lifestyle",
          "Electronic accessories",
          "Home and lifestyle",
          "Fashion accessories",
          "Fashion accessories",
          "Food and beverages",
          "Food and beverages",
          "Electronic accessories",
          "Food and beverages",
          "Food and beverages",
          "Health and beauty",
          "Sports and travel",
          "Health and beauty",
          "Electronic accessories",
          "Fashion accessories",
          "Health and beauty",
          "Health and beauty",
          "Electronic accessories",
          "Health and beauty",
          "Food and beverages",
          "Sports and travel",
          "Electronic accessories",
          "Fashion accessories",
          "Electronic accessories",
          "Health and beauty",
          "Home and lifestyle",
          "Food and beverages",
          "Home and lifestyle",
          "Fashion accessories"
         ],
         "xaxis": "x",
         "y": [
          7,
          5,
          7,
          8,
          7,
          7,
          6,
          10,
          2,
          3,
          4,
          4,
          5,
          10,
          10,
          6,
          7,
          6,
          3,
          2,
          5,
          3,
          2,
          5,
          3,
          8,
          1,
          2,
          5,
          9,
          5,
          9,
          8,
          2,
          4,
          1,
          5,
          9,
          8,
          8,
          1,
          2,
          6,
          8,
          2,
          4,
          9,
          9,
          6,
          10,
          7,
          5,
          4,
          1,
          2,
          8,
          2,
          8,
          10,
          6,
          3,
          6,
          9,
          10,
          4,
          10,
          2,
          6,
          10,
          1,
          10,
          10,
          3,
          6,
          9,
          10,
          9,
          9,
          10,
          5,
          6,
          3,
          8,
          4,
          5,
          7,
          5,
          7,
          1,
          6,
          4,
          10,
          7,
          9,
          1,
          1,
          10,
          6,
          3,
          6,
          1,
          9,
          9,
          6,
          7,
          10,
          6,
          6,
          9,
          10,
          2,
          3,
          7,
          9,
          9,
          3,
          5,
          1,
          10,
          2,
          8,
          7,
          9,
          8,
          8,
          7,
          5,
          9,
          8,
          9,
          7,
          6,
          4,
          6,
          6,
          3,
          5,
          6,
          10,
          8,
          10,
          10,
          10,
          1,
          6,
          6,
          10,
          4,
          8,
          8,
          4,
          7,
          9,
          6,
          8,
          5,
          1,
          5,
          9,
          6,
          8,
          1,
          7,
          2,
          10,
          8,
          10,
          10,
          6,
          7,
          5,
          5,
          8,
          6,
          8,
          9,
          8,
          7,
          6,
          3,
          7,
          8,
          10,
          8,
          7,
          3,
          8,
          4,
          1,
          4,
          3,
          2,
          9,
          4,
          5,
          1,
          2,
          1,
          4,
          5,
          6,
          4,
          7,
          10,
          5,
          9,
          9,
          10,
          3,
          9,
          9,
          9,
          5,
          3,
          7,
          1,
          5,
          3,
          8,
          3,
          6,
          7,
          5,
          1,
          2,
          2,
          9,
          4,
          6,
          8,
          2,
          3,
          9,
          4,
          10,
          2,
          5,
          5,
          5,
          1,
          9,
          2,
          2,
          4,
          8,
          8,
          3,
          5,
          4,
          7,
          9,
          10,
          2,
          4,
          8,
          4,
          1,
          6,
          4,
          4,
          9,
          4,
          4,
          10,
          1,
          7,
          4,
          10,
          4,
          10,
          5,
          2,
          9,
          2,
          6,
          7,
          10,
          4,
          10,
          10,
          8,
          1,
          1,
          6,
          4,
          5,
          1,
          9,
          7,
          7,
          10,
          7,
          1,
          2,
          10,
          5,
          4,
          6,
          4,
          1,
          2,
          1,
          1,
          4,
          8,
          7,
          7,
          8,
          3,
          2,
          6,
          2,
          5,
          9,
          10,
          2,
          3,
          5,
          7,
          4,
          9,
          1,
          6,
          5,
          6,
          4,
          5,
          4,
          4,
          4,
          9,
          3,
          5,
          2,
          5,
          5,
          9,
          6,
          3,
          9,
          3,
          7,
          7,
          5,
          3,
          9,
          1,
          8,
          7,
          10,
          10,
          7,
          7,
          9,
          1,
          4,
          10,
          10,
          3,
          1,
          8,
          8,
          2,
          6,
          4,
          4,
          9,
          4,
          10,
          9,
          7,
          2,
          6,
          6,
          5,
          5,
          9,
          7,
          4,
          4,
          4,
          2,
          5,
          4,
          5,
          1,
          6,
          10,
          9,
          7,
          3,
          10,
          1,
          10,
          1,
          5,
          5,
          9,
          6,
          9,
          6,
          4,
          1,
          5,
          7,
          4,
          5,
          4,
          4,
          5,
          10,
          2,
          5,
          3,
          8,
          1,
          4,
          1,
          2,
          7,
          3,
          3,
          10,
          8,
          1,
          9,
          7,
          3,
          5,
          10,
          2,
          2,
          6,
          7,
          1,
          9,
          4,
          6,
          4,
          8,
          5,
          8,
          9,
          1,
          7,
          1,
          10,
          3,
          1,
          1,
          6,
          6,
          5,
          1,
          4,
          5,
          9,
          10,
          10,
          1,
          5,
          10,
          4,
          1,
          5,
          10,
          7,
          6,
          1,
          1,
          6,
          4,
          10,
          8,
          5,
          3,
          5,
          4,
          10,
          1,
          8,
          10,
          5,
          10,
          10,
          4,
          10,
          4,
          1,
          9,
          2,
          10,
          8,
          10,
          2,
          8,
          2,
          6,
          1,
          8,
          1,
          1,
          2,
          2,
          1,
          8,
          3,
          6,
          5,
          6,
          7,
          5,
          7,
          7,
          7,
          1,
          5,
          5,
          2,
          5,
          3,
          6,
          6,
          2,
          6,
          5,
          4,
          2,
          10,
          9,
          6,
          8,
          10,
          9,
          5,
          7,
          1,
          1,
          4,
          6,
          3,
          1,
          4,
          6,
          1,
          4,
          10,
          9,
          5,
          6,
          3,
          9,
          9,
          6,
          7,
          3,
          2,
          10,
          6,
          3,
          9,
          10,
          8,
          6,
          2,
          10,
          10,
          9,
          7,
          7,
          5,
          10,
          7,
          2,
          5,
          7,
          4,
          4,
          4,
          2,
          3,
          4,
          2,
          4,
          3,
          4,
          3,
          5,
          10,
          5,
          6,
          7,
          1,
          3,
          3,
          3,
          3,
          9,
          5,
          2,
          1,
          1,
          10,
          6,
          7,
          4,
          7,
          4,
          1,
          2,
          1,
          9,
          3,
          1,
          10,
          9,
          6,
          5,
          6,
          6,
          3,
          1,
          7,
          10,
          1,
          2,
          2,
          10,
          3,
          1,
          10,
          3,
          2,
          3,
          3,
          10,
          7,
          1,
          5,
          3,
          3,
          8,
          2,
          8,
          5,
          9,
          6,
          1,
          2,
          10,
          5,
          6,
          10,
          9,
          4,
          3,
          1,
          3,
          5,
          1,
          3,
          7,
          6,
          10,
          2,
          4,
          3,
          4,
          6,
          2,
          10,
          2,
          3,
          8,
          10,
          2,
          7,
          4,
          10,
          6,
          1,
          1,
          6,
          2,
          6,
          2,
          2,
          10,
          2,
          3,
          9,
          7,
          10,
          7,
          9,
          5,
          4,
          4,
          9,
          10,
          8,
          3,
          10,
          9,
          9,
          7,
          4,
          1,
          8,
          3,
          6,
          4,
          9,
          9,
          8,
          5,
          7,
          3,
          3,
          6,
          7,
          9,
          3,
          7,
          4,
          8,
          3,
          10,
          4,
          7,
          4,
          3,
          1,
          7,
          1,
          10,
          7,
          10,
          8,
          9,
          7,
          1,
          2,
          2,
          8,
          1,
          10,
          5,
          9,
          7,
          4,
          5,
          10,
          5,
          3,
          8,
          8,
          6,
          10,
          4,
          10,
          10,
          8,
          5,
          4,
          8,
          3,
          6,
          4,
          6,
          4,
          7,
          7,
          1,
          2,
          5,
          7,
          1,
          5,
          9,
          8,
          4,
          1,
          8,
          5,
          7,
          8,
          5,
          3,
          7,
          1,
          4,
          10,
          7,
          2,
          2,
          1,
          10,
          1,
          5,
          6,
          8,
          7,
          9,
          9,
          4,
          2,
          4,
          1,
          10,
          8,
          10,
          5,
          1,
          8,
          8,
          7,
          8,
          4,
          5,
          4,
          2,
          1,
          3,
          7,
          4,
          9,
          3,
          10,
          10,
          8,
          4,
          8,
          1,
          7,
          1,
          5,
          6,
          10,
          6,
          3,
          1,
          2,
          2,
          1,
          3,
          1,
          1,
          9,
          6,
          1,
          2,
          7,
          10,
          5,
          9,
          8,
          4,
          6,
          9,
          1,
          2,
          9,
          7,
          3,
          3,
          8,
          2,
          3,
          4,
          7,
          1,
          10,
          6,
          4,
          8,
          1,
          1,
          8,
          8,
          10,
          8,
          10,
          6,
          2,
          7,
          1,
          10,
          8,
          10,
          5,
          8,
          5,
          5,
          6,
          8,
          7,
          6,
          7,
          9,
          9,
          4,
          5,
          7,
          2,
          4,
          10,
          5,
          2,
          10,
          3,
          4,
          8,
          8,
          3,
          6,
          1,
          4,
          3,
          3,
          9,
          6,
          2,
          7,
          6,
          4,
          1,
          9,
          9,
          2,
          6,
          2,
          10,
          7,
          6,
          3,
          7,
          5,
          3,
          6,
          4,
          9,
          10,
          5,
          7,
          7,
          2,
          1,
          5,
          8,
          3,
          3,
          4,
          4,
          6,
          7,
          9,
          6,
          10,
          9,
          1,
          2,
          1,
          3,
          2,
          2,
          9,
          3,
          3,
          5,
          10,
          7,
          7,
          3,
          2,
          2,
          4,
          6,
          1,
          1,
          4,
          4,
          9,
          7,
          7,
          5,
          2,
          8,
          10,
          8,
          5,
          10,
          2,
          10,
          1,
          1,
          10,
          1,
          1,
          7
         ],
         "yaxis": "y"
        }
       ],
       "layout": {
        "barmode": "relative",
        "legend": {
         "tracegroupgap": 0
        },
        "template": {
         "data": {
          "bar": [
           {
            "error_x": {
             "color": "#2a3f5f"
            },
            "error_y": {
             "color": "#2a3f5f"
            },
            "marker": {
             "line": {
              "color": "#E5ECF6",
              "width": 0.5
             },
             "pattern": {
              "fillmode": "overlay",
              "size": 10,
              "solidity": 0.2
             }
            },
            "type": "bar"
           }
          ],
          "barpolar": [
           {
            "marker": {
             "line": {
              "color": "#E5ECF6",
              "width": 0.5
             },
             "pattern": {
              "fillmode": "overlay",
              "size": 10,
              "solidity": 0.2
             }
            },
            "type": "barpolar"
           }
          ],
          "carpet": [
           {
            "aaxis": {
             "endlinecolor": "#2a3f5f",
             "gridcolor": "white",
             "linecolor": "white",
             "minorgridcolor": "white",
             "startlinecolor": "#2a3f5f"
            },
            "baxis": {
             "endlinecolor": "#2a3f5f",
             "gridcolor": "white",
             "linecolor": "white",
             "minorgridcolor": "white",
             "startlinecolor": "#2a3f5f"
            },
            "type": "carpet"
           }
          ],
          "choropleth": [
           {
            "colorbar": {
             "outlinewidth": 0,
             "ticks": ""
            },
            "type": "choropleth"
           }
          ],
          "contour": [
           {
            "colorbar": {
             "outlinewidth": 0,
             "ticks": ""
            },
            "colorscale": [
             [
              0,
              "#0d0887"
             ],
             [
              0.1111111111111111,
              "#46039f"
             ],
             [
              0.2222222222222222,
              "#7201a8"
             ],
             [
              0.3333333333333333,
              "#9c179e"
             ],
             [
              0.4444444444444444,
              "#bd3786"
             ],
             [
              0.5555555555555556,
              "#d8576b"
             ],
             [
              0.6666666666666666,
              "#ed7953"
             ],
             [
              0.7777777777777778,
              "#fb9f3a"
             ],
             [
              0.8888888888888888,
              "#fdca26"
             ],
             [
              1,
              "#f0f921"
             ]
            ],
            "type": "contour"
           }
          ],
          "contourcarpet": [
           {
            "colorbar": {
             "outlinewidth": 0,
             "ticks": ""
            },
            "type": "contourcarpet"
           }
          ],
          "heatmap": [
           {
            "colorbar": {
             "outlinewidth": 0,
             "ticks": ""
            },
            "colorscale": [
             [
              0,
              "#0d0887"
             ],
             [
              0.1111111111111111,
              "#46039f"
             ],
             [
              0.2222222222222222,
              "#7201a8"
             ],
             [
              0.3333333333333333,
              "#9c179e"
             ],
             [
              0.4444444444444444,
              "#bd3786"
             ],
             [
              0.5555555555555556,
              "#d8576b"
             ],
             [
              0.6666666666666666,
              "#ed7953"
             ],
             [
              0.7777777777777778,
              "#fb9f3a"
             ],
             [
              0.8888888888888888,
              "#fdca26"
             ],
             [
              1,
              "#f0f921"
             ]
            ],
            "type": "heatmap"
           }
          ],
          "heatmapgl": [
           {
            "colorbar": {
             "outlinewidth": 0,
             "ticks": ""
            },
            "colorscale": [
             [
              0,
              "#0d0887"
             ],
             [
              0.1111111111111111,
              "#46039f"
             ],
             [
              0.2222222222222222,
              "#7201a8"
             ],
             [
              0.3333333333333333,
              "#9c179e"
             ],
             [
              0.4444444444444444,
              "#bd3786"
             ],
             [
              0.5555555555555556,
              "#d8576b"
             ],
             [
              0.6666666666666666,
              "#ed7953"
             ],
             [
              0.7777777777777778,
              "#fb9f3a"
             ],
             [
              0.8888888888888888,
              "#fdca26"
             ],
             [
              1,
              "#f0f921"
             ]
            ],
            "type": "heatmapgl"
           }
          ],
          "histogram": [
           {
            "marker": {
             "pattern": {
              "fillmode": "overlay",
              "size": 10,
              "solidity": 0.2
             }
            },
            "type": "histogram"
           }
          ],
          "histogram2d": [
           {
            "colorbar": {
             "outlinewidth": 0,
             "ticks": ""
            },
            "colorscale": [
             [
              0,
              "#0d0887"
             ],
             [
              0.1111111111111111,
              "#46039f"
             ],
             [
              0.2222222222222222,
              "#7201a8"
             ],
             [
              0.3333333333333333,
              "#9c179e"
             ],
             [
              0.4444444444444444,
              "#bd3786"
             ],
             [
              0.5555555555555556,
              "#d8576b"
             ],
             [
              0.6666666666666666,
              "#ed7953"
             ],
             [
              0.7777777777777778,
              "#fb9f3a"
             ],
             [
              0.8888888888888888,
              "#fdca26"
             ],
             [
              1,
              "#f0f921"
             ]
            ],
            "type": "histogram2d"
           }
          ],
          "histogram2dcontour": [
           {
            "colorbar": {
             "outlinewidth": 0,
             "ticks": ""
            },
            "colorscale": [
             [
              0,
              "#0d0887"
             ],
             [
              0.1111111111111111,
              "#46039f"
             ],
             [
              0.2222222222222222,
              "#7201a8"
             ],
             [
              0.3333333333333333,
              "#9c179e"
             ],
             [
              0.4444444444444444,
              "#bd3786"
             ],
             [
              0.5555555555555556,
              "#d8576b"
             ],
             [
              0.6666666666666666,
              "#ed7953"
             ],
             [
              0.7777777777777778,
              "#fb9f3a"
             ],
             [
              0.8888888888888888,
              "#fdca26"
             ],
             [
              1,
              "#f0f921"
             ]
            ],
            "type": "histogram2dcontour"
           }
          ],
          "mesh3d": [
           {
            "colorbar": {
             "outlinewidth": 0,
             "ticks": ""
            },
            "type": "mesh3d"
           }
          ],
          "parcoords": [
           {
            "line": {
             "colorbar": {
              "outlinewidth": 0,
              "ticks": ""
             }
            },
            "type": "parcoords"
           }
          ],
          "pie": [
           {
            "automargin": true,
            "type": "pie"
           }
          ],
          "scatter": [
           {
            "fillpattern": {
             "fillmode": "overlay",
             "size": 10,
             "solidity": 0.2
            },
            "type": "scatter"
           }
          ],
          "scatter3d": [
           {
            "line": {
             "colorbar": {
              "outlinewidth": 0,
              "ticks": ""
             }
            },
            "marker": {
             "colorbar": {
              "outlinewidth": 0,
              "ticks": ""
             }
            },
            "type": "scatter3d"
           }
          ],
          "scattercarpet": [
           {
            "marker": {
             "colorbar": {
              "outlinewidth": 0,
              "ticks": ""
             }
            },
            "type": "scattercarpet"
           }
          ],
          "scattergeo": [
           {
            "marker": {
             "colorbar": {
              "outlinewidth": 0,
              "ticks": ""
             }
            },
            "type": "scattergeo"
           }
          ],
          "scattergl": [
           {
            "marker": {
             "colorbar": {
              "outlinewidth": 0,
              "ticks": ""
             }
            },
            "type": "scattergl"
           }
          ],
          "scattermapbox": [
           {
            "marker": {
             "colorbar": {
              "outlinewidth": 0,
              "ticks": ""
             }
            },
            "type": "scattermapbox"
           }
          ],
          "scatterpolar": [
           {
            "marker": {
             "colorbar": {
              "outlinewidth": 0,
              "ticks": ""
             }
            },
            "type": "scatterpolar"
           }
          ],
          "scatterpolargl": [
           {
            "marker": {
             "colorbar": {
              "outlinewidth": 0,
              "ticks": ""
             }
            },
            "type": "scatterpolargl"
           }
          ],
          "scatterternary": [
           {
            "marker": {
             "colorbar": {
              "outlinewidth": 0,
              "ticks": ""
             }
            },
            "type": "scatterternary"
           }
          ],
          "surface": [
           {
            "colorbar": {
             "outlinewidth": 0,
             "ticks": ""
            },
            "colorscale": [
             [
              0,
              "#0d0887"
             ],
             [
              0.1111111111111111,
              "#46039f"
             ],
             [
              0.2222222222222222,
              "#7201a8"
             ],
             [
              0.3333333333333333,
              "#9c179e"
             ],
             [
              0.4444444444444444,
              "#bd3786"
             ],
             [
              0.5555555555555556,
              "#d8576b"
             ],
             [
              0.6666666666666666,
              "#ed7953"
             ],
             [
              0.7777777777777778,
              "#fb9f3a"
             ],
             [
              0.8888888888888888,
              "#fdca26"
             ],
             [
              1,
              "#f0f921"
             ]
            ],
            "type": "surface"
           }
          ],
          "table": [
           {
            "cells": {
             "fill": {
              "color": "#EBF0F8"
             },
             "line": {
              "color": "white"
             }
            },
            "header": {
             "fill": {
              "color": "#C8D4E3"
             },
             "line": {
              "color": "white"
             }
            },
            "type": "table"
           }
          ]
         },
         "layout": {
          "annotationdefaults": {
           "arrowcolor": "#2a3f5f",
           "arrowhead": 0,
           "arrowwidth": 1
          },
          "autotypenumbers": "strict",
          "coloraxis": {
           "colorbar": {
            "outlinewidth": 0,
            "ticks": ""
           }
          },
          "colorscale": {
           "diverging": [
            [
             0,
             "#8e0152"
            ],
            [
             0.1,
             "#c51b7d"
            ],
            [
             0.2,
             "#de77ae"
            ],
            [
             0.3,
             "#f1b6da"
            ],
            [
             0.4,
             "#fde0ef"
            ],
            [
             0.5,
             "#f7f7f7"
            ],
            [
             0.6,
             "#e6f5d0"
            ],
            [
             0.7,
             "#b8e186"
            ],
            [
             0.8,
             "#7fbc41"
            ],
            [
             0.9,
             "#4d9221"
            ],
            [
             1,
             "#276419"
            ]
           ],
           "sequential": [
            [
             0,
             "#0d0887"
            ],
            [
             0.1111111111111111,
             "#46039f"
            ],
            [
             0.2222222222222222,
             "#7201a8"
            ],
            [
             0.3333333333333333,
             "#9c179e"
            ],
            [
             0.4444444444444444,
             "#bd3786"
            ],
            [
             0.5555555555555556,
             "#d8576b"
            ],
            [
             0.6666666666666666,
             "#ed7953"
            ],
            [
             0.7777777777777778,
             "#fb9f3a"
            ],
            [
             0.8888888888888888,
             "#fdca26"
            ],
            [
             1,
             "#f0f921"
            ]
           ],
           "sequentialminus": [
            [
             0,
             "#0d0887"
            ],
            [
             0.1111111111111111,
             "#46039f"
            ],
            [
             0.2222222222222222,
             "#7201a8"
            ],
            [
             0.3333333333333333,
             "#9c179e"
            ],
            [
             0.4444444444444444,
             "#bd3786"
            ],
            [
             0.5555555555555556,
             "#d8576b"
            ],
            [
             0.6666666666666666,
             "#ed7953"
            ],
            [
             0.7777777777777778,
             "#fb9f3a"
            ],
            [
             0.8888888888888888,
             "#fdca26"
            ],
            [
             1,
             "#f0f921"
            ]
           ]
          },
          "colorway": [
           "#636efa",
           "#EF553B",
           "#00cc96",
           "#ab63fa",
           "#FFA15A",
           "#19d3f3",
           "#FF6692",
           "#B6E880",
           "#FF97FF",
           "#FECB52"
          ],
          "font": {
           "color": "#2a3f5f"
          },
          "geo": {
           "bgcolor": "white",
           "lakecolor": "white",
           "landcolor": "#E5ECF6",
           "showlakes": true,
           "showland": true,
           "subunitcolor": "white"
          },
          "hoverlabel": {
           "align": "left"
          },
          "hovermode": "closest",
          "mapbox": {
           "style": "light"
          },
          "paper_bgcolor": "white",
          "plot_bgcolor": "#E5ECF6",
          "polar": {
           "angularaxis": {
            "gridcolor": "white",
            "linecolor": "white",
            "ticks": ""
           },
           "bgcolor": "#E5ECF6",
           "radialaxis": {
            "gridcolor": "white",
            "linecolor": "white",
            "ticks": ""
           }
          },
          "scene": {
           "xaxis": {
            "backgroundcolor": "#E5ECF6",
            "gridcolor": "white",
            "gridwidth": 2,
            "linecolor": "white",
            "showbackground": true,
            "ticks": "",
            "zerolinecolor": "white"
           },
           "yaxis": {
            "backgroundcolor": "#E5ECF6",
            "gridcolor": "white",
            "gridwidth": 2,
            "linecolor": "white",
            "showbackground": true,
            "ticks": "",
            "zerolinecolor": "white"
           },
           "zaxis": {
            "backgroundcolor": "#E5ECF6",
            "gridcolor": "white",
            "gridwidth": 2,
            "linecolor": "white",
            "showbackground": true,
            "ticks": "",
            "zerolinecolor": "white"
           }
          },
          "shapedefaults": {
           "line": {
            "color": "#2a3f5f"
           }
          },
          "ternary": {
           "aaxis": {
            "gridcolor": "white",
            "linecolor": "white",
            "ticks": ""
           },
           "baxis": {
            "gridcolor": "white",
            "linecolor": "white",
            "ticks": ""
           },
           "bgcolor": "#E5ECF6",
           "caxis": {
            "gridcolor": "white",
            "linecolor": "white",
            "ticks": ""
           }
          },
          "title": {
           "x": 0.05
          },
          "xaxis": {
           "automargin": true,
           "gridcolor": "white",
           "linecolor": "white",
           "ticks": "",
           "title": {
            "standoff": 15
           },
           "zerolinecolor": "white",
           "zerolinewidth": 2
          },
          "yaxis": {
           "automargin": true,
           "gridcolor": "white",
           "linecolor": "white",
           "ticks": "",
           "title": {
            "standoff": 15
           },
           "zerolinecolor": "white",
           "zerolinewidth": 2
          }
         }
        },
        "title": {
         "text": "Самый продаваемый продукт"
        },
        "xaxis": {
         "anchor": "y",
         "domain": [
          0,
          1
         ],
         "title": {
          "text": "Product line"
         }
        },
        "yaxis": {
         "anchor": "x",
         "domain": [
          0,
          1
         ],
         "title": {
          "text": "sum of Quantity"
         }
        }
       }
      }
     },
     "metadata": {},
     "output_type": "display_data"
    }
   ],
   "source": [
    "fig=px.histogram(df, x='Product line', y='Quantity',\n",
    "                color_discrete_sequence=['indianred'],\n",
    "                text_auto=True, title='Самый продаваемый продукт')\n",
    "fig.show()"
   ]
  },
  {
   "cell_type": "markdown",
   "metadata": {},
   "source": [
    "самый высокий процент продаж приходится на электронные аксессуары (Electronic accessories)"
   ]
  },
  {
   "cell_type": "code",
   "execution_count": 96,
   "metadata": {},
   "outputs": [
    {
     "data": {
      "image/png": "[encoded data removed]",
      "text/plain": [
       "<Figure size 640x480 with 1 Axes>"
      ]
     },
     "metadata": {},
     "output_type": "display_data"
    }
   ],
   "source": [
    "plt.pie(\n",
    "    df['Payment'].value_counts(), \n",
    "    labels = df['Payment'].value_counts().index, \n",
    "    autopct = \"%1.1f%%\", \n",
    "    shadow=True,\n",
    "    colors=sns.color_palette('Set2')\n",
    "\n",
    ")\n",
    "plt.rcParams[\"font.serif\"] = \"Times New Roman\"\n",
    "plt.title(\n",
    "    label=\"Тип оплаты\", \n",
    "    fontdict={\"fontsize\":20},\n",
    "    pad=20\n",
    ")\n",
    "plt.show();"
   ]
  },
  {
   "cell_type": "markdown",
   "metadata": {},
   "source": [
    "Клиенты предпочитали электронные кошельки, наличные платежи"
   ]
  },
  {
   "cell_type": "code",
   "execution_count": 97,
   "metadata": {},
   "outputs": [
    {
     "data": {
      "application/vnd.plotly.v1+json": {
       "config": {
        "plotlyServerURL": "https://plot.ly"
       },
       "data": [
        {
         "alignmentgroup": "True",
         "bingroup": "x",
         "histfunc": "sum",
         "hovertemplate": "Product line=%{x}<br>sum of Unit price=%{y}<extra></extra>",
         "legendgroup": "Health and beauty",
         "marker": {
          "color": "#636efa",
          "opacity": 0.7,
          "pattern": {
           "shape": ""
          }
         },
         "name": "Health and beauty",
         "offsetgroup": "Health and beauty",
         "orientation": "v",
         "showlegend": true,
         "texttemplate": "%{value}",
         "type": "histogram",
         "x": [
          "Health and beauty",
          "Health and beauty",
          "Health and beauty",
          "Health and beauty",
          "Health and beauty",
          "Health and beauty",
          "Health and beauty",
          "Health and beauty",
          "Health and beauty",
          "Health and beauty",
          "Health and beauty",
          "Health and beauty",
          "Health and beauty",
          "Health and beauty",
          "Health and beauty",
          "Health and beauty",
          "Health and beauty",
          "Health and beauty",
          "Health and beauty",
          "Health and beauty",
          "Health and beauty",
          "Health and beauty",
          "Health and beauty",
          "Health and beauty",
          "Health and beauty",
          "Health and beauty",
          "Health and beauty",
          "Health and beauty",
          "Health and beauty",
          "Health and beauty",
          "Health and beauty",
          "Health and beauty",
          "Health and beauty",
          "Health and beauty",
          "Health and beauty",
          "Health and beauty",
          "Health and beauty",
          "Health and beauty",
          "Health and beauty",
          "Health and beauty",
          "Health and beauty",
          "Health and beauty",
          "Health and beauty",
          "Health and beauty",
          "Health and beauty",
          "Health and beauty",
          "Health and beauty",
          "Health and beauty",
          "Health and beauty",
          "Health and beauty",
          "Health and beauty",
          "Health and beauty",
          "Health and beauty",
          "Health and beauty",
          "Health and beauty",
          "Health and beauty",
          "Health and beauty",
          "Health and beauty",
          "Health and beauty",
          "Health and beauty",
          "Health and beauty",
          "Health and beauty",
          "Health and beauty",
          "Health and beauty",
          "Health and beauty",
          "Health and beauty",
          "Health and beauty",
          "Health and beauty",
          "Health and beauty",
          "Health and beauty",
          "Health and beauty",
          "Health and beauty",
          "Health and beauty",
          "Health and beauty",
          "Health and beauty",
          "Health and beauty",
          "Health and beauty",
          "Health and beauty",
          "Health and beauty",
          "Health and beauty",
          "Health and beauty",
          "Health and beauty",
          "Health and beauty",
          "Health and beauty",
          "Health and beauty",
          "Health and beauty",
          "Health and beauty",
          "Health and beauty",
          "Health and beauty",
          "Health and beauty",
          "Health and beauty",
          "Health and beauty",
          "Health and beauty",
          "Health and beauty",
          "Health and beauty",
          "Health and beauty",
          "Health and beauty",
          "Health and beauty",
          "Health and beauty",
          "Health and beauty",
          "Health and beauty",
          "Health and beauty",
          "Health and beauty",
          "Health and beauty",
          "Health and beauty",
          "Health and beauty",
          "Health and beauty",
          "Health and beauty",
          "Health and beauty",
          "Health and beauty",
          "Health and beauty",
          "Health and beauty",
          "Health and beauty",
          "Health and beauty",
          "Health and beauty",
          "Health and beauty",
          "Health and beauty",
          "Health and beauty",
          "Health and beauty",
          "Health and beauty",
          "Health and beauty",
          "Health and beauty",
          "Health and beauty",
          "Health and beauty",
          "Health and beauty",
          "Health and beauty",
          "Health and beauty",
          "Health and beauty",
          "Health and beauty",
          "Health and beauty",
          "Health and beauty",
          "Health and beauty",
          "Health and beauty",
          "Health and beauty",
          "Health and beauty",
          "Health and beauty",
          "Health and beauty",
          "Health and beauty",
          "Health and beauty",
          "Health and beauty",
          "Health and beauty",
          "Health and beauty",
          "Health and beauty",
          "Health and beauty",
          "Health and beauty",
          "Health and beauty",
          "Health and beauty",
          "Health and beauty",
          "Health and beauty",
          "Health and beauty",
          "Health and beauty",
          "Health and beauty"
         ],
         "xaxis": "x",
         "y": [
          74.69,
          58.22,
          36.26,
          71.38,
          68.93,
          87.98,
          24.89,
          96.58,
          54.92,
          15.37,
          56.69,
          89.6,
          75.74,
          15.87,
          33.47,
          18.33,
          20.38,
          99.19,
          76.99,
          64.36,
          89.75,
          87.87,
          30.35,
          98.21,
          81.3,
          90.5,
          68.6,
          46.26,
          66.14,
          32.46,
          97.22,
          42.57,
          70.01,
          86.8,
          34.31,
          43.7,
          41.5,
          25.9,
          23.03,
          69.37,
          84.09,
          51.94,
          17.41,
          59.77,
          21.12,
          99.71,
          99.83,
          47.67,
          66.68,
          18.11,
          39.01,
          15.55,
          29.67,
          44.07,
          39.42,
          15.26,
          51.13,
          55.97,
          76.9,
          13.5,
          32.32,
          79.74,
          77.5,
          41.06,
          34.21,
          20.97,
          96.11,
          81.51,
          57.22,
          53.17,
          19.15,
          27.07,
          25,
          37.15,
          72.57,
          65.18,
          25.32,
          61.29,
          54.86,
          62.87,
          25.43,
          75.88,
          58.24,
          64.27,
          69.51,
          77.68,
          51.71,
          14.62,
          46.53,
          14.82,
          82.58,
          66.47,
          28.95,
          70.21,
          55.81,
          17.97,
          47.71,
          73.41,
          33.64,
          58.95,
          48.63,
          80.47,
          71.77,
          13.85,
          35.68,
          28.5,
          56,
          81.95,
          81.23,
          10.69,
          55.5,
          85.87,
          65.31,
          21.8,
          10.16,
          10.99,
          60.47,
          68.55,
          92.78,
          17.75,
          10.75,
          96.16,
          68.71,
          72.11,
          62.57,
          91.3,
          53.19,
          95.95,
          57.59,
          33.81,
          62.82,
          83.66,
          99.16,
          85.6,
          27.73,
          58.32,
          84.61,
          82.88,
          39.62,
          64.08,
          78.89,
          92.09,
          50.79,
          10.08,
          39.91,
          15.8,
          58.15,
          99.96,
          14.76,
          62,
          75.37,
          40.35
         ],
         "yaxis": "y"
        },
        {
         "alignmentgroup": "True",
         "bingroup": "x",
         "histfunc": "sum",
         "hovertemplate": "Product line=%{x}<br>sum of Unit price=%{y}<extra></extra>",
         "legendgroup": "Electronic accessories",
         "marker": {
          "color": "#EF553B",
          "opacity": 0.7,
          "pattern": {
           "shape": ""
          }
         },
         "name": "Electronic accessories",
         "offsetgroup": "Electronic accessories",
         "orientation": "v",
         "showlegend": true,
         "texttemplate": "%{value}",
         "type": "histogram",
         "x": [
          "Electronic accessories",
          "Electronic accessories",
          "Electronic accessories",
          "Electronic accessories",
          "Electronic accessories",
          "Electronic accessories",
          "Electronic accessories",
          "Electronic accessories",
          "Electronic accessories",
          "Electronic accessories",
          "Electronic accessories",
          "Electronic accessories",
          "Electronic accessories",
          "Electronic accessories",
          "Electronic accessories",
          "Electronic accessories",
          "Electronic accessories",
          "Electronic accessories",
          "Electronic accessories",
          "Electronic accessories",
          "Electronic accessories",
          "Electronic accessories",
          "Electronic accessories",
          "Electronic accessories",
          "Electronic accessories",
          "Electronic accessories",
          "Electronic accessories",
          "Electronic accessories",
          "Electronic accessories",
          "Electronic accessories",
          "Electronic accessories",
          "Electronic accessories",
          "Electronic accessories",
          "Electronic accessories",
          "Electronic accessories",
          "Electronic accessories",
          "Electronic accessories",
          "Electronic accessories",
          "Electronic accessories",
          "Electronic accessories",
          "Electronic accessories",
          "Electronic accessories",
          "Electronic accessories",
          "Electronic accessories",
          "Electronic accessories",
          "Electronic accessories",
          "Electronic accessories",
          "Electronic accessories",
          "Electronic accessories",
          "Electronic accessories",
          "Electronic accessories",
          "Electronic accessories",
          "Electronic accessories",
          "Electronic accessories",
          "Electronic accessories",
          "Electronic accessories",
          "Electronic accessories",
          "Electronic accessories",
          "Electronic accessories",
          "Electronic accessories",
          "Electronic accessories",
          "Electronic accessories",
          "Electronic accessories",
          "Electronic accessories",
          "Electronic accessories",
          "Electronic accessories",
          "Electronic accessories",
          "Electronic accessories",
          "Electronic accessories",
          "Electronic accessories",
          "Electronic accessories",
          "Electronic accessories",
          "Electronic accessories",
          "Electronic accessories",
          "Electronic accessories",
          "Electronic accessories",
          "Electronic accessories",
          "Electronic accessories",
          "Electronic accessories",
          "Electronic accessories",
          "Electronic accessories",
          "Electronic accessories",
          "Electronic accessories",
          "Electronic accessories",
          "Electronic accessories",
          "Electronic accessories",
          "Electronic accessories",
          "Electronic accessories",
          "Electronic accessories",
          "Electronic accessories",
          "Electronic accessories",
          "Electronic accessories",
          "Electronic accessories",
          "Electronic accessories",
          "Electronic accessories",
          "Electronic accessories",
          "Electronic accessories",
          "Electronic accessories",
          "Electronic accessories",
          "Electronic accessories",
          "Electronic accessories",
          "Electronic accessories",
          "Electronic accessories",
          "Electronic accessories",
          "Electronic accessories",
          "Electronic accessories",
          "Electronic accessories",
          "Electronic accessories",
          "Electronic accessories",
          "Electronic accessories",
          "Electronic accessories",
          "Electronic accessories",
          "Electronic accessories",
          "Electronic accessories",
          "Electronic accessories",
          "Electronic accessories",
          "Electronic accessories",
          "Electronic accessories",
          "Electronic accessories",
          "Electronic accessories",
          "Electronic accessories",
          "Electronic accessories",
          "Electronic accessories",
          "Electronic accessories",
          "Electronic accessories",
          "Electronic accessories",
          "Electronic accessories",
          "Electronic accessories",
          "Electronic accessories",
          "Electronic accessories",
          "Electronic accessories",
          "Electronic accessories",
          "Electronic accessories",
          "Electronic accessories",
          "Electronic accessories",
          "Electronic accessories",
          "Electronic accessories",
          "Electronic accessories",
          "Electronic accessories",
          "Electronic accessories",
          "Electronic accessories",
          "Electronic accessories",
          "Electronic accessories",
          "Electronic accessories",
          "Electronic accessories",
          "Electronic accessories",
          "Electronic accessories",
          "Electronic accessories",
          "Electronic accessories",
          "Electronic accessories",
          "Electronic accessories",
          "Electronic accessories",
          "Electronic accessories",
          "Electronic accessories",
          "Electronic accessories",
          "Electronic accessories",
          "Electronic accessories",
          "Electronic accessories",
          "Electronic accessories",
          "Electronic accessories",
          "Electronic accessories",
          "Electronic accessories",
          "Electronic accessories",
          "Electronic accessories",
          "Electronic accessories",
          "Electronic accessories",
          "Electronic accessories",
          "Electronic accessories",
          "Electronic accessories",
          "Electronic accessories"
         ],
         "xaxis": "x",
         "y": [
          15.28,
          85.39,
          68.84,
          25.51,
          46.95,
          86.04,
          34.56,
          60.88,
          93.96,
          18.93,
          85.98,
          30.61,
          75.91,
          41.65,
          97.16,
          12.45,
          23.07,
          88.67,
          81.97,
          99.56,
          87.45,
          26.31,
          72.17,
          20.85,
          52.89,
          32.71,
          57.49,
          61.41,
          66.65,
          99.73,
          26.23,
          94.64,
          45.35,
          11.81,
          37.06,
          90.7,
          10.59,
          13.22,
          81.4,
          77.72,
          66.35,
          32.25,
          65.94,
          75.06,
          40.3,
          27.85,
          62.48,
          51.92,
          28.84,
          51.19,
          14.96,
          72.2,
          26.48,
          78.13,
          74.79,
          36.36,
          28.45,
          47.65,
          48.09,
          71.95,
          26.02,
          51.69,
          30.24,
          27.5,
          51.32,
          21.5,
          26.26,
          23.65,
          26.61,
          76.82,
          19.24,
          25.22,
          84.05,
          23.46,
          40.86,
          74.71,
          22.01,
          20.77,
          79.39,
          46.57,
          98.84,
          64.44,
          84.07,
          38.6,
          32.8,
          63.22,
          24.18,
          99.55,
          45.71,
          22.95,
          18.77,
          66.06,
          22.21,
          19.32,
          21.58,
          42.42,
          74.51,
          83.08,
          28.96,
          87.91,
          78.31,
          46.2,
          88.55,
          55.67,
          12.05,
          24.74,
          75.66,
          15.69,
          99.69,
          45.48,
          39.48,
          69.58,
          43,
          77.63,
          11.94,
          75.88,
          58.76,
          91.56,
          17.42,
          35.74,
          72.13,
          95.64,
          87.87,
          74.58,
          71.89,
          92.6,
          46.61,
          30.2,
          75.59,
          50.23,
          40.26,
          95.15,
          48.62,
          52.89,
          64.95,
          74.22,
          10.56,
          55.87,
          60.3,
          93.78,
          73.26,
          52.79,
          79.59,
          21.43,
          39.75,
          90.02,
          12.1,
          73.47,
          57.91,
          28.38,
          50.45,
          44.84,
          56.13,
          35.49,
          26.26,
          13.78,
          88.25,
          93.88,
          84.25,
          46.02,
          20.89,
          96.82,
          38.27,
          34.49,
          87.08,
          25.45,
          96.37,
          82.34,
          58.03,
          60.95
         ],
         "yaxis": "y"
        },
        {
         "alignmentgroup": "True",
         "bingroup": "x",
         "histfunc": "sum",
         "hovertemplate": "Product line=%{x}<br>sum of Unit price=%{y}<extra></extra>",
         "legendgroup": "Home and lifestyle",
         "marker": {
          "color": "#00cc96",
          "opacity": 0.7,
          "pattern": {
           "shape": ""
          }
         },
         "name": "Home and lifestyle",
         "offsetgroup": "Home and lifestyle",
         "orientation": "v",
         "showlegend": true,
         "texttemplate": "%{value}",
         "type": "histogram",
         "x": [
          "Home and lifestyle",
          "Home and lifestyle",
          "Home and lifestyle",
          "Home and lifestyle",
          "Home and lifestyle",
          "Home and lifestyle",
          "Home and lifestyle",
          "Home and lifestyle",
          "Home and lifestyle",
          "Home and lifestyle",
          "Home and lifestyle",
          "Home and lifestyle",
          "Home and lifestyle",
          "Home and lifestyle",
          "Home and lifestyle",
          "Home and lifestyle",
          "Home and lifestyle",
          "Home and lifestyle",
          "Home and lifestyle",
          "Home and lifestyle",
          "Home and lifestyle",
          "Home and lifestyle",
          "Home and lifestyle",
          "Home and lifestyle",
          "Home and lifestyle",
          "Home and lifestyle",
          "Home and lifestyle",
          "Home and lifestyle",
          "Home and lifestyle",
          "Home and lifestyle",
          "Home and lifestyle",
          "Home and lifestyle",
          "Home and lifestyle",
          "Home and lifestyle",
          "Home and lifestyle",
          "Home and lifestyle",
          "Home and lifestyle",
          "Home and lifestyle",
          "Home and lifestyle",
          "Home and lifestyle",
          "Home and lifestyle",
          "Home and lifestyle",
          "Home and lifestyle",
          "Home and lifestyle",
          "Home and lifestyle",
          "Home and lifestyle",
          "Home and lifestyle",
          "Home and lifestyle",
          "Home and lifestyle",
          "Home and lifestyle",
          "Home and lifestyle",
          "Home and lifestyle",
          "Home and lifestyle",
          "Home and lifestyle",
          "Home and lifestyle",
          "Home and lifestyle",
          "Home and lifestyle",
          "Home and lifestyle",
          "Home and lifestyle",
          "Home and lifestyle",
          "Home and lifestyle",
          "Home and lifestyle",
          "Home and lifestyle",
          "Home and lifestyle",
          "Home and lifestyle",
          "Home and lifestyle",
          "Home and lifestyle",
          "Home and lifestyle",
          "Home and lifestyle",
          "Home and lifestyle",
          "Home and lifestyle",
          "Home and lifestyle",
          "Home and lifestyle",
          "Home and lifestyle",
          "Home and lifestyle",
          "Home and lifestyle",
          "Home and lifestyle",
          "Home and lifestyle",
          "Home and lifestyle",
          "Home and lifestyle",
          "Home and lifestyle",
          "Home and lifestyle",
          "Home and lifestyle",
          "Home and lifestyle",
          "Home and lifestyle",
          "Home and lifestyle",
          "Home and lifestyle",
          "Home and lifestyle",
          "Home and lifestyle",
          "Home and lifestyle",
          "Home and lifestyle",
          "Home and lifestyle",
          "Home and lifestyle",
          "Home and lifestyle",
          "Home and lifestyle",
          "Home and lifestyle",
          "Home and lifestyle",
          "Home and lifestyle",
          "Home and lifestyle",
          "Home and lifestyle",
          "Home and lifestyle",
          "Home and lifestyle",
          "Home and lifestyle",
          "Home and lifestyle",
          "Home and lifestyle",
          "Home and lifestyle",
          "Home and lifestyle",
          "Home and lifestyle",
          "Home and lifestyle",
          "Home and lifestyle",
          "Home and lifestyle",
          "Home and lifestyle",
          "Home and lifestyle",
          "Home and lifestyle",
          "Home and lifestyle",
          "Home and lifestyle",
          "Home and lifestyle",
          "Home and lifestyle",
          "Home and lifestyle",
          "Home and lifestyle",
          "Home and lifestyle",
          "Home and lifestyle",
          "Home and lifestyle",
          "Home and lifestyle",
          "Home and lifestyle",
          "Home and lifestyle",
          "Home and lifestyle",
          "Home and lifestyle",
          "Home and lifestyle",
          "Home and lifestyle",
          "Home and lifestyle",
          "Home and lifestyle",
          "Home and lifestyle",
          "Home and lifestyle",
          "Home and lifestyle",
          "Home and lifestyle",
          "Home and lifestyle",
          "Home and lifestyle",
          "Home and lifestyle",
          "Home and lifestyle",
          "Home and lifestyle",
          "Home and lifestyle",
          "Home and lifestyle",
          "Home and lifestyle",
          "Home and lifestyle",
          "Home and lifestyle",
          "Home and lifestyle",
          "Home and lifestyle",
          "Home and lifestyle",
          "Home and lifestyle",
          "Home and lifestyle",
          "Home and lifestyle",
          "Home and lifestyle",
          "Home and lifestyle",
          "Home and lifestyle",
          "Home and lifestyle",
          "Home and lifestyle",
          "Home and lifestyle",
          "Home and lifestyle",
          "Home and lifestyle"
         ],
         "xaxis": "x",
         "y": [
          46.33,
          73.56,
          40.3,
          33.2,
          52.59,
          30.12,
          86.72,
          56.11,
          16.16,
          44.34,
          72.35,
          55.73,
          74.67,
          47.38,
          82.7,
          58.07,
          80.79,
          53.44,
          63.91,
          93.69,
          34.42,
          77.95,
          71.86,
          50.28,
          95.58,
          33.84,
          94.49,
          46.47,
          74.07,
          69.81,
          77.04,
          25.55,
          25.29,
          17.77,
          28.53,
          92.36,
          18.28,
          63.42,
          62.65,
          93.87,
          47.59,
          23.75,
          58.9,
          25.91,
          35.47,
          70.74,
          35.54,
          21.54,
          12.03,
          21.82,
          69.96,
          37,
          74.86,
          94.88,
          78.38,
          60.01,
          88.61,
          88.79,
          21.52,
          22.02,
          89.25,
          27,
          73.22,
          65.94,
          70.11,
          67.09,
          35.38,
          13.59,
          46.22,
          13.98,
          56.53,
          50.93,
          45.38,
          90.65,
          33.99,
          89.21,
          83.77,
          60.38,
          22.96,
          77.68,
          12.12,
          69.4,
          15.95,
          42.91,
          39.39,
          34.73,
          83.17,
          37.44,
          28.32,
          16.67,
          97.94,
          30.68,
          38.81,
          37.48,
          72.42,
          82.04,
          24.24,
          70.32,
          31.75,
          94.59,
          53.3,
          99.7,
          19.36,
          72.78,
          49.1,
          63.56,
          87.37,
          62.19,
          97.5,
          88.39,
          75.53,
          44.12,
          55.57,
          52.18,
          81.2,
          93.96,
          55.61,
          37.69,
          10.53,
          12.29,
          73.28,
          96.52,
          95.46,
          11.43,
          44.01,
          97.37,
          60.87,
          86.69,
          77.47,
          47.68,
          40.73,
          28.31,
          86.27,
          11.28,
          51.07,
          23.29,
          65.26,
          34.42,
          45.97,
          78.38,
          49.01,
          93.12,
          68.97,
          35.79,
          16.37,
          12.73,
          99.92,
          63.15,
          85.72,
          45.68,
          35.81,
          21.9,
          65.91,
          15.8,
          33.3,
          81.01,
          36.91,
          80.08,
          97.38,
          65.82
         ],
         "yaxis": "y"
        },
        {
         "alignmentgroup": "True",
         "bingroup": "x",
         "histfunc": "sum",
         "hovertemplate": "Product line=%{x}<br>sum of Unit price=%{y}<extra></extra>",
         "legendgroup": "Sports and travel",
         "marker": {
          "color": "#ab63fa",
          "opacity": 0.7,
          "pattern": {
           "shape": ""
          }
         },
         "name": "Sports and travel",
         "offsetgroup": "Sports and travel",
         "orientation": "v",
         "showlegend": true,
         "texttemplate": "%{value}",
         "type": "histogram",
         "x": [
          "Sports and travel",
          "Sports and travel",
          "Sports and travel",
          "Sports and travel",
          "Sports and travel",
          "Sports and travel",
          "Sports and travel",
          "Sports and travel",
          "Sports and travel",
          "Sports and travel",
          "Sports and travel",
          "Sports and travel",
          "Sports and travel",
          "Sports and travel",
          "Sports and travel",
          "Sports and travel",
          "Sports and travel",
          "Sports and travel",
          "Sports and travel",
          "Sports and travel",
          "Sports and travel",
          "Sports and travel",
          "Sports and travel",
          "Sports and travel",
          "Sports and travel",
          "Sports and travel",
          "Sports and travel",
          "Sports and travel",
          "Sports and travel",
          "Sports and travel",
          "Sports and travel",
          "Sports and travel",
          "Sports and travel",
          "Sports and travel",
          "Sports and travel",
          "Sports and travel",
          "Sports and travel",
          "Sports and travel",
          "Sports and travel",
          "Sports and travel",
          "Sports and travel",
          "Sports and travel",
          "Sports and travel",
          "Sports and travel",
          "Sports and travel",
          "Sports and travel",
          "Sports and travel",
          "Sports and travel",
          "Sports and travel",
          "Sports and travel",
          "Sports and travel",
          "Sports and travel",
          "Sports and travel",
          "Sports and travel",
          "Sports and travel",
          "Sports and travel",
          "Sports and travel",
          "Sports and travel",
          "Sports and travel",
          "Sports and travel",
          "Sports and travel",
          "Sports and travel",
          "Sports and travel",
          "Sports and travel",
          "Sports and travel",
          "Sports and travel",
          "Sports and travel",
          "Sports and travel",
          "Sports and travel",
          "Sports and travel",
          "Sports and travel",
          "Sports and travel",
          "Sports and travel",
          "Sports and travel",
          "Sports and travel",
          "Sports and travel",
          "Sports and travel",
          "Sports and travel",
          "Sports and travel",
          "Sports and travel",
          "Sports and travel",
          "Sports and travel",
          "Sports and travel",
          "Sports and travel",
          "Sports and travel",
          "Sports and travel",
          "Sports and travel",
          "Sports and travel",
          "Sports and travel",
          "Sports and travel",
          "Sports and travel",
          "Sports and travel",
          "Sports and travel",
          "Sports and travel",
          "Sports and travel",
          "Sports and travel",
          "Sports and travel",
          "Sports and travel",
          "Sports and travel",
          "Sports and travel",
          "Sports and travel",
          "Sports and travel",
          "Sports and travel",
          "Sports and travel",
          "Sports and travel",
          "Sports and travel",
          "Sports and travel",
          "Sports and travel",
          "Sports and travel",
          "Sports and travel",
          "Sports and travel",
          "Sports and travel",
          "Sports and travel",
          "Sports and travel",
          "Sports and travel",
          "Sports and travel",
          "Sports and travel",
          "Sports and travel",
          "Sports and travel",
          "Sports and travel",
          "Sports and travel",
          "Sports and travel",
          "Sports and travel",
          "Sports and travel",
          "Sports and travel",
          "Sports and travel",
          "Sports and travel",
          "Sports and travel",
          "Sports and travel",
          "Sports and travel",
          "Sports and travel",
          "Sports and travel",
          "Sports and travel",
          "Sports and travel",
          "Sports and travel",
          "Sports and travel",
          "Sports and travel",
          "Sports and travel",
          "Sports and travel",
          "Sports and travel",
          "Sports and travel",
          "Sports and travel",
          "Sports and travel",
          "Sports and travel",
          "Sports and travel",
          "Sports and travel",
          "Sports and travel",
          "Sports and travel",
          "Sports and travel",
          "Sports and travel",
          "Sports and travel",
          "Sports and travel",
          "Sports and travel",
          "Sports and travel",
          "Sports and travel",
          "Sports and travel",
          "Sports and travel",
          "Sports and travel",
          "Sports and travel",
          "Sports and travel",
          "Sports and travel",
          "Sports and travel",
          "Sports and travel",
          "Sports and travel",
          "Sports and travel",
          "Sports and travel"
         ],
         "xaxis": "x",
         "y": [
          86.31,
          93.72,
          72.61,
          88.63,
          78.07,
          83.78,
          68.12,
          62.62,
          69.12,
          24.74,
          55.07,
          15.81,
          78.77,
          48.91,
          83.06,
          42.47,
          44.86,
          21.98,
          62.13,
          16.49,
          57.12,
          99.96,
          32.25,
          90.28,
          92.13,
          34.84,
          51.91,
          72.5,
          89.8,
          34.56,
          80.97,
          93.39,
          63.69,
          76.4,
          69.52,
          15.5,
          12.34,
          19.15,
          46.42,
          29.61,
          24.77,
          87.16,
          93.14,
          14.39,
          22.24,
          54.45,
          98.4,
          67.43,
          44.02,
          15.34,
          23.75,
          40.23,
          79.93,
          97.74,
          14.7,
          57.95,
          44.65,
          95.44,
          74.97,
          14.36,
          95.49,
          82.33,
          75.82,
          52.26,
          67.26,
          21.87,
          25.84,
          67.27,
          99.24,
          82.93,
          88.43,
          19.1,
          39.12,
          73.95,
          54.55,
          37.02,
          40.05,
          33.26,
          34.37,
          37.14,
          36.98,
          49.49,
          75.92,
          98.13,
          51.52,
          73.97,
          93.31,
          88.45,
          48.5,
          90.74,
          58.39,
          71.92,
          91.41,
          98.09,
          20.18,
          60.95,
          51.54,
          49.33,
          73.98,
          26.67,
          85.91,
          63.06,
          43.06,
          45.58,
          75.2,
          96.8,
          46.66,
          54.51,
          80.93,
          38.72,
          72.6,
          60.87,
          64.19,
          15.49,
          37.32,
          27.93,
          42.97,
          17.14,
          98.8,
          40.62,
          64.08,
          34.81,
          23.08,
          64.83,
          72.88,
          70.19,
          27.04,
          25.7,
          90.63,
          69.74,
          71.63,
          31.67,
          13.69,
          95.54,
          67.99,
          93.38,
          25.25,
          94.76,
          58.91,
          24.49,
          23.01,
          93.18,
          64.97,
          10.17,
          60.08,
          22.01,
          11.85,
          44.63,
          29.22,
          39.47,
          22.38,
          12.76,
          90.53,
          64.59,
          89.06,
          31.99,
          45.58,
          76.92,
          42.85,
          83.14,
          35.22,
          88.31,
          25.31,
          89.48,
          97.48,
          76.6
         ],
         "yaxis": "y"
        },
        {
         "alignmentgroup": "True",
         "bingroup": "x",
         "histfunc": "sum",
         "hovertemplate": "Product line=%{x}<br>sum of Unit price=%{y}<extra></extra>",
         "legendgroup": "Food and beverages",
         "marker": {
          "color": "#FFA15A",
          "opacity": 0.7,
          "pattern": {
           "shape": ""
          }
         },
         "name": "Food and beverages",
         "offsetgroup": "Food and beverages",
         "orientation": "v",
         "showlegend": true,
         "texttemplate": "%{value}",
         "type": "histogram",
         "x": [
          "Food and beverages",
          "Food and beverages",
          "Food and beverages",
          "Food and beverages",
          "Food and beverages",
          "Food and beverages",
          "Food and beverages",
          "Food and beverages",
          "Food and beverages",
          "Food and beverages",
          "Food and beverages",
          "Food and beverages",
          "Food and beverages",
          "Food and beverages",
          "Food and beverages",
          "Food and beverages",
          "Food and beverages",
          "Food and beverages",
          "Food and beverages",
          "Food and beverages",
          "Food and beverages",
          "Food and beverages",
          "Food and beverages",
          "Food and beverages",
          "Food and beverages",
          "Food and beverages",
          "Food and beverages",
          "Food and beverages",
          "Food and beverages",
          "Food and beverages",
          "Food and beverages",
          "Food and beverages",
          "Food and beverages",
          "Food and beverages",
          "Food and beverages",
          "Food and beverages",
          "Food and beverages",
          "Food and beverages",
          "Food and beverages",
          "Food and beverages",
          "Food and beverages",
          "Food and beverages",
          "Food and beverages",
          "Food and beverages",
          "Food and beverages",
          "Food and beverages",
          "Food and beverages",
          "Food and beverages",
          "Food and beverages",
          "Food and beverages",
          "Food and beverages",
          "Food and beverages",
          "Food and beverages",
          "Food and beverages",
          "Food and beverages",
          "Food and beverages",
          "Food and beverages",
          "Food and beverages",
          "Food and beverages",
          "Food and beverages",
          "Food and beverages",
          "Food and beverages",
          "Food and beverages",
          "Food and beverages",
          "Food and beverages",
          "Food and beverages",
          "Food and beverages",
          "Food and beverages",
          "Food and beverages",
          "Food and beverages",
          "Food and beverages",
          "Food and beverages",
          "Food and beverages",
          "Food and beverages",
          "Food and beverages",
          "Food and beverages",
          "Food and beverages",
          "Food and beverages",
          "Food and beverages",
          "Food and beverages",
          "Food and beverages",
          "Food and beverages",
          "Food and beverages",
          "Food and beverages",
          "Food and beverages",
          "Food and beverages",
          "Food and beverages",
          "Food and beverages",
          "Food and beverages",
          "Food and beverages",
          "Food and beverages",
          "Food and beverages",
          "Food and beverages",
          "Food and beverages",
          "Food and beverages",
          "Food and beverages",
          "Food and beverages",
          "Food and beverages",
          "Food and beverages",
          "Food and beverages",
          "Food and beverages",
          "Food and beverages",
          "Food and beverages",
          "Food and beverages",
          "Food and beverages",
          "Food and beverages",
          "Food and beverages",
          "Food and beverages",
          "Food and beverages",
          "Food and beverages",
          "Food and beverages",
          "Food and beverages",
          "Food and beverages",
          "Food and beverages",
          "Food and beverages",
          "Food and beverages",
          "Food and beverages",
          "Food and beverages",
          "Food and beverages",
          "Food and beverages",
          "Food and beverages",
          "Food and beverages",
          "Food and beverages",
          "Food and beverages",
          "Food and beverages",
          "Food and beverages",
          "Food and beverages",
          "Food and beverages",
          "Food and beverages",
          "Food and beverages",
          "Food and beverages",
          "Food and beverages",
          "Food and beverages",
          "Food and beverages",
          "Food and beverages",
          "Food and beverages",
          "Food and beverages",
          "Food and beverages",
          "Food and beverages",
          "Food and beverages",
          "Food and beverages",
          "Food and beverages",
          "Food and beverages",
          "Food and beverages",
          "Food and beverages",
          "Food and beverages",
          "Food and beverages",
          "Food and beverages",
          "Food and beverages",
          "Food and beverages",
          "Food and beverages",
          "Food and beverages",
          "Food and beverages",
          "Food and beverages",
          "Food and beverages",
          "Food and beverages",
          "Food and beverages",
          "Food and beverages",
          "Food and beverages",
          "Food and beverages",
          "Food and beverages",
          "Food and beverages",
          "Food and beverages",
          "Food and beverages",
          "Food and beverages",
          "Food and beverages",
          "Food and beverages",
          "Food and beverages",
          "Food and beverages",
          "Food and beverages",
          "Food and beverages",
          "Food and beverages",
          "Food and beverages",
          "Food and beverages"
         ],
         "xaxis": "x",
         "y": [
          54.84,
          43.19,
          54.67,
          88.36,
          99.42,
          98.7,
          20.01,
          91.4,
          44.59,
          89.48,
          48.52,
          78.31,
          96.68,
          19.25,
          80.36,
          49.38,
          52.75,
          58.26,
          33.98,
          10.96,
          68.54,
          30.41,
          16.48,
          92.29,
          43.18,
          45.79,
          39.9,
          51.28,
          80.05,
          19.79,
          22.17,
          73.88,
          38.47,
          18.08,
          87.8,
          71.39,
          93.26,
          57.34,
          62.08,
          43.25,
          24.94,
          73.06,
          46.55,
          74.6,
          48.51,
          36.36,
          48.61,
          14.23,
          99.37,
          21.08,
          22.93,
          99.78,
          94.26,
          32.9,
          23.48,
          42.82,
          97.03,
          89.14,
          80.96,
          94.47,
          99.79,
          41.24,
          99.69,
          74.89,
          40.94,
          46.77,
          18.22,
          54.27,
          39.43,
          13.79,
          38.6,
          20.87,
          43.27,
          17.04,
          17.44,
          27.66,
          63.61,
          77.4,
          35.89,
          40.52,
          73.05,
          22.62,
          51.34,
          21.58,
          65.97,
          90.24,
          84.05,
          81.71,
          54.36,
          16.31,
          87.48,
          71.2,
          98.52,
          41.66,
          89.2,
          81.21,
          10.13,
          72.39,
          60.3,
          31.77,
          27.22,
          52.34,
          52.2,
          77.56,
          49.79,
          57.89,
          98.97,
          67.45,
          98.53,
          71.68,
          91.61,
          78.88,
          83.77,
          79.91,
          17.63,
          98.79,
          72.52,
          87.1,
          57.74,
          93.4,
          73.47,
          48.5,
          67.1,
          55.04,
          52.6,
          32.32,
          68.98,
          80.62,
          36.77,
          23.34,
          53.72,
          84.83,
          38.42,
          27.28,
          18.85,
          55.39,
          77.2,
          52.42,
          65.65,
          28.86,
          53.21,
          33.88,
          47.16,
          14.87,
          72.88,
          21.12,
          47.63,
          24.31,
          24.82,
          33.21,
          83.34,
          87.9,
          47.27,
          35.04,
          11.53,
          79.54,
          29.15,
          99.6,
          74.44,
          57.29,
          66.52,
          26.43,
          62.85,
          21.04,
          50.49,
          98.66,
          33.33,
          84.63,
          74.66,
          26.6,
          67.77,
          59.59,
          56.56,
          31.84
         ],
         "yaxis": "y"
        },
        {
         "alignmentgroup": "True",
         "bingroup": "x",
         "histfunc": "sum",
         "hovertemplate": "Product line=%{x}<br>sum of Unit price=%{y}<extra></extra>",
         "legendgroup": "Fashion accessories",
         "marker": {
          "color": "#19d3f3",
          "opacity": 0.7,
          "pattern": {
           "shape": ""
          }
         },
         "name": "Fashion accessories",
         "offsetgroup": "Fashion accessories",
         "orientation": "v",
         "showlegend": true,
         "texttemplate": "%{value}",
         "type": "histogram",
         "x": [
          "Fashion accessories",
          "Fashion accessories",
          "Fashion accessories",
          "Fashion accessories",
          "Fashion accessories",
          "Fashion accessories",
          "Fashion accessories",
          "Fashion accessories",
          "Fashion accessories",
          "Fashion accessories",
          "Fashion accessories",
          "Fashion accessories",
          "Fashion accessories",
          "Fashion accessories",
          "Fashion accessories",
          "Fashion accessories",
          "Fashion accessories",
          "Fashion accessories",
          "Fashion accessories",
          "Fashion accessories",
          "Fashion accessories",
          "Fashion accessories",
          "Fashion accessories",
          "Fashion accessories",
          "Fashion accessories",
          "Fashion accessories",
          "Fashion accessories",
          "Fashion accessories",
          "Fashion accessories",
          "Fashion accessories",
          "Fashion accessories",
          "Fashion accessories",
          "Fashion accessories",
          "Fashion accessories",
          "Fashion accessories",
          "Fashion accessories",
          "Fashion accessories",
          "Fashion accessories",
          "Fashion accessories",
          "Fashion accessories",
          "Fashion accessories",
          "Fashion accessories",
          "Fashion accessories",
          "Fashion accessories",
          "Fashion accessories",
          "Fashion accessories",
          "Fashion accessories",
          "Fashion accessories",
          "Fashion accessories",
          "Fashion accessories",
          "Fashion accessories",
          "Fashion accessories",
          "Fashion accessories",
          "Fashion accessories",
          "Fashion accessories",
          "Fashion accessories",
          "Fashion accessories",
          "Fashion accessories",
          "Fashion accessories",
          "Fashion accessories",
          "Fashion accessories",
          "Fashion accessories",
          "Fashion accessories",
          "Fashion accessories",
          "Fashion accessories",
          "Fashion accessories",
          "Fashion accessories",
          "Fashion accessories",
          "Fashion accessories",
          "Fashion accessories",
          "Fashion accessories",
          "Fashion accessories",
          "Fashion accessories",
          "Fashion accessories",
          "Fashion accessories",
          "Fashion accessories",
          "Fashion accessories",
          "Fashion accessories",
          "Fashion accessories",
          "Fashion accessories",
          "Fashion accessories",
          "Fashion accessories",
          "Fashion accessories",
          "Fashion accessories",
          "Fashion accessories",
          "Fashion accessories",
          "Fashion accessories",
          "Fashion accessories",
          "Fashion accessories",
          "Fashion accessories",
          "Fashion accessories",
          "Fashion accessories",
          "Fashion accessories",
          "Fashion accessories",
          "Fashion accessories",
          "Fashion accessories",
          "Fashion accessories",
          "Fashion accessories",
          "Fashion accessories",
          "Fashion accessories",
          "Fashion accessories",
          "Fashion accessories",
          "Fashion accessories",
          "Fashion accessories",
          "Fashion accessories",
          "Fashion accessories",
          "Fashion accessories",
          "Fashion accessories",
          "Fashion accessories",
          "Fashion accessories",
          "Fashion accessories",
          "Fashion accessories",
          "Fashion accessories",
          "Fashion accessories",
          "Fashion accessories",
          "Fashion accessories",
          "Fashion accessories",
          "Fashion accessories",
          "Fashion accessories",
          "Fashion accessories",
          "Fashion accessories",
          "Fashion accessories",
          "Fashion accessories",
          "Fashion accessories",
          "Fashion accessories",
          "Fashion accessories",
          "Fashion accessories",
          "Fashion accessories",
          "Fashion accessories",
          "Fashion accessories",
          "Fashion accessories",
          "Fashion accessories",
          "Fashion accessories",
          "Fashion accessories",
          "Fashion accessories",
          "Fashion accessories",
          "Fashion accessories",
          "Fashion accessories",
          "Fashion accessories",
          "Fashion accessories",
          "Fashion accessories",
          "Fashion accessories",
          "Fashion accessories",
          "Fashion accessories",
          "Fashion accessories",
          "Fashion accessories",
          "Fashion accessories",
          "Fashion accessories",
          "Fashion accessories",
          "Fashion accessories",
          "Fashion accessories",
          "Fashion accessories",
          "Fashion accessories",
          "Fashion accessories",
          "Fashion accessories",
          "Fashion accessories",
          "Fashion accessories",
          "Fashion accessories",
          "Fashion accessories",
          "Fashion accessories",
          "Fashion accessories",
          "Fashion accessories",
          "Fashion accessories",
          "Fashion accessories",
          "Fashion accessories",
          "Fashion accessories",
          "Fashion accessories",
          "Fashion accessories",
          "Fashion accessories",
          "Fashion accessories",
          "Fashion accessories",
          "Fashion accessories",
          "Fashion accessories",
          "Fashion accessories",
          "Fashion accessories",
          "Fashion accessories",
          "Fashion accessories",
          "Fashion accessories"
         ],
         "xaxis": "x",
         "y": [
          14.48,
          33.52,
          87.67,
          94.13,
          82.63,
          17.87,
          15.43,
          97.61,
          62.12,
          49.04,
          20.01,
          76.52,
          48.71,
          78.55,
          27.38,
          72.84,
          27.02,
          21.94,
          51.36,
          56.47,
          31.73,
          39.62,
          90.22,
          30.14,
          91.54,
          83.24,
          98.98,
          22.51,
          64.26,
          73.52,
          74.29,
          30.37,
          94.87,
          12.54,
          81.37,
          73.82,
          44.22,
          89.69,
          93.2,
          17.94,
          35.19,
          32.62,
          16.45,
          38.3,
          47.97,
          95.42,
          70.99,
          99.82,
          81.91,
          69.33,
          61.77,
          77.02,
          76.4,
          77.93,
          99.3,
          54.73,
          37.55,
          81.68,
          60.96,
          42.08,
          96.7,
          96.98,
          54.07,
          80.48,
          37.95,
          39.75,
          97.79,
          68.71,
          23.82,
          97.21,
          25.42,
          16.28,
          40.61,
          69.08,
          95.54,
          47.44,
          12.78,
          45.74,
          29.56,
          43.13,
          41.09,
          37.15,
          34.7,
          19.66,
          99.89,
          31.9,
          54.28,
          51.47,
          39.21,
          59.86,
          86.68,
          73.96,
          73.05,
          29.42,
          57.27,
          54.31,
          72.04,
          99.25,
          65.74,
          79.86,
          81.31,
          92.98,
          18.08,
          59.61,
          36.85,
          64.99,
          51.89,
          53.65,
          30.61,
          93.22,
          43.46,
          83.25,
          91.35,
          12.09,
          52.42,
          33.63,
          60.18,
          88.15,
          55.45,
          58.75,
          48.63,
          56.04,
          83.77,
          49.32,
          21.48,
          73.38,
          60.41,
          19.77,
          15.62,
          98.7,
          71.46,
          45.38,
          17.48,
          25.56,
          97.26,
          22.32,
          19.7,
          65.23,
          22.32,
          84.87,
          97.29,
          63.88,
          76.06,
          30.62,
          46.41,
          27.18,
          67.39,
          48.96,
          62.18,
          45.44,
          41.28,
          52.38,
          38.54,
          51.94,
          21.32,
          99.1,
          74.1,
          98.48,
          36.51,
          56.5,
          52.35,
          10.18,
          12.19,
          92.49,
          60.74,
          51.34,
          94.67,
          83.35,
          99.82,
          53.78,
          42.57,
          91.98,
          15.5,
          86.13,
          49.92,
          63.71,
          17.49,
          88.34
         ],
         "yaxis": "y"
        }
       ],
       "layout": {
        "barmode": "relative",
        "legend": {
         "title": {
          "text": "Product line"
         },
         "tracegroupgap": 0
        },
        "template": {
         "data": {
          "bar": [
           {
            "error_x": {
             "color": "#2a3f5f"
            },
            "error_y": {
             "color": "#2a3f5f"
            },
            "marker": {
             "line": {
              "color": "#E5ECF6",
              "width": 0.5
             },
             "pattern": {
              "fillmode": "overlay",
              "size": 10,
              "solidity": 0.2
             }
            },
            "type": "bar"
           }
          ],
          "barpolar": [
           {
            "marker": {
             "line": {
              "color": "#E5ECF6",
              "width": 0.5
             },
             "pattern": {
              "fillmode": "overlay",
              "size": 10,
              "solidity": 0.2
             }
            },
            "type": "barpolar"
           }
          ],
          "carpet": [
           {
            "aaxis": {
             "endlinecolor": "#2a3f5f",
             "gridcolor": "white",
             "linecolor": "white",
             "minorgridcolor": "white",
             "startlinecolor": "#2a3f5f"
            },
            "baxis": {
             "endlinecolor": "#2a3f5f",
             "gridcolor": "white",
             "linecolor": "white",
             "minorgridcolor": "white",
             "startlinecolor": "#2a3f5f"
            },
            "type": "carpet"
           }
          ],
          "choropleth": [
           {
            "colorbar": {
             "outlinewidth": 0,
             "ticks": ""
            },
            "type": "choropleth"
           }
          ],
          "contour": [
           {
            "colorbar": {
             "outlinewidth": 0,
             "ticks": ""
            },
            "colorscale": [
             [
              0,
              "#0d0887"
             ],
             [
              0.1111111111111111,
              "#46039f"
             ],
             [
              0.2222222222222222,
              "#7201a8"
             ],
             [
              0.3333333333333333,
              "#9c179e"
             ],
             [
              0.4444444444444444,
              "#bd3786"
             ],
             [
              0.5555555555555556,
              "#d8576b"
             ],
             [
              0.6666666666666666,
              "#ed7953"
             ],
             [
              0.7777777777777778,
              "#fb9f3a"
             ],
             [
              0.8888888888888888,
              "#fdca26"
             ],
             [
              1,
              "#f0f921"
             ]
            ],
            "type": "contour"
           }
          ],
          "contourcarpet": [
           {
            "colorbar": {
             "outlinewidth": 0,
             "ticks": ""
            },
            "type": "contourcarpet"
           }
          ],
          "heatmap": [
           {
            "colorbar": {
             "outlinewidth": 0,
             "ticks": ""
            },
            "colorscale": [
             [
              0,
              "#0d0887"
             ],
             [
              0.1111111111111111,
              "#46039f"
             ],
             [
              0.2222222222222222,
              "#7201a8"
             ],
             [
              0.3333333333333333,
              "#9c179e"
             ],
             [
              0.4444444444444444,
              "#bd3786"
             ],
             [
              0.5555555555555556,
              "#d8576b"
             ],
             [
              0.6666666666666666,
              "#ed7953"
             ],
             [
              0.7777777777777778,
              "#fb9f3a"
             ],
             [
              0.8888888888888888,
              "#fdca26"
             ],
             [
              1,
              "#f0f921"
             ]
            ],
            "type": "heatmap"
           }
          ],
          "heatmapgl": [
           {
            "colorbar": {
             "outlinewidth": 0,
             "ticks": ""
            },
            "colorscale": [
             [
              0,
              "#0d0887"
             ],
             [
              0.1111111111111111,
              "#46039f"
             ],
             [
              0.2222222222222222,
              "#7201a8"
             ],
             [
              0.3333333333333333,
              "#9c179e"
             ],
             [
              0.4444444444444444,
              "#bd3786"
             ],
             [
              0.5555555555555556,
              "#d8576b"
             ],
             [
              0.6666666666666666,
              "#ed7953"
             ],
             [
              0.7777777777777778,
              "#fb9f3a"
             ],
             [
              0.8888888888888888,
              "#fdca26"
             ],
             [
              1,
              "#f0f921"
             ]
            ],
            "type": "heatmapgl"
           }
          ],
          "histogram": [
           {
            "marker": {
             "pattern": {
              "fillmode": "overlay",
              "size": 10,
              "solidity": 0.2
             }
            },
            "type": "histogram"
           }
          ],
          "histogram2d": [
           {
            "colorbar": {
             "outlinewidth": 0,
             "ticks": ""
            },
            "colorscale": [
             [
              0,
              "#0d0887"
             ],
             [
              0.1111111111111111,
              "#46039f"
             ],
             [
              0.2222222222222222,
              "#7201a8"
             ],
             [
              0.3333333333333333,
              "#9c179e"
             ],
             [
              0.4444444444444444,
              "#bd3786"
             ],
             [
              0.5555555555555556,
              "#d8576b"
             ],
             [
              0.6666666666666666,
              "#ed7953"
             ],
             [
              0.7777777777777778,
              "#fb9f3a"
             ],
             [
              0.8888888888888888,
              "#fdca26"
             ],
             [
              1,
              "#f0f921"
             ]
            ],
            "type": "histogram2d"
           }
          ],
          "histogram2dcontour": [
           {
            "colorbar": {
             "outlinewidth": 0,
             "ticks": ""
            },
            "colorscale": [
             [
              0,
              "#0d0887"
             ],
             [
              0.1111111111111111,
              "#46039f"
             ],
             [
              0.2222222222222222,
              "#7201a8"
             ],
             [
              0.3333333333333333,
              "#9c179e"
             ],
             [
              0.4444444444444444,
              "#bd3786"
             ],
             [
              0.5555555555555556,
              "#d8576b"
             ],
             [
              0.6666666666666666,
              "#ed7953"
             ],
             [
              0.7777777777777778,
              "#fb9f3a"
             ],
             [
              0.8888888888888888,
              "#fdca26"
             ],
             [
              1,
              "#f0f921"
             ]
            ],
            "type": "histogram2dcontour"
           }
          ],
          "mesh3d": [
           {
            "colorbar": {
             "outlinewidth": 0,
             "ticks": ""
            },
            "type": "mesh3d"
           }
          ],
          "parcoords": [
           {
            "line": {
             "colorbar": {
              "outlinewidth": 0,
              "ticks": ""
             }
            },
            "type": "parcoords"
           }
          ],
          "pie": [
           {
            "automargin": true,
            "type": "pie"
           }
          ],
          "scatter": [
           {
            "fillpattern": {
             "fillmode": "overlay",
             "size": 10,
             "solidity": 0.2
            },
            "type": "scatter"
           }
          ],
          "scatter3d": [
           {
            "line": {
             "colorbar": {
              "outlinewidth": 0,
              "ticks": ""
             }
            },
            "marker": {
             "colorbar": {
              "outlinewidth": 0,
              "ticks": ""
             }
            },
            "type": "scatter3d"
           }
          ],
          "scattercarpet": [
           {
            "marker": {
             "colorbar": {
              "outlinewidth": 0,
              "ticks": ""
             }
            },
            "type": "scattercarpet"
           }
          ],
          "scattergeo": [
           {
            "marker": {
             "colorbar": {
              "outlinewidth": 0,
              "ticks": ""
             }
            },
            "type": "scattergeo"
           }
          ],
          "scattergl": [
           {
            "marker": {
             "colorbar": {
              "outlinewidth": 0,
              "ticks": ""
             }
            },
            "type": "scattergl"
           }
          ],
          "scattermapbox": [
           {
            "marker": {
             "colorbar": {
              "outlinewidth": 0,
              "ticks": ""
             }
            },
            "type": "scattermapbox"
           }
          ],
          "scatterpolar": [
           {
            "marker": {
             "colorbar": {
              "outlinewidth": 0,
              "ticks": ""
             }
            },
            "type": "scatterpolar"
           }
          ],
          "scatterpolargl": [
           {
            "marker": {
             "colorbar": {
              "outlinewidth": 0,
              "ticks": ""
             }
            },
            "type": "scatterpolargl"
           }
          ],
          "scatterternary": [
           {
            "marker": {
             "colorbar": {
              "outlinewidth": 0,
              "ticks": ""
             }
            },
            "type": "scatterternary"
           }
          ],
          "surface": [
           {
            "colorbar": {
             "outlinewidth": 0,
             "ticks": ""
            },
            "colorscale": [
             [
              0,
              "#0d0887"
             ],
             [
              0.1111111111111111,
              "#46039f"
             ],
             [
              0.2222222222222222,
              "#7201a8"
             ],
             [
              0.3333333333333333,
              "#9c179e"
             ],
             [
              0.4444444444444444,
              "#bd3786"
             ],
             [
              0.5555555555555556,
              "#d8576b"
             ],
             [
              0.6666666666666666,
              "#ed7953"
             ],
             [
              0.7777777777777778,
              "#fb9f3a"
             ],
             [
              0.8888888888888888,
              "#fdca26"
             ],
             [
              1,
              "#f0f921"
             ]
            ],
            "type": "surface"
           }
          ],
          "table": [
           {
            "cells": {
             "fill": {
              "color": "#EBF0F8"
             },
             "line": {
              "color": "white"
             }
            },
            "header": {
             "fill": {
              "color": "#C8D4E3"
             },
             "line": {
              "color": "white"
             }
            },
            "type": "table"
           }
          ]
         },
         "layout": {
          "annotationdefaults": {
           "arrowcolor": "#2a3f5f",
           "arrowhead": 0,
           "arrowwidth": 1
          },
          "autotypenumbers": "strict",
          "coloraxis": {
           "colorbar": {
            "outlinewidth": 0,
            "ticks": ""
           }
          },
          "colorscale": {
           "diverging": [
            [
             0,
             "#8e0152"
            ],
            [
             0.1,
             "#c51b7d"
            ],
            [
             0.2,
             "#de77ae"
            ],
            [
             0.3,
             "#f1b6da"
            ],
            [
             0.4,
             "#fde0ef"
            ],
            [
             0.5,
             "#f7f7f7"
            ],
            [
             0.6,
             "#e6f5d0"
            ],
            [
             0.7,
             "#b8e186"
            ],
            [
             0.8,
             "#7fbc41"
            ],
            [
             0.9,
             "#4d9221"
            ],
            [
             1,
             "#276419"
            ]
           ],
           "sequential": [
            [
             0,
             "#0d0887"
            ],
            [
             0.1111111111111111,
             "#46039f"
            ],
            [
             0.2222222222222222,
             "#7201a8"
            ],
            [
             0.3333333333333333,
             "#9c179e"
            ],
            [
             0.4444444444444444,
             "#bd3786"
            ],
            [
             0.5555555555555556,
             "#d8576b"
            ],
            [
             0.6666666666666666,
             "#ed7953"
            ],
            [
             0.7777777777777778,
             "#fb9f3a"
            ],
            [
             0.8888888888888888,
             "#fdca26"
            ],
            [
             1,
             "#f0f921"
            ]
           ],
           "sequentialminus": [
            [
             0,
             "#0d0887"
            ],
            [
             0.1111111111111111,
             "#46039f"
            ],
            [
             0.2222222222222222,
             "#7201a8"
            ],
            [
             0.3333333333333333,
             "#9c179e"
            ],
            [
             0.4444444444444444,
             "#bd3786"
            ],
            [
             0.5555555555555556,
             "#d8576b"
            ],
            [
             0.6666666666666666,
             "#ed7953"
            ],
            [
             0.7777777777777778,
             "#fb9f3a"
            ],
            [
             0.8888888888888888,
             "#fdca26"
            ],
            [
             1,
             "#f0f921"
            ]
           ]
          },
          "colorway": [
           "#636efa",
           "#EF553B",
           "#00cc96",
           "#ab63fa",
           "#FFA15A",
           "#19d3f3",
           "#FF6692",
           "#B6E880",
           "#FF97FF",
           "#FECB52"
          ],
          "font": {
           "color": "#2a3f5f"
          },
          "geo": {
           "bgcolor": "white",
           "lakecolor": "white",
           "landcolor": "#E5ECF6",
           "showlakes": true,
           "showland": true,
           "subunitcolor": "white"
          },
          "hoverlabel": {
           "align": "left"
          },
          "hovermode": "closest",
          "mapbox": {
           "style": "light"
          },
          "paper_bgcolor": "white",
          "plot_bgcolor": "#E5ECF6",
          "polar": {
           "angularaxis": {
            "gridcolor": "white",
            "linecolor": "white",
            "ticks": ""
           },
           "bgcolor": "#E5ECF6",
           "radialaxis": {
            "gridcolor": "white",
            "linecolor": "white",
            "ticks": ""
           }
          },
          "scene": {
           "xaxis": {
            "backgroundcolor": "#E5ECF6",
            "gridcolor": "white",
            "gridwidth": 2,
            "linecolor": "white",
            "showbackground": true,
            "ticks": "",
            "zerolinecolor": "white"
           },
           "yaxis": {
            "backgroundcolor": "#E5ECF6",
            "gridcolor": "white",
            "gridwidth": 2,
            "linecolor": "white",
            "showbackground": true,
            "ticks": "",
            "zerolinecolor": "white"
           },
           "zaxis": {
            "backgroundcolor": "#E5ECF6",
            "gridcolor": "white",
            "gridwidth": 2,
            "linecolor": "white",
            "showbackground": true,
            "ticks": "",
            "zerolinecolor": "white"
           }
          },
          "shapedefaults": {
           "line": {
            "color": "#2a3f5f"
           }
          },
          "ternary": {
           "aaxis": {
            "gridcolor": "white",
            "linecolor": "white",
            "ticks": ""
           },
           "baxis": {
            "gridcolor": "white",
            "linecolor": "white",
            "ticks": ""
           },
           "bgcolor": "#E5ECF6",
           "caxis": {
            "gridcolor": "white",
            "linecolor": "white",
            "ticks": ""
           }
          },
          "title": {
           "x": 0.05
          },
          "xaxis": {
           "automargin": true,
           "gridcolor": "white",
           "linecolor": "white",
           "ticks": "",
           "title": {
            "standoff": 15
           },
           "zerolinecolor": "white",
           "zerolinewidth": 2
          },
          "yaxis": {
           "automargin": true,
           "gridcolor": "white",
           "linecolor": "white",
           "ticks": "",
           "title": {
            "standoff": 15
           },
           "zerolinecolor": "white",
           "zerolinewidth": 2
          }
         }
        },
        "title": {
         "text": "Суммарные продажи"
        },
        "xaxis": {
         "anchor": "y",
         "categoryarray": [
          "Health and beauty",
          "Electronic accessories",
          "Home and lifestyle",
          "Sports and travel",
          "Food and beverages",
          "Fashion accessories"
         ],
         "categoryorder": "array",
         "domain": [
          0,
          1
         ],
         "title": {
          "text": "Product line"
         }
        },
        "yaxis": {
         "anchor": "x",
         "domain": [
          0,
          1
         ],
         "title": {
          "text": "sum of Unit price"
         }
        }
       }
      }
     },
     "metadata": {},
     "output_type": "display_data"
    }
   ],
   "source": [
    "fig=px.histogram(df,x='Product line',y='Unit price',\n",
    "                color='Product line',\n",
    "                text_auto=True, opacity=.7, title='Суммарные продажи')\n",
    "\n",
    "fig.show()"
   ]
  },
  {
   "cell_type": "code",
   "execution_count": 98,
   "metadata": {},
   "outputs": [
    {
     "data": {
      "image/png": "[encoded data removed]",
      "text/plain": [
       "<Figure size 640x480 with 2 Axes>"
      ]
     },
     "metadata": {},
     "output_type": "display_data"
    }
   ],
   "source": [
    "plt.subplot(1, 2, 1)\n",
    "df['Product line'][(df['Gender']=='Female')].value_counts().plot(kind='bar',color='pink',title='Interests of women')\n",
    "\n",
    "plt.subplot(1, 2, 2)\n",
    "df['Product line'][(df['Gender']=='Male')].value_counts().plot(kind='bar',title='Interests of men')\n",
    "\n",
    "plt.axis([None, None, 0, 100])\n",
    "plt.show();"
   ]
  },
  {
   "cell_type": "code",
   "execution_count": 99,
   "metadata": {},
   "outputs": [
    {
     "data": {
      "image/png": "[encoded data removed]",
      "text/plain": [
       "<Figure size 500x500 with 1 Axes>"
      ]
     },
     "metadata": {},
     "output_type": "display_data"
    }
   ],
   "source": [
    "sns.catplot(data=df, y='Rating', kind = \"box\")\n",
    "plt.show();"
   ]
  },
  {
   "cell_type": "markdown",
   "metadata": {},
   "source": [
    "Средняя оценка по продуктам составляет примерно 7"
   ]
  },
  {
   "cell_type": "code",
   "execution_count": 100,
   "metadata": {},
   "outputs": [
    {
     "data": {
      "image/png": "[encoded data removed]",
      "text/plain": [
       "<Figure size 500x500 with 1 Axes>"
      ]
     },
     "metadata": {},
     "output_type": "display_data"
    }
   ],
   "source": [
    "sns.catplot(data=df, y='gross income', x='Branch', kind = \"box\")\n",
    "plt.show();"
   ]
  },
  {
   "cell_type": "markdown",
   "metadata": {},
   "source": [
    "Филиал C немного выделяется более высоким доходом по сравнению с филиалами A и B. Несмотря на то, что в филиале A продажи немного выше, именно филиал C является наиболее прибыльным филиалом с точки зрения валового дохода"
   ]
  },
  {
   "cell_type": "code",
   "execution_count": 101,
   "metadata": {},
   "outputs": [
    {
     "data": {
      "application/vnd.plotly.v1+json": {
       "config": {
        "plotlyServerURL": "https://plot.ly"
       },
       "data": [
        {
         "customdata": [
          [
           7,
           "Female"
          ],
          [
           5,
           "Female"
          ],
          [
           7,
           "Male"
          ],
          [
           8,
           "Male"
          ],
          [
           7,
           "Male"
          ],
          [
           7,
           "Male"
          ],
          [
           6,
           "Female"
          ],
          [
           10,
           "Female"
          ],
          [
           2,
           "Female"
          ],
          [
           3,
           "Female"
          ],
          [
           4,
           "Female"
          ],
          [
           4,
           "Male"
          ],
          [
           5,
           "Female"
          ],
          [
           10,
           "Male"
          ],
          [
           10,
           "Female"
          ],
          [
           6,
           "Female"
          ],
          [
           7,
           "Female"
          ],
          [
           6,
           "Male"
          ],
          [
           3,
           "Male"
          ],
          [
           2,
           "Female"
          ],
          [
           5,
           "Male"
          ],
          [
           3,
           "Male"
          ],
          [
           2,
           "Male"
          ],
          [
           5,
           "Male"
          ],
          [
           3,
           "Male"
          ],
          [
           8,
           "Female"
          ],
          [
           1,
           "Male"
          ],
          [
           2,
           "Female"
          ],
          [
           5,
           "Female"
          ],
          [
           9,
           "Male"
          ],
          [
           5,
           "Male"
          ],
          [
           9,
           "Male"
          ],
          [
           8,
           "Male"
          ],
          [
           2,
           "Male"
          ],
          [
           4,
           "Female"
          ],
          [
           1,
           "Female"
          ],
          [
           5,
           "Male"
          ],
          [
           9,
           "Female"
          ],
          [
           8,
           "Female"
          ],
          [
           8,
           "Male"
          ],
          [
           1,
           "Female"
          ],
          [
           2,
           "Male"
          ],
          [
           6,
           "Female"
          ],
          [
           8,
           "Female"
          ],
          [
           2,
           "Male"
          ],
          [
           4,
           "Female"
          ],
          [
           9,
           "Male"
          ],
          [
           9,
           "Female"
          ],
          [
           6,
           "Male"
          ],
          [
           10,
           "Female"
          ],
          [
           7,
           "Male"
          ],
          [
           5,
           "Female"
          ],
          [
           4,
           "Female"
          ],
          [
           1,
           "Male"
          ],
          [
           2,
           "Male"
          ],
          [
           8,
           "Female"
          ],
          [
           2,
           "Male"
          ],
          [
           8,
           "Male"
          ],
          [
           10,
           "Female"
          ],
          [
           6,
           "Male"
          ],
          [
           3,
           "Female"
          ],
          [
           6,
           "Male"
          ],
          [
           9,
           "Female"
          ],
          [
           10,
           "Male"
          ],
          [
           4,
           "Male"
          ],
          [
           10,
           "Male"
          ],
          [
           2,
           "Female"
          ],
          [
           6,
           "Female"
          ],
          [
           10,
           "Male"
          ],
          [
           1,
           "Female"
          ],
          [
           10,
           "Male"
          ],
          [
           10,
           "Male"
          ],
          [
           3,
           "Female"
          ],
          [
           6,
           "Female"
          ],
          [
           9,
           "Male"
          ],
          [
           10,
           "Female"
          ],
          [
           9,
           "Male"
          ],
          [
           9,
           "Female"
          ],
          [
           10,
           "Female"
          ],
          [
           5,
           "Female"
          ],
          [
           6,
           "Female"
          ],
          [
           3,
           "Female"
          ],
          [
           8,
           "Male"
          ],
          [
           4,
           "Female"
          ],
          [
           5,
           "Male"
          ],
          [
           7,
           "Female"
          ],
          [
           5,
           "Male"
          ],
          [
           7,
           "Male"
          ],
          [
           1,
           "Male"
          ],
          [
           6,
           "Female"
          ],
          [
           4,
           "Female"
          ],
          [
           10,
           "Female"
          ],
          [
           7,
           "Female"
          ],
          [
           9,
           "Male"
          ],
          [
           1,
           "Male"
          ],
          [
           1,
           "Male"
          ],
          [
           10,
           "Male"
          ],
          [
           6,
           "Female"
          ],
          [
           3,
           "Male"
          ],
          [
           6,
           "Male"
          ],
          [
           1,
           "Male"
          ],
          [
           9,
           "Male"
          ],
          [
           9,
           "Female"
          ],
          [
           6,
           "Male"
          ],
          [
           7,
           "Male"
          ],
          [
           10,
           "Male"
          ],
          [
           6,
           "Male"
          ],
          [
           6,
           "Male"
          ],
          [
           9,
           "Female"
          ],
          [
           10,
           "Male"
          ],
          [
           2,
           "Female"
          ],
          [
           3,
           "Female"
          ],
          [
           7,
           "Female"
          ],
          [
           9,
           "Male"
          ],
          [
           9,
           "Female"
          ],
          [
           3,
           "Female"
          ],
          [
           5,
           "Male"
          ],
          [
           1,
           "Male"
          ],
          [
           10,
           "Female"
          ],
          [
           2,
           "Male"
          ],
          [
           8,
           "Female"
          ],
          [
           7,
           "Male"
          ],
          [
           9,
           "Male"
          ],
          [
           8,
           "Male"
          ],
          [
           8,
           "Female"
          ],
          [
           7,
           "Female"
          ],
          [
           5,
           "Female"
          ],
          [
           9,
           "Female"
          ],
          [
           8,
           "Female"
          ],
          [
           9,
           "Female"
          ],
          [
           7,
           "Female"
          ],
          [
           6,
           "Female"
          ],
          [
           4,
           "Female"
          ],
          [
           6,
           "Male"
          ],
          [
           6,
           "Female"
          ],
          [
           3,
           "Male"
          ],
          [
           5,
           "Female"
          ],
          [
           6,
           "Female"
          ],
          [
           10,
           "Male"
          ],
          [
           8,
           "Male"
          ],
          [
           10,
           "Female"
          ],
          [
           10,
           "Male"
          ],
          [
           10,
           "Female"
          ],
          [
           1,
           "Female"
          ],
          [
           6,
           "Female"
          ],
          [
           6,
           "Female"
          ],
          [
           10,
           "Female"
          ],
          [
           4,
           "Male"
          ],
          [
           8,
           "Male"
          ],
          [
           8,
           "Male"
          ],
          [
           4,
           "Female"
          ],
          [
           7,
           "Male"
          ],
          [
           9,
           "Male"
          ],
          [
           6,
           "Female"
          ],
          [
           8,
           "Female"
          ],
          [
           5,
           "Male"
          ],
          [
           1,
           "Male"
          ],
          [
           5,
           "Male"
          ],
          [
           9,
           "Male"
          ],
          [
           6,
           "Male"
          ],
          [
           8,
           "Female"
          ],
          [
           1,
           "Male"
          ],
          [
           7,
           "Male"
          ],
          [
           2,
           "Male"
          ],
          [
           10,
           "Male"
          ],
          [
           8,
           "Male"
          ],
          [
           10,
           "Male"
          ],
          [
           10,
           "Male"
          ],
          [
           6,
           "Male"
          ],
          [
           7,
           "Male"
          ],
          [
           5,
           "Male"
          ],
          [
           5,
           "Male"
          ],
          [
           8,
           "Male"
          ],
          [
           6,
           "Male"
          ],
          [
           8,
           "Male"
          ],
          [
           9,
           "Male"
          ],
          [
           8,
           "Male"
          ],
          [
           7,
           "Female"
          ],
          [
           6,
           "Male"
          ],
          [
           3,
           "Male"
          ],
          [
           7,
           "Male"
          ],
          [
           8,
           "Male"
          ],
          [
           10,
           "Male"
          ],
          [
           8,
           "Male"
          ],
          [
           7,
           "Female"
          ],
          [
           3,
           "Male"
          ],
          [
           8,
           "Female"
          ],
          [
           4,
           "Male"
          ],
          [
           1,
           "Male"
          ],
          [
           4,
           "Female"
          ],
          [
           3,
           "Female"
          ],
          [
           2,
           "Female"
          ],
          [
           9,
           "Female"
          ],
          [
           4,
           "Male"
          ],
          [
           5,
           "Male"
          ],
          [
           1,
           "Female"
          ],
          [
           2,
           "Male"
          ],
          [
           1,
           "Female"
          ],
          [
           4,
           "Male"
          ],
          [
           5,
           "Female"
          ],
          [
           6,
           "Female"
          ],
          [
           4,
           "Female"
          ],
          [
           7,
           "Male"
          ],
          [
           10,
           "Male"
          ],
          [
           5,
           "Male"
          ],
          [
           9,
           "Female"
          ],
          [
           9,
           "Female"
          ],
          [
           10,
           "Female"
          ],
          [
           3,
           "Female"
          ],
          [
           9,
           "Female"
          ],
          [
           9,
           "Male"
          ],
          [
           9,
           "Female"
          ],
          [
           5,
           "Male"
          ],
          [
           3,
           "Male"
          ],
          [
           7,
           "Female"
          ],
          [
           1,
           "Male"
          ],
          [
           5,
           "Female"
          ],
          [
           3,
           "Female"
          ],
          [
           8,
           "Male"
          ],
          [
           3,
           "Female"
          ],
          [
           6,
           "Male"
          ],
          [
           7,
           "Male"
          ],
          [
           5,
           "Male"
          ],
          [
           1,
           "Female"
          ],
          [
           2,
           "Male"
          ],
          [
           2,
           "Female"
          ],
          [
           9,
           "Male"
          ],
          [
           4,
           "Male"
          ],
          [
           6,
           "Female"
          ],
          [
           8,
           "Female"
          ],
          [
           2,
           "Female"
          ],
          [
           3,
           "Female"
          ],
          [
           9,
           "Female"
          ],
          [
           4,
           "Male"
          ],
          [
           10,
           "Male"
          ],
          [
           2,
           "Female"
          ],
          [
           5,
           "Male"
          ],
          [
           5,
           "Female"
          ],
          [
           5,
           "Female"
          ],
          [
           1,
           "Male"
          ],
          [
           9,
           "Male"
          ],
          [
           2,
           "Male"
          ],
          [
           2,
           "Male"
          ],
          [
           4,
           "Male"
          ],
          [
           8,
           "Male"
          ],
          [
           8,
           "Male"
          ],
          [
           3,
           "Female"
          ],
          [
           5,
           "Male"
          ],
          [
           4,
           "Male"
          ],
          [
           7,
           "Male"
          ],
          [
           9,
           "Male"
          ],
          [
           10,
           "Male"
          ],
          [
           2,
           "Female"
          ],
          [
           4,
           "Male"
          ],
          [
           8,
           "Male"
          ],
          [
           4,
           "Male"
          ],
          [
           1,
           "Male"
          ],
          [
           6,
           "Male"
          ],
          [
           4,
           "Male"
          ],
          [
           4,
           "Male"
          ],
          [
           9,
           "Female"
          ],
          [
           4,
           "Female"
          ],
          [
           4,
           "Female"
          ],
          [
           10,
           "Female"
          ],
          [
           1,
           "Male"
          ],
          [
           7,
           "Female"
          ],
          [
           4,
           "Male"
          ],
          [
           10,
           "Female"
          ],
          [
           4,
           "Male"
          ],
          [
           10,
           "Female"
          ],
          [
           5,
           "Female"
          ],
          [
           2,
           "Female"
          ],
          [
           9,
           "Female"
          ],
          [
           2,
           "Female"
          ],
          [
           6,
           "Female"
          ],
          [
           7,
           "Male"
          ],
          [
           10,
           "Female"
          ],
          [
           4,
           "Female"
          ],
          [
           10,
           "Male"
          ],
          [
           10,
           "Male"
          ],
          [
           8,
           "Female"
          ],
          [
           1,
           "Male"
          ],
          [
           1,
           "Female"
          ],
          [
           6,
           "Male"
          ],
          [
           4,
           "Female"
          ],
          [
           5,
           "Male"
          ],
          [
           1,
           "Male"
          ],
          [
           9,
           "Female"
          ],
          [
           7,
           "Female"
          ],
          [
           7,
           "Female"
          ],
          [
           10,
           "Male"
          ],
          [
           7,
           "Male"
          ],
          [
           1,
           "Female"
          ],
          [
           2,
           "Female"
          ],
          [
           10,
           "Male"
          ],
          [
           5,
           "Female"
          ],
          [
           4,
           "Male"
          ],
          [
           6,
           "Male"
          ],
          [
           4,
           "Male"
          ],
          [
           1,
           "Female"
          ],
          [
           2,
           "Male"
          ],
          [
           1,
           "Male"
          ],
          [
           1,
           "Male"
          ],
          [
           4,
           "Female"
          ],
          [
           8,
           "Female"
          ],
          [
           7,
           "Male"
          ],
          [
           7,
           "Female"
          ],
          [
           8,
           "Female"
          ],
          [
           3,
           "Female"
          ],
          [
           2,
           "Female"
          ],
          [
           6,
           "Male"
          ],
          [
           2,
           "Male"
          ],
          [
           5,
           "Female"
          ],
          [
           9,
           "Female"
          ],
          [
           10,
           "Female"
          ],
          [
           2,
           "Male"
          ],
          [
           3,
           "Female"
          ],
          [
           5,
           "Male"
          ],
          [
           7,
           "Female"
          ],
          [
           4,
           "Male"
          ],
          [
           9,
           "Female"
          ],
          [
           1,
           "Female"
          ],
          [
           6,
           "Male"
          ],
          [
           5,
           "Female"
          ],
          [
           6,
           "Male"
          ],
          [
           4,
           "Male"
          ],
          [
           5,
           "Male"
          ],
          [
           4,
           "Male"
          ],
          [
           4,
           "Male"
          ],
          [
           4,
           "Male"
          ],
          [
           9,
           "Male"
          ],
          [
           3,
           "Male"
          ],
          [
           5,
           "Male"
          ],
          [
           2,
           "Male"
          ],
          [
           5,
           "Male"
          ],
          [
           5,
           "Female"
          ],
          [
           9,
           "Male"
          ],
          [
           6,
           "Female"
          ],
          [
           3,
           "Female"
          ],
          [
           9,
           "Female"
          ],
          [
           3,
           "Male"
          ],
          [
           7,
           "Female"
          ],
          [
           7,
           "Female"
          ],
          [
           5,
           "Female"
          ],
          [
           3,
           "Male"
          ],
          [
           9,
           "Female"
          ],
          [
           1,
           "Male"
          ],
          [
           8,
           "Female"
          ],
          [
           7,
           "Male"
          ],
          [
           10,
           "Female"
          ],
          [
           10,
           "Female"
          ],
          [
           7,
           "Male"
          ],
          [
           7,
           "Female"
          ],
          [
           9,
           "Male"
          ],
          [
           1,
           "Female"
          ],
          [
           4,
           "Female"
          ],
          [
           10,
           "Female"
          ],
          [
           10,
           "Female"
          ],
          [
           3,
           "Male"
          ],
          [
           1,
           "Male"
          ],
          [
           8,
           "Male"
          ],
          [
           8,
           "Female"
          ],
          [
           2,
           "Male"
          ],
          [
           6,
           "Male"
          ],
          [
           4,
           "Female"
          ],
          [
           4,
           "Female"
          ],
          [
           9,
           "Female"
          ],
          [
           4,
           "Male"
          ],
          [
           10,
           "Female"
          ],
          [
           9,
           "Male"
          ],
          [
           7,
           "Female"
          ],
          [
           2,
           "Female"
          ],
          [
           6,
           "Female"
          ],
          [
           6,
           "Male"
          ],
          [
           5,
           "Female"
          ],
          [
           5,
           "Female"
          ],
          [
           9,
           "Female"
          ],
          [
           7,
           "Male"
          ],
          [
           4,
           "Male"
          ],
          [
           4,
           "Female"
          ],
          [
           4,
           "Male"
          ],
          [
           2,
           "Female"
          ],
          [
           5,
           "Female"
          ],
          [
           4,
           "Female"
          ],
          [
           5,
           "Female"
          ],
          [
           1,
           "Male"
          ],
          [
           6,
           "Male"
          ],
          [
           10,
           "Female"
          ],
          [
           9,
           "Female"
          ],
          [
           7,
           "Male"
          ],
          [
           3,
           "Female"
          ],
          [
           10,
           "Female"
          ],
          [
           1,
           "Male"
          ],
          [
           10,
           "Female"
          ],
          [
           1,
           "Female"
          ],
          [
           5,
           "Female"
          ],
          [
           5,
           "Female"
          ],
          [
           9,
           "Male"
          ],
          [
           6,
           "Female"
          ],
          [
           9,
           "Male"
          ],
          [
           6,
           "Female"
          ],
          [
           4,
           "Male"
          ],
          [
           1,
           "Male"
          ],
          [
           5,
           "Female"
          ],
          [
           7,
           "Female"
          ],
          [
           4,
           "Male"
          ],
          [
           5,
           "Male"
          ],
          [
           4,
           "Female"
          ],
          [
           4,
           "Female"
          ],
          [
           5,
           "Female"
          ],
          [
           10,
           "Female"
          ],
          [
           2,
           "Male"
          ],
          [
           5,
           "Male"
          ],
          [
           3,
           "Male"
          ],
          [
           8,
           "Male"
          ],
          [
           1,
           "Male"
          ],
          [
           4,
           "Female"
          ],
          [
           1,
           "Female"
          ],
          [
           2,
           "Female"
          ],
          [
           7,
           "Female"
          ],
          [
           3,
           "Female"
          ],
          [
           3,
           "Female"
          ],
          [
           10,
           "Female"
          ],
          [
           8,
           "Male"
          ],
          [
           1,
           "Male"
          ],
          [
           9,
           "Male"
          ],
          [
           7,
           "Male"
          ],
          [
           3,
           "Female"
          ],
          [
           5,
           "Male"
          ],
          [
           10,
           "Female"
          ],
          [
           2,
           "Male"
          ],
          [
           2,
           "Male"
          ],
          [
           6,
           "Female"
          ],
          [
           7,
           "Male"
          ],
          [
           1,
           "Female"
          ],
          [
           9,
           "Male"
          ],
          [
           4,
           "Male"
          ],
          [
           6,
           "Male"
          ],
          [
           4,
           "Male"
          ],
          [
           8,
           "Female"
          ],
          [
           5,
           "Male"
          ],
          [
           8,
           "Female"
          ],
          [
           9,
           "Female"
          ],
          [
           1,
           "Male"
          ],
          [
           7,
           "Female"
          ],
          [
           1,
           "Female"
          ],
          [
           10,
           "Male"
          ],
          [
           3,
           "Male"
          ],
          [
           1,
           "Female"
          ],
          [
           1,
           "Female"
          ],
          [
           6,
           "Female"
          ],
          [
           6,
           "Male"
          ],
          [
           5,
           "Female"
          ],
          [
           1,
           "Male"
          ],
          [
           4,
           "Male"
          ],
          [
           5,
           "Female"
          ],
          [
           9,
           "Female"
          ],
          [
           10,
           "Male"
          ],
          [
           10,
           "Female"
          ],
          [
           1,
           "Male"
          ],
          [
           5,
           "Male"
          ],
          [
           10,
           "Female"
          ],
          [
           4,
           "Female"
          ],
          [
           1,
           "Female"
          ],
          [
           5,
           "Male"
          ],
          [
           10,
           "Female"
          ],
          [
           7,
           "Female"
          ],
          [
           6,
           "Male"
          ],
          [
           1,
           "Male"
          ],
          [
           1,
           "Female"
          ],
          [
           6,
           "Female"
          ],
          [
           4,
           "Female"
          ],
          [
           10,
           "Male"
          ],
          [
           8,
           "Male"
          ],
          [
           5,
           "Female"
          ],
          [
           3,
           "Male"
          ],
          [
           5,
           "Female"
          ],
          [
           4,
           "Male"
          ],
          [
           10,
           "Male"
          ],
          [
           1,
           "Male"
          ],
          [
           8,
           "Male"
          ],
          [
           10,
           "Female"
          ],
          [
           5,
           "Male"
          ],
          [
           10,
           "Male"
          ],
          [
           10,
           "Female"
          ],
          [
           4,
           "Female"
          ],
          [
           10,
           "Female"
          ],
          [
           4,
           "Male"
          ],
          [
           1,
           "Male"
          ],
          [
           9,
           "Female"
          ],
          [
           2,
           "Female"
          ],
          [
           10,
           "Female"
          ],
          [
           8,
           "Female"
          ],
          [
           10,
           "Female"
          ],
          [
           2,
           "Male"
          ],
          [
           8,
           "Male"
          ],
          [
           2,
           "Female"
          ],
          [
           6,
           "Female"
          ],
          [
           1,
           "Female"
          ],
          [
           8,
           "Female"
          ],
          [
           1,
           "Male"
          ],
          [
           1,
           "Female"
          ],
          [
           2,
           "Male"
          ],
          [
           2,
           "Female"
          ],
          [
           1,
           "Male"
          ],
          [
           8,
           "Male"
          ],
          [
           3,
           "Female"
          ],
          [
           6,
           "Female"
          ],
          [
           5,
           "Male"
          ],
          [
           6,
           "Female"
          ],
          [
           7,
           "Female"
          ],
          [
           5,
           "Female"
          ],
          [
           7,
           "Female"
          ],
          [
           7,
           "Male"
          ],
          [
           7,
           "Male"
          ],
          [
           1,
           "Female"
          ],
          [
           5,
           "Male"
          ],
          [
           5,
           "Male"
          ],
          [
           2,
           "Male"
          ],
          [
           5,
           "Male"
          ],
          [
           3,
           "Female"
          ],
          [
           6,
           "Female"
          ],
          [
           6,
           "Female"
          ],
          [
           2,
           "Male"
          ],
          [
           6,
           "Male"
          ],
          [
           5,
           "Female"
          ],
          [
           4,
           "Male"
          ],
          [
           2,
           "Male"
          ],
          [
           10,
           "Female"
          ],
          [
           9,
           "Male"
          ],
          [
           6,
           "Male"
          ],
          [
           8,
           "Male"
          ],
          [
           10,
           "Male"
          ],
          [
           9,
           "Female"
          ],
          [
           5,
           "Female"
          ],
          [
           7,
           "Male"
          ],
          [
           1,
           "Female"
          ],
          [
           1,
           "Male"
          ],
          [
           4,
           "Female"
          ],
          [
           6,
           "Female"
          ],
          [
           3,
           "Male"
          ],
          [
           1,
           "Male"
          ],
          [
           4,
           "Female"
          ],
          [
           6,
           "Male"
          ],
          [
           1,
           "Female"
          ],
          [
           4,
           "Male"
          ],
          [
           10,
           "Female"
          ],
          [
           9,
           "Male"
          ],
          [
           5,
           "Female"
          ],
          [
           6,
           "Female"
          ],
          [
           3,
           "Male"
          ],
          [
           9,
           "Female"
          ],
          [
           9,
           "Female"
          ],
          [
           6,
           "Male"
          ],
          [
           7,
           "Male"
          ],
          [
           3,
           "Male"
          ],
          [
           2,
           "Female"
          ],
          [
           10,
           "Female"
          ],
          [
           6,
           "Male"
          ],
          [
           3,
           "Female"
          ],
          [
           9,
           "Male"
          ],
          [
           10,
           "Male"
          ],
          [
           8,
           "Female"
          ],
          [
           6,
           "Male"
          ],
          [
           2,
           "Male"
          ],
          [
           10,
           "Female"
          ],
          [
           10,
           "Female"
          ],
          [
           9,
           "Female"
          ],
          [
           7,
           "Female"
          ],
          [
           7,
           "Female"
          ],
          [
           5,
           "Female"
          ],
          [
           10,
           "Male"
          ],
          [
           7,
           "Male"
          ],
          [
           2,
           "Male"
          ],
          [
           5,
           "Male"
          ],
          [
           7,
           "Male"
          ],
          [
           4,
           "Male"
          ],
          [
           4,
           "Male"
          ],
          [
           4,
           "Female"
          ],
          [
           2,
           "Male"
          ],
          [
           3,
           "Male"
          ],
          [
           4,
           "Female"
          ],
          [
           2,
           "Female"
          ],
          [
           4,
           "Female"
          ],
          [
           3,
           "Male"
          ],
          [
           4,
           "Male"
          ],
          [
           3,
           "Female"
          ],
          [
           5,
           "Female"
          ],
          [
           10,
           "Male"
          ],
          [
           5,
           "Male"
          ],
          [
           6,
           "Male"
          ],
          [
           7,
           "Female"
          ],
          [
           1,
           "Female"
          ],
          [
           3,
           "Female"
          ],
          [
           3,
           "Male"
          ],
          [
           3,
           "Male"
          ],
          [
           3,
           "Male"
          ],
          [
           9,
           "Female"
          ],
          [
           5,
           "Female"
          ],
          [
           2,
           "Female"
          ],
          [
           1,
           "Male"
          ],
          [
           1,
           "Female"
          ],
          [
           10,
           "Male"
          ],
          [
           6,
           "Female"
          ],
          [
           7,
           "Female"
          ],
          [
           4,
           "Male"
          ],
          [
           7,
           "Female"
          ],
          [
           4,
           "Female"
          ],
          [
           1,
           "Male"
          ],
          [
           2,
           "Male"
          ],
          [
           1,
           "Female"
          ],
          [
           9,
           "Female"
          ],
          [
           3,
           "Male"
          ],
          [
           1,
           "Male"
          ],
          [
           10,
           "Male"
          ],
          [
           9,
           "Female"
          ],
          [
           6,
           "Male"
          ],
          [
           5,
           "Male"
          ],
          [
           6,
           "Male"
          ],
          [
           6,
           "Female"
          ],
          [
           3,
           "Female"
          ],
          [
           1,
           "Female"
          ],
          [
           7,
           "Female"
          ],
          [
           10,
           "Female"
          ],
          [
           1,
           "Male"
          ],
          [
           2,
           "Female"
          ],
          [
           2,
           "Male"
          ],
          [
           10,
           "Male"
          ],
          [
           3,
           "Male"
          ],
          [
           1,
           "Female"
          ],
          [
           10,
           "Male"
          ],
          [
           3,
           "Male"
          ],
          [
           2,
           "Male"
          ],
          [
           3,
           "Male"
          ],
          [
           3,
           "Male"
          ],
          [
           10,
           "Male"
          ],
          [
           7,
           "Male"
          ],
          [
           1,
           "Female"
          ],
          [
           5,
           "Female"
          ],
          [
           3,
           "Male"
          ],
          [
           3,
           "Female"
          ],
          [
           8,
           "Female"
          ],
          [
           2,
           "Male"
          ],
          [
           8,
           "Female"
          ],
          [
           5,
           "Male"
          ],
          [
           9,
           "Male"
          ],
          [
           6,
           "Male"
          ],
          [
           1,
           "Male"
          ],
          [
           2,
           "Female"
          ],
          [
           10,
           "Male"
          ],
          [
           5,
           "Male"
          ],
          [
           6,
           "Female"
          ],
          [
           10,
           "Male"
          ],
          [
           9,
           "Male"
          ],
          [
           4,
           "Male"
          ],
          [
           3,
           "Female"
          ],
          [
           1,
           "Female"
          ],
          [
           3,
           "Female"
          ],
          [
           5,
           "Female"
          ],
          [
           1,
           "Male"
          ],
          [
           3,
           "Female"
          ],
          [
           7,
           "Male"
          ],
          [
           6,
           "Female"
          ],
          [
           10,
           "Female"
          ],
          [
           2,
           "Female"
          ],
          [
           4,
           "Female"
          ],
          [
           3,
           "Male"
          ],
          [
           4,
           "Female"
          ],
          [
           6,
           "Female"
          ],
          [
           2,
           "Female"
          ],
          [
           10,
           "Male"
          ],
          [
           2,
           "Male"
          ],
          [
           3,
           "Female"
          ],
          [
           8,
           "Male"
          ],
          [
           10,
           "Female"
          ],
          [
           2,
           "Male"
          ],
          [
           7,
           "Female"
          ],
          [
           4,
           "Female"
          ],
          [
           10,
           "Male"
          ],
          [
           6,
           "Male"
          ],
          [
           1,
           "Female"
          ],
          [
           1,
           "Female"
          ],
          [
           6,
           "Female"
          ],
          [
           2,
           "Male"
          ],
          [
           6,
           "Female"
          ],
          [
           2,
           "Female"
          ],
          [
           2,
           "Female"
          ],
          [
           10,
           "Male"
          ],
          [
           2,
           "Male"
          ],
          [
           3,
           "Female"
          ],
          [
           9,
           "Female"
          ],
          [
           7,
           "Male"
          ],
          [
           10,
           "Male"
          ],
          [
           7,
           "Female"
          ],
          [
           9,
           "Female"
          ],
          [
           5,
           "Female"
          ],
          [
           4,
           "Female"
          ],
          [
           4,
           "Male"
          ],
          [
           9,
           "Male"
          ],
          [
           10,
           "Male"
          ],
          [
           8,
           "Female"
          ],
          [
           3,
           "Male"
          ],
          [
           10,
           "Female"
          ],
          [
           9,
           "Male"
          ],
          [
           9,
           "Female"
          ],
          [
           7,
           "Male"
          ],
          [
           4,
           "Female"
          ],
          [
           1,
           "Male"
          ],
          [
           8,
           "Male"
          ],
          [
           3,
           "Male"
          ],
          [
           6,
           "Male"
          ],
          [
           4,
           "Female"
          ],
          [
           9,
           "Female"
          ],
          [
           9,
           "Female"
          ],
          [
           8,
           "Male"
          ],
          [
           5,
           "Female"
          ],
          [
           7,
           "Female"
          ],
          [
           3,
           "Male"
          ],
          [
           3,
           "Male"
          ],
          [
           6,
           "Female"
          ],
          [
           7,
           "Female"
          ],
          [
           9,
           "Female"
          ],
          [
           3,
           "Male"
          ],
          [
           7,
           "Female"
          ],
          [
           4,
           "Male"
          ],
          [
           8,
           "Female"
          ],
          [
           3,
           "Male"
          ],
          [
           10,
           "Male"
          ],
          [
           4,
           "Male"
          ],
          [
           7,
           "Female"
          ],
          [
           4,
           "Female"
          ],
          [
           3,
           "Male"
          ],
          [
           1,
           "Male"
          ],
          [
           7,
           "Male"
          ],
          [
           1,
           "Male"
          ],
          [
           10,
           "Male"
          ],
          [
           7,
           "Female"
          ],
          [
           10,
           "Male"
          ],
          [
           8,
           "Male"
          ],
          [
           9,
           "Male"
          ],
          [
           7,
           "Male"
          ],
          [
           1,
           "Male"
          ],
          [
           2,
           "Female"
          ],
          [
           2,
           "Male"
          ],
          [
           8,
           "Female"
          ],
          [
           1,
           "Female"
          ],
          [
           10,
           "Male"
          ],
          [
           5,
           "Female"
          ],
          [
           9,
           "Female"
          ],
          [
           7,
           "Male"
          ],
          [
           4,
           "Female"
          ],
          [
           5,
           "Female"
          ],
          [
           10,
           "Female"
          ],
          [
           5,
           "Male"
          ],
          [
           3,
           "Female"
          ],
          [
           8,
           "Female"
          ],
          [
           8,
           "Female"
          ],
          [
           6,
           "Female"
          ],
          [
           10,
           "Male"
          ],
          [
           4,
           "Female"
          ],
          [
           10,
           "Female"
          ],
          [
           10,
           "Male"
          ],
          [
           8,
           "Female"
          ],
          [
           5,
           "Female"
          ],
          [
           4,
           "Male"
          ],
          [
           8,
           "Female"
          ],
          [
           3,
           "Female"
          ],
          [
           6,
           "Male"
          ],
          [
           4,
           "Female"
          ],
          [
           6,
           "Female"
          ],
          [
           4,
           "Female"
          ],
          [
           7,
           "Female"
          ],
          [
           7,
           "Female"
          ],
          [
           1,
           "Female"
          ],
          [
           2,
           "Male"
          ],
          [
           5,
           "Female"
          ],
          [
           7,
           "Male"
          ],
          [
           1,
           "Male"
          ],
          [
           5,
           "Male"
          ],
          [
           9,
           "Male"
          ],
          [
           8,
           "Male"
          ],
          [
           4,
           "Female"
          ],
          [
           1,
           "Female"
          ],
          [
           8,
           "Female"
          ],
          [
           5,
           "Female"
          ],
          [
           7,
           "Male"
          ],
          [
           8,
           "Male"
          ],
          [
           5,
           "Female"
          ],
          [
           3,
           "Male"
          ],
          [
           7,
           "Male"
          ],
          [
           1,
           "Male"
          ],
          [
           4,
           "Male"
          ],
          [
           10,
           "Female"
          ],
          [
           7,
           "Male"
          ],
          [
           2,
           "Female"
          ],
          [
           2,
           "Male"
          ],
          [
           1,
           "Female"
          ],
          [
           10,
           "Female"
          ],
          [
           1,
           "Male"
          ],
          [
           5,
           "Male"
          ],
          [
           6,
           "Male"
          ],
          [
           8,
           "Female"
          ],
          [
           7,
           "Male"
          ],
          [
           9,
           "Female"
          ],
          [
           9,
           "Female"
          ],
          [
           4,
           "Female"
          ],
          [
           2,
           "Female"
          ],
          [
           4,
           "Female"
          ],
          [
           1,
           "Female"
          ],
          [
           10,
           "Female"
          ],
          [
           8,
           "Male"
          ],
          [
           10,
           "Female"
          ],
          [
           5,
           "Female"
          ],
          [
           1,
           "Male"
          ],
          [
           8,
           "Female"
          ],
          [
           8,
           "Female"
          ],
          [
           7,
           "Female"
          ],
          [
           8,
           "Male"
          ],
          [
           4,
           "Male"
          ],
          [
           5,
           "Male"
          ],
          [
           4,
           "Male"
          ],
          [
           2,
           "Female"
          ],
          [
           1,
           "Male"
          ],
          [
           3,
           "Female"
          ],
          [
           7,
           "Female"
          ],
          [
           4,
           "Female"
          ],
          [
           9,
           "Female"
          ],
          [
           3,
           "Male"
          ],
          [
           10,
           "Male"
          ],
          [
           10,
           "Female"
          ],
          [
           8,
           "Male"
          ],
          [
           4,
           "Male"
          ],
          [
           8,
           "Female"
          ],
          [
           1,
           "Male"
          ],
          [
           7,
           "Female"
          ],
          [
           1,
           "Male"
          ],
          [
           5,
           "Male"
          ],
          [
           6,
           "Male"
          ],
          [
           10,
           "Male"
          ],
          [
           6,
           "Female"
          ],
          [
           3,
           "Male"
          ],
          [
           1,
           "Male"
          ],
          [
           2,
           "Female"
          ],
          [
           2,
           "Female"
          ],
          [
           1,
           "Male"
          ],
          [
           3,
           "Male"
          ],
          [
           1,
           "Male"
          ],
          [
           1,
           "Female"
          ],
          [
           9,
           "Female"
          ],
          [
           6,
           "Female"
          ],
          [
           1,
           "Male"
          ],
          [
           2,
           "Female"
          ],
          [
           7,
           "Male"
          ],
          [
           10,
           "Female"
          ],
          [
           5,
           "Female"
          ],
          [
           9,
           "Female"
          ],
          [
           8,
           "Male"
          ],
          [
           4,
           "Female"
          ],
          [
           6,
           "Male"
          ],
          [
           9,
           "Female"
          ],
          [
           1,
           "Female"
          ],
          [
           2,
           "Male"
          ],
          [
           9,
           "Female"
          ],
          [
           7,
           "Female"
          ],
          [
           3,
           "Female"
          ],
          [
           3,
           "Male"
          ],
          [
           8,
           "Male"
          ],
          [
           2,
           "Female"
          ],
          [
           3,
           "Male"
          ],
          [
           4,
           "Male"
          ],
          [
           7,
           "Male"
          ],
          [
           1,
           "Male"
          ],
          [
           10,
           "Female"
          ],
          [
           6,
           "Male"
          ],
          [
           4,
           "Male"
          ],
          [
           8,
           "Male"
          ],
          [
           1,
           "Male"
          ],
          [
           1,
           "Male"
          ],
          [
           8,
           "Female"
          ],
          [
           8,
           "Female"
          ],
          [
           10,
           "Female"
          ],
          [
           8,
           "Female"
          ],
          [
           10,
           "Male"
          ],
          [
           6,
           "Female"
          ],
          [
           2,
           "Female"
          ],
          [
           7,
           "Male"
          ],
          [
           1,
           "Male"
          ],
          [
           10,
           "Female"
          ],
          [
           8,
           "Female"
          ],
          [
           10,
           "Male"
          ],
          [
           5,
           "Female"
          ],
          [
           8,
           "Female"
          ],
          [
           5,
           "Female"
          ],
          [
           5,
           "Male"
          ],
          [
           6,
           "Male"
          ],
          [
           8,
           "Male"
          ],
          [
           7,
           "Male"
          ],
          [
           6,
           "Female"
          ],
          [
           7,
           "Male"
          ],
          [
           9,
           "Male"
          ],
          [
           9,
           "Female"
          ],
          [
           4,
           "Male"
          ],
          [
           5,
           "Female"
          ],
          [
           7,
           "Male"
          ],
          [
           2,
           "Female"
          ],
          [
           4,
           "Female"
          ],
          [
           10,
           "Male"
          ],
          [
           5,
           "Female"
          ],
          [
           2,
           "Female"
          ],
          [
           10,
           "Female"
          ],
          [
           3,
           "Female"
          ],
          [
           4,
           "Female"
          ],
          [
           8,
           "Female"
          ],
          [
           8,
           "Male"
          ],
          [
           3,
           "Female"
          ],
          [
           6,
           "Female"
          ],
          [
           1,
           "Male"
          ],
          [
           4,
           "Female"
          ],
          [
           3,
           "Male"
          ],
          [
           3,
           "Female"
          ],
          [
           9,
           "Female"
          ],
          [
           6,
           "Female"
          ],
          [
           2,
           "Female"
          ],
          [
           7,
           "Female"
          ],
          [
           6,
           "Female"
          ],
          [
           4,
           "Female"
          ],
          [
           1,
           "Male"
          ],
          [
           9,
           "Female"
          ],
          [
           9,
           "Female"
          ],
          [
           2,
           "Male"
          ],
          [
           6,
           "Male"
          ],
          [
           2,
           "Female"
          ],
          [
           10,
           "Female"
          ],
          [
           7,
           "Male"
          ],
          [
           6,
           "Female"
          ],
          [
           3,
           "Male"
          ],
          [
           7,
           "Female"
          ],
          [
           5,
           "Female"
          ],
          [
           3,
           "Female"
          ],
          [
           6,
           "Female"
          ],
          [
           4,
           "Male"
          ],
          [
           9,
           "Male"
          ],
          [
           10,
           "Female"
          ],
          [
           5,
           "Male"
          ],
          [
           7,
           "Male"
          ],
          [
           7,
           "Female"
          ],
          [
           2,
           "Male"
          ],
          [
           1,
           "Male"
          ],
          [
           5,
           "Male"
          ],
          [
           8,
           "Female"
          ],
          [
           3,
           "Male"
          ],
          [
           3,
           "Female"
          ],
          [
           4,
           "Female"
          ],
          [
           4,
           "Female"
          ],
          [
           6,
           "Male"
          ],
          [
           7,
           "Female"
          ],
          [
           9,
           "Male"
          ],
          [
           6,
           "Male"
          ],
          [
           10,
           "Female"
          ],
          [
           9,
           "Female"
          ],
          [
           1,
           "Male"
          ],
          [
           2,
           "Male"
          ],
          [
           1,
           "Female"
          ],
          [
           3,
           "Male"
          ],
          [
           2,
           "Male"
          ],
          [
           2,
           "Female"
          ],
          [
           9,
           "Female"
          ],
          [
           3,
           "Male"
          ],
          [
           3,
           "Female"
          ],
          [
           5,
           "Female"
          ],
          [
           10,
           "Female"
          ],
          [
           7,
           "Male"
          ],
          [
           7,
           "Male"
          ],
          [
           3,
           "Male"
          ],
          [
           2,
           "Male"
          ],
          [
           2,
           "Male"
          ],
          [
           4,
           "Female"
          ],
          [
           6,
           "Male"
          ],
          [
           1,
           "Female"
          ],
          [
           1,
           "Female"
          ],
          [
           4,
           "Male"
          ],
          [
           4,
           "Male"
          ],
          [
           9,
           "Female"
          ],
          [
           7,
           "Male"
          ],
          [
           7,
           "Male"
          ],
          [
           5,
           "Female"
          ],
          [
           2,
           "Female"
          ],
          [
           8,
           "Male"
          ],
          [
           10,
           "Male"
          ],
          [
           8,
           "Male"
          ],
          [
           5,
           "Female"
          ],
          [
           10,
           "Female"
          ],
          [
           2,
           "Male"
          ],
          [
           10,
           "Male"
          ],
          [
           1,
           "Female"
          ],
          [
           1,
           "Male"
          ],
          [
           10,
           "Female"
          ],
          [
           1,
           "Male"
          ],
          [
           1,
           "Male"
          ],
          [
           7,
           "Female"
          ]
         ],
         "domain": {
          "x": [
           0,
           1
          ],
          "y": [
           0,
           1
          ]
         },
         "hovertemplate": "Gender=%{customdata[1]}<br>Quantity=%{customdata[0]}<extra></extra>",
         "labels": [
          "Female",
          "Female",
          "Male",
          "Male",
          "Male",
          "Male",
          "Female",
          "Female",
          "Female",
          "Female",
          "Female",
          "Male",
          "Female",
          "Male",
          "Female",
          "Female",
          "Female",
          "Male",
          "Male",
          "Female",
          "Male",
          "Male",
          "Male",
          "Male",
          "Male",
          "Female",
          "Male",
          "Female",
          "Female",
          "Male",
          "Male",
          "Male",
          "Male",
          "Male",
          "Female",
          "Female",
          "Male",
          "Female",
          "Female",
          "Male",
          "Female",
          "Male",
          "Female",
          "Female",
          "Male",
          "Female",
          "Male",
          "Female",
          "Male",
          "Female",
          "Male",
          "Female",
          "Female",
          "Male",
          "Male",
          "Female",
          "Male",
          "Male",
          "Female",
          "Male",
          "Female",
          "Male",
          "Female",
          "Male",
          "Male",
          "Male",
          "Female",
          "Female",
          "Male",
          "Female",
          "Male",
          "Male",
          "Female",
          "Female",
          "Male",
          "Female",
          "Male",
          "Female",
          "Female",
          "Female",
          "Female",
          "Female",
          "Male",
          "Female",
          "Male",
          "Female",
          "Male",
          "Male",
          "Male",
          "Female",
          "Female",
          "Female",
          "Female",
          "Male",
          "Male",
          "Male",
          "Male",
          "Female",
          "Male",
          "Male",
          "Male",
          "Male",
          "Female",
          "Male",
          "Male",
          "Male",
          "Male",
          "Male",
          "Female",
          "Male",
          "Female",
          "Female",
          "Female",
          "Male",
          "Female",
          "Female",
          "Male",
          "Male",
          "Female",
          "Male",
          "Female",
          "Male",
          "Male",
          "Male",
          "Female",
          "Female",
          "Female",
          "Female",
          "Female",
          "Female",
          "Female",
          "Female",
          "Female",
          "Male",
          "Female",
          "Male",
          "Female",
          "Female",
          "Male",
          "Male",
          "Female",
          "Male",
          "Female",
          "Female",
          "Female",
          "Female",
          "Female",
          "Male",
          "Male",
          "Male",
          "Female",
          "Male",
          "Male",
          "Female",
          "Female",
          "Male",
          "Male",
          "Male",
          "Male",
          "Male",
          "Female",
          "Male",
          "Male",
          "Male",
          "Male",
          "Male",
          "Male",
          "Male",
          "Male",
          "Male",
          "Male",
          "Male",
          "Male",
          "Male",
          "Male",
          "Male",
          "Male",
          "Female",
          "Male",
          "Male",
          "Male",
          "Male",
          "Male",
          "Male",
          "Female",
          "Male",
          "Female",
          "Male",
          "Male",
          "Female",
          "Female",
          "Female",
          "Female",
          "Male",
          "Male",
          "Female",
          "Male",
          "Female",
          "Male",
          "Female",
          "Female",
          "Female",
          "Male",
          "Male",
          "Male",
          "Female",
          "Female",
          "Female",
          "Female",
          "Female",
          "Male",
          "Female",
          "Male",
          "Male",
          "Female",
          "Male",
          "Female",
          "Female",
          "Male",
          "Female",
          "Male",
          "Male",
          "Male",
          "Female",
          "Male",
          "Female",
          "Male",
          "Male",
          "Female",
          "Female",
          "Female",
          "Female",
          "Female",
          "Male",
          "Male",
          "Female",
          "Male",
          "Female",
          "Female",
          "Male",
          "Male",
          "Male",
          "Male",
          "Male",
          "Male",
          "Male",
          "Female",
          "Male",
          "Male",
          "Male",
          "Male",
          "Male",
          "Female",
          "Male",
          "Male",
          "Male",
          "Male",
          "Male",
          "Male",
          "Male",
          "Female",
          "Female",
          "Female",
          "Female",
          "Male",
          "Female",
          "Male",
          "Female",
          "Male",
          "Female",
          "Female",
          "Female",
          "Female",
          "Female",
          "Female",
          "Male",
          "Female",
          "Female",
          "Male",
          "Male",
          "Female",
          "Male",
          "Female",
          "Male",
          "Female",
          "Male",
          "Male",
          "Female",
          "Female",
          "Female",
          "Male",
          "Male",
          "Female",
          "Female",
          "Male",
          "Female",
          "Male",
          "Male",
          "Male",
          "Female",
          "Male",
          "Male",
          "Male",
          "Female",
          "Female",
          "Male",
          "Female",
          "Female",
          "Female",
          "Female",
          "Male",
          "Male",
          "Female",
          "Female",
          "Female",
          "Male",
          "Female",
          "Male",
          "Female",
          "Male",
          "Female",
          "Female",
          "Male",
          "Female",
          "Male",
          "Male",
          "Male",
          "Male",
          "Male",
          "Male",
          "Male",
          "Male",
          "Male",
          "Male",
          "Male",
          "Female",
          "Male",
          "Female",
          "Female",
          "Female",
          "Male",
          "Female",
          "Female",
          "Female",
          "Male",
          "Female",
          "Male",
          "Female",
          "Male",
          "Female",
          "Female",
          "Male",
          "Female",
          "Male",
          "Female",
          "Female",
          "Female",
          "Female",
          "Male",
          "Male",
          "Male",
          "Female",
          "Male",
          "Male",
          "Female",
          "Female",
          "Female",
          "Male",
          "Female",
          "Male",
          "Female",
          "Female",
          "Female",
          "Male",
          "Female",
          "Female",
          "Female",
          "Male",
          "Male",
          "Female",
          "Male",
          "Female",
          "Female",
          "Female",
          "Female",
          "Male",
          "Male",
          "Female",
          "Female",
          "Male",
          "Female",
          "Female",
          "Male",
          "Female",
          "Female",
          "Female",
          "Female",
          "Male",
          "Female",
          "Male",
          "Female",
          "Male",
          "Male",
          "Female",
          "Female",
          "Male",
          "Male",
          "Female",
          "Female",
          "Female",
          "Female",
          "Male",
          "Male",
          "Male",
          "Male",
          "Male",
          "Female",
          "Female",
          "Female",
          "Female",
          "Female",
          "Female",
          "Female",
          "Male",
          "Male",
          "Male",
          "Male",
          "Female",
          "Male",
          "Female",
          "Male",
          "Male",
          "Female",
          "Male",
          "Female",
          "Male",
          "Male",
          "Male",
          "Male",
          "Female",
          "Male",
          "Female",
          "Female",
          "Male",
          "Female",
          "Female",
          "Male",
          "Male",
          "Female",
          "Female",
          "Female",
          "Male",
          "Female",
          "Male",
          "Male",
          "Female",
          "Female",
          "Male",
          "Female",
          "Male",
          "Male",
          "Female",
          "Female",
          "Female",
          "Male",
          "Female",
          "Female",
          "Male",
          "Male",
          "Female",
          "Female",
          "Female",
          "Male",
          "Male",
          "Female",
          "Male",
          "Female",
          "Male",
          "Male",
          "Male",
          "Male",
          "Female",
          "Male",
          "Male",
          "Female",
          "Female",
          "Female",
          "Male",
          "Male",
          "Female",
          "Female",
          "Female",
          "Female",
          "Female",
          "Male",
          "Male",
          "Female",
          "Female",
          "Female",
          "Female",
          "Male",
          "Female",
          "Male",
          "Female",
          "Male",
          "Male",
          "Female",
          "Female",
          "Male",
          "Female",
          "Female",
          "Female",
          "Female",
          "Male",
          "Male",
          "Female",
          "Male",
          "Male",
          "Male",
          "Male",
          "Female",
          "Female",
          "Female",
          "Male",
          "Male",
          "Female",
          "Male",
          "Male",
          "Female",
          "Male",
          "Male",
          "Male",
          "Male",
          "Female",
          "Female",
          "Male",
          "Female",
          "Male",
          "Female",
          "Female",
          "Male",
          "Male",
          "Female",
          "Male",
          "Female",
          "Male",
          "Female",
          "Male",
          "Female",
          "Female",
          "Male",
          "Female",
          "Female",
          "Male",
          "Male",
          "Male",
          "Female",
          "Female",
          "Male",
          "Female",
          "Male",
          "Male",
          "Female",
          "Male",
          "Male",
          "Female",
          "Female",
          "Female",
          "Female",
          "Female",
          "Female",
          "Male",
          "Male",
          "Male",
          "Male",
          "Male",
          "Male",
          "Male",
          "Female",
          "Male",
          "Male",
          "Female",
          "Female",
          "Female",
          "Male",
          "Male",
          "Female",
          "Female",
          "Male",
          "Male",
          "Male",
          "Female",
          "Female",
          "Female",
          "Male",
          "Male",
          "Male",
          "Female",
          "Female",
          "Female",
          "Male",
          "Female",
          "Male",
          "Female",
          "Female",
          "Male",
          "Female",
          "Female",
          "Male",
          "Male",
          "Female",
          "Female",
          "Male",
          "Male",
          "Male",
          "Female",
          "Male",
          "Male",
          "Male",
          "Female",
          "Female",
          "Female",
          "Female",
          "Female",
          "Male",
          "Female",
          "Male",
          "Male",
          "Male",
          "Female",
          "Male",
          "Male",
          "Male",
          "Male",
          "Male",
          "Male",
          "Male",
          "Female",
          "Female",
          "Male",
          "Female",
          "Female",
          "Male",
          "Female",
          "Male",
          "Male",
          "Male",
          "Male",
          "Female",
          "Male",
          "Male",
          "Female",
          "Male",
          "Male",
          "Male",
          "Female",
          "Female",
          "Female",
          "Female",
          "Male",
          "Female",
          "Male",
          "Female",
          "Female",
          "Female",
          "Female",
          "Male",
          "Female",
          "Female",
          "Female",
          "Male",
          "Male",
          "Female",
          "Male",
          "Female",
          "Male",
          "Female",
          "Female",
          "Male",
          "Male",
          "Female",
          "Female",
          "Female",
          "Male",
          "Female",
          "Female",
          "Female",
          "Male",
          "Male",
          "Female",
          "Female",
          "Male",
          "Male",
          "Female",
          "Female",
          "Female",
          "Female",
          "Male",
          "Male",
          "Male",
          "Female",
          "Male",
          "Female",
          "Male",
          "Female",
          "Male",
          "Female",
          "Male",
          "Male",
          "Male",
          "Male",
          "Female",
          "Female",
          "Female",
          "Male",
          "Female",
          "Female",
          "Male",
          "Male",
          "Female",
          "Female",
          "Female",
          "Male",
          "Female",
          "Male",
          "Female",
          "Male",
          "Male",
          "Male",
          "Female",
          "Female",
          "Male",
          "Male",
          "Male",
          "Male",
          "Male",
          "Female",
          "Male",
          "Male",
          "Male",
          "Male",
          "Male",
          "Female",
          "Male",
          "Female",
          "Female",
          "Male",
          "Female",
          "Female",
          "Male",
          "Female",
          "Female",
          "Female",
          "Male",
          "Female",
          "Female",
          "Female",
          "Female",
          "Male",
          "Female",
          "Female",
          "Male",
          "Female",
          "Female",
          "Male",
          "Female",
          "Female",
          "Male",
          "Female",
          "Female",
          "Female",
          "Female",
          "Female",
          "Female",
          "Male",
          "Female",
          "Male",
          "Male",
          "Male",
          "Male",
          "Male",
          "Female",
          "Female",
          "Female",
          "Female",
          "Male",
          "Male",
          "Female",
          "Male",
          "Male",
          "Male",
          "Male",
          "Female",
          "Male",
          "Female",
          "Male",
          "Female",
          "Female",
          "Male",
          "Male",
          "Male",
          "Female",
          "Male",
          "Female",
          "Female",
          "Female",
          "Female",
          "Female",
          "Female",
          "Female",
          "Male",
          "Female",
          "Female",
          "Male",
          "Female",
          "Female",
          "Female",
          "Male",
          "Male",
          "Male",
          "Male",
          "Female",
          "Male",
          "Female",
          "Female",
          "Female",
          "Female",
          "Male",
          "Male",
          "Female",
          "Male",
          "Male",
          "Female",
          "Male",
          "Female",
          "Male",
          "Male",
          "Male",
          "Male",
          "Female",
          "Male",
          "Male",
          "Female",
          "Female",
          "Male",
          "Male",
          "Male",
          "Female",
          "Female",
          "Female",
          "Male",
          "Female",
          "Male",
          "Female",
          "Female",
          "Female",
          "Male",
          "Female",
          "Male",
          "Female",
          "Female",
          "Male",
          "Female",
          "Female",
          "Female",
          "Male",
          "Male",
          "Female",
          "Male",
          "Male",
          "Male",
          "Male",
          "Female",
          "Male",
          "Male",
          "Male",
          "Male",
          "Male",
          "Female",
          "Female",
          "Female",
          "Female",
          "Male",
          "Female",
          "Female",
          "Male",
          "Male",
          "Female",
          "Female",
          "Male",
          "Female",
          "Female",
          "Female",
          "Male",
          "Male",
          "Male",
          "Male",
          "Female",
          "Male",
          "Male",
          "Female",
          "Male",
          "Female",
          "Male",
          "Female",
          "Female",
          "Male",
          "Female",
          "Female",
          "Female",
          "Female",
          "Female",
          "Female",
          "Male",
          "Female",
          "Female",
          "Male",
          "Female",
          "Male",
          "Female",
          "Female",
          "Female",
          "Female",
          "Female",
          "Female",
          "Female",
          "Male",
          "Female",
          "Female",
          "Male",
          "Male",
          "Female",
          "Female",
          "Male",
          "Female",
          "Male",
          "Female",
          "Female",
          "Female",
          "Female",
          "Male",
          "Male",
          "Female",
          "Male",
          "Male",
          "Female",
          "Male",
          "Male",
          "Male",
          "Female",
          "Male",
          "Female",
          "Female",
          "Female",
          "Male",
          "Female",
          "Male",
          "Male",
          "Female",
          "Female",
          "Male",
          "Male",
          "Female",
          "Male",
          "Male",
          "Female",
          "Female",
          "Male",
          "Female",
          "Female",
          "Female",
          "Male",
          "Male",
          "Male",
          "Male",
          "Male",
          "Female",
          "Male",
          "Female",
          "Female",
          "Male",
          "Male",
          "Female",
          "Male",
          "Male",
          "Female",
          "Female",
          "Male",
          "Male",
          "Male",
          "Female",
          "Female",
          "Male",
          "Male",
          "Female",
          "Male",
          "Female",
          "Male",
          "Male",
          "Female"
         ],
         "legendgroup": "",
         "name": "",
         "showlegend": true,
         "textinfo": "percent+label",
         "textposition": "inside",
         "type": "pie",
         "values": [
          7,
          5,
          7,
          8,
          7,
          7,
          6,
          10,
          2,
          3,
          4,
          4,
          5,
          10,
          10,
          6,
          7,
          6,
          3,
          2,
          5,
          3,
          2,
          5,
          3,
          8,
          1,
          2,
          5,
          9,
          5,
          9,
          8,
          2,
          4,
          1,
          5,
          9,
          8,
          8,
          1,
          2,
          6,
          8,
          2,
          4,
          9,
          9,
          6,
          10,
          7,
          5,
          4,
          1,
          2,
          8,
          2,
          8,
          10,
          6,
          3,
          6,
          9,
          10,
          4,
          10,
          2,
          6,
          10,
          1,
          10,
          10,
          3,
          6,
          9,
          10,
          9,
          9,
          10,
          5,
          6,
          3,
          8,
          4,
          5,
          7,
          5,
          7,
          1,
          6,
          4,
          10,
          7,
          9,
          1,
          1,
          10,
          6,
          3,
          6,
          1,
          9,
          9,
          6,
          7,
          10,
          6,
          6,
          9,
          10,
          2,
          3,
          7,
          9,
          9,
          3,
          5,
          1,
          10,
          2,
          8,
          7,
          9,
          8,
          8,
          7,
          5,
          9,
          8,
          9,
          7,
          6,
          4,
          6,
          6,
          3,
          5,
          6,
          10,
          8,
          10,
          10,
          10,
          1,
          6,
          6,
          10,
          4,
          8,
          8,
          4,
          7,
          9,
          6,
          8,
          5,
          1,
          5,
          9,
          6,
          8,
          1,
          7,
          2,
          10,
          8,
          10,
          10,
          6,
          7,
          5,
          5,
          8,
          6,
          8,
          9,
          8,
          7,
          6,
          3,
          7,
          8,
          10,
          8,
          7,
          3,
          8,
          4,
          1,
          4,
          3,
          2,
          9,
          4,
          5,
          1,
          2,
          1,
          4,
          5,
          6,
          4,
          7,
          10,
          5,
          9,
          9,
          10,
          3,
          9,
          9,
          9,
          5,
          3,
          7,
          1,
          5,
          3,
          8,
          3,
          6,
          7,
          5,
          1,
          2,
          2,
          9,
          4,
          6,
          8,
          2,
          3,
          9,
          4,
          10,
          2,
          5,
          5,
          5,
          1,
          9,
          2,
          2,
          4,
          8,
          8,
          3,
          5,
          4,
          7,
          9,
          10,
          2,
          4,
          8,
          4,
          1,
          6,
          4,
          4,
          9,
          4,
          4,
          10,
          1,
          7,
          4,
          10,
          4,
          10,
          5,
          2,
          9,
          2,
          6,
          7,
          10,
          4,
          10,
          10,
          8,
          1,
          1,
          6,
          4,
          5,
          1,
          9,
          7,
          7,
          10,
          7,
          1,
          2,
          10,
          5,
          4,
          6,
          4,
          1,
          2,
          1,
          1,
          4,
          8,
          7,
          7,
          8,
          3,
          2,
          6,
          2,
          5,
          9,
          10,
          2,
          3,
          5,
          7,
          4,
          9,
          1,
          6,
          5,
          6,
          4,
          5,
          4,
          4,
          4,
          9,
          3,
          5,
          2,
          5,
          5,
          9,
          6,
          3,
          9,
          3,
          7,
          7,
          5,
          3,
          9,
          1,
          8,
          7,
          10,
          10,
          7,
          7,
          9,
          1,
          4,
          10,
          10,
          3,
          1,
          8,
          8,
          2,
          6,
          4,
          4,
          9,
          4,
          10,
          9,
          7,
          2,
          6,
          6,
          5,
          5,
          9,
          7,
          4,
          4,
          4,
          2,
          5,
          4,
          5,
          1,
          6,
          10,
          9,
          7,
          3,
          10,
          1,
          10,
          1,
          5,
          5,
          9,
          6,
          9,
          6,
          4,
          1,
          5,
          7,
          4,
          5,
          4,
          4,
          5,
          10,
          2,
          5,
          3,
          8,
          1,
          4,
          1,
          2,
          7,
          3,
          3,
          10,
          8,
          1,
          9,
          7,
          3,
          5,
          10,
          2,
          2,
          6,
          7,
          1,
          9,
          4,
          6,
          4,
          8,
          5,
          8,
          9,
          1,
          7,
          1,
          10,
          3,
          1,
          1,
          6,
          6,
          5,
          1,
          4,
          5,
          9,
          10,
          10,
          1,
          5,
          10,
          4,
          1,
          5,
          10,
          7,
          6,
          1,
          1,
          6,
          4,
          10,
          8,
          5,
          3,
          5,
          4,
          10,
          1,
          8,
          10,
          5,
          10,
          10,
          4,
          10,
          4,
          1,
          9,
          2,
          10,
          8,
          10,
          2,
          8,
          2,
          6,
          1,
          8,
          1,
          1,
          2,
          2,
          1,
          8,
          3,
          6,
          5,
          6,
          7,
          5,
          7,
          7,
          7,
          1,
          5,
          5,
          2,
          5,
          3,
          6,
          6,
          2,
          6,
          5,
          4,
          2,
          10,
          9,
          6,
          8,
          10,
          9,
          5,
          7,
          1,
          1,
          4,
          6,
          3,
          1,
          4,
          6,
          1,
          4,
          10,
          9,
          5,
          6,
          3,
          9,
          9,
          6,
          7,
          3,
          2,
          10,
          6,
          3,
          9,
          10,
          8,
          6,
          2,
          10,
          10,
          9,
          7,
          7,
          5,
          10,
          7,
          2,
          5,
          7,
          4,
          4,
          4,
          2,
          3,
          4,
          2,
          4,
          3,
          4,
          3,
          5,
          10,
          5,
          6,
          7,
          1,
          3,
          3,
          3,
          3,
          9,
          5,
          2,
          1,
          1,
          10,
          6,
          7,
          4,
          7,
          4,
          1,
          2,
          1,
          9,
          3,
          1,
          10,
          9,
          6,
          5,
          6,
          6,
          3,
          1,
          7,
          10,
          1,
          2,
          2,
          10,
          3,
          1,
          10,
          3,
          2,
          3,
          3,
          10,
          7,
          1,
          5,
          3,
          3,
          8,
          2,
          8,
          5,
          9,
          6,
          1,
          2,
          10,
          5,
          6,
          10,
          9,
          4,
          3,
          1,
          3,
          5,
          1,
          3,
          7,
          6,
          10,
          2,
          4,
          3,
          4,
          6,
          2,
          10,
          2,
          3,
          8,
          10,
          2,
          7,
          4,
          10,
          6,
          1,
          1,
          6,
          2,
          6,
          2,
          2,
          10,
          2,
          3,
          9,
          7,
          10,
          7,
          9,
          5,
          4,
          4,
          9,
          10,
          8,
          3,
          10,
          9,
          9,
          7,
          4,
          1,
          8,
          3,
          6,
          4,
          9,
          9,
          8,
          5,
          7,
          3,
          3,
          6,
          7,
          9,
          3,
          7,
          4,
          8,
          3,
          10,
          4,
          7,
          4,
          3,
          1,
          7,
          1,
          10,
          7,
          10,
          8,
          9,
          7,
          1,
          2,
          2,
          8,
          1,
          10,
          5,
          9,
          7,
          4,
          5,
          10,
          5,
          3,
          8,
          8,
          6,
          10,
          4,
          10,
          10,
          8,
          5,
          4,
          8,
          3,
          6,
          4,
          6,
          4,
          7,
          7,
          1,
          2,
          5,
          7,
          1,
          5,
          9,
          8,
          4,
          1,
          8,
          5,
          7,
          8,
          5,
          3,
          7,
          1,
          4,
          10,
          7,
          2,
          2,
          1,
          10,
          1,
          5,
          6,
          8,
          7,
          9,
          9,
          4,
          2,
          4,
          1,
          10,
          8,
          10,
          5,
          1,
          8,
          8,
          7,
          8,
          4,
          5,
          4,
          2,
          1,
          3,
          7,
          4,
          9,
          3,
          10,
          10,
          8,
          4,
          8,
          1,
          7,
          1,
          5,
          6,
          10,
          6,
          3,
          1,
          2,
          2,
          1,
          3,
          1,
          1,
          9,
          6,
          1,
          2,
          7,
          10,
          5,
          9,
          8,
          4,
          6,
          9,
          1,
          2,
          9,
          7,
          3,
          3,
          8,
          2,
          3,
          4,
          7,
          1,
          10,
          6,
          4,
          8,
          1,
          1,
          8,
          8,
          10,
          8,
          10,
          6,
          2,
          7,
          1,
          10,
          8,
          10,
          5,
          8,
          5,
          5,
          6,
          8,
          7,
          6,
          7,
          9,
          9,
          4,
          5,
          7,
          2,
          4,
          10,
          5,
          2,
          10,
          3,
          4,
          8,
          8,
          3,
          6,
          1,
          4,
          3,
          3,
          9,
          6,
          2,
          7,
          6,
          4,
          1,
          9,
          9,
          2,
          6,
          2,
          10,
          7,
          6,
          3,
          7,
          5,
          3,
          6,
          4,
          9,
          10,
          5,
          7,
          7,
          2,
          1,
          5,
          8,
          3,
          3,
          4,
          4,
          6,
          7,
          9,
          6,
          10,
          9,
          1,
          2,
          1,
          3,
          2,
          2,
          9,
          3,
          3,
          5,
          10,
          7,
          7,
          3,
          2,
          2,
          4,
          6,
          1,
          1,
          4,
          4,
          9,
          7,
          7,
          5,
          2,
          8,
          10,
          8,
          5,
          10,
          2,
          10,
          1,
          1,
          10,
          1,
          1,
          7
         ]
        }
       ],
       "layout": {
        "legend": {
         "tracegroupgap": 0
        },
        "piecolorway": [
         "rgb(127,0,0)",
         "rgb(179,0,0)",
         "rgb(215,48,31)",
         "rgb(239,101,72)",
         "rgb(252,141,89)",
         "rgb(253,187,132)",
         "rgb(253,212,158)",
         "rgb(254,232,200)",
         "rgb(255,247,236)"
        ],
        "template": {
         "data": {
          "bar": [
           {
            "error_x": {
             "color": "#2a3f5f"
            },
            "error_y": {
             "color": "#2a3f5f"
            },
            "marker": {
             "line": {
              "color": "#E5ECF6",
              "width": 0.5
             },
             "pattern": {
              "fillmode": "overlay",
              "size": 10,
              "solidity": 0.2
             }
            },
            "type": "bar"
           }
          ],
          "barpolar": [
           {
            "marker": {
             "line": {
              "color": "#E5ECF6",
              "width": 0.5
             },
             "pattern": {
              "fillmode": "overlay",
              "size": 10,
              "solidity": 0.2
             }
            },
            "type": "barpolar"
           }
          ],
          "carpet": [
           {
            "aaxis": {
             "endlinecolor": "#2a3f5f",
             "gridcolor": "white",
             "linecolor": "white",
             "minorgridcolor": "white",
             "startlinecolor": "#2a3f5f"
            },
            "baxis": {
             "endlinecolor": "#2a3f5f",
             "gridcolor": "white",
             "linecolor": "white",
             "minorgridcolor": "white",
             "startlinecolor": "#2a3f5f"
            },
            "type": "carpet"
           }
          ],
          "choropleth": [
           {
            "colorbar": {
             "outlinewidth": 0,
             "ticks": ""
            },
            "type": "choropleth"
           }
          ],
          "contour": [
           {
            "colorbar": {
             "outlinewidth": 0,
             "ticks": ""
            },
            "colorscale": [
             [
              0,
              "#0d0887"
             ],
             [
              0.1111111111111111,
              "#46039f"
             ],
             [
              0.2222222222222222,
              "#7201a8"
             ],
             [
              0.3333333333333333,
              "#9c179e"
             ],
             [
              0.4444444444444444,
              "#bd3786"
             ],
             [
              0.5555555555555556,
              "#d8576b"
             ],
             [
              0.6666666666666666,
              "#ed7953"
             ],
             [
              0.7777777777777778,
              "#fb9f3a"
             ],
             [
              0.8888888888888888,
              "#fdca26"
             ],
             [
              1,
              "#f0f921"
             ]
            ],
            "type": "contour"
           }
          ],
          "contourcarpet": [
           {
            "colorbar": {
             "outlinewidth": 0,
             "ticks": ""
            },
            "type": "contourcarpet"
           }
          ],
          "heatmap": [
           {
            "colorbar": {
             "outlinewidth": 0,
             "ticks": ""
            },
            "colorscale": [
             [
              0,
              "#0d0887"
             ],
             [
              0.1111111111111111,
              "#46039f"
             ],
             [
              0.2222222222222222,
              "#7201a8"
             ],
             [
              0.3333333333333333,
              "#9c179e"
             ],
             [
              0.4444444444444444,
              "#bd3786"
             ],
             [
              0.5555555555555556,
              "#d8576b"
             ],
             [
              0.6666666666666666,
              "#ed7953"
             ],
             [
              0.7777777777777778,
              "#fb9f3a"
             ],
             [
              0.8888888888888888,
              "#fdca26"
             ],
             [
              1,
              "#f0f921"
             ]
            ],
            "type": "heatmap"
           }
          ],
          "heatmapgl": [
           {
            "colorbar": {
             "outlinewidth": 0,
             "ticks": ""
            },
            "colorscale": [
             [
              0,
              "#0d0887"
             ],
             [
              0.1111111111111111,
              "#46039f"
             ],
             [
              0.2222222222222222,
              "#7201a8"
             ],
             [
              0.3333333333333333,
              "#9c179e"
             ],
             [
              0.4444444444444444,
              "#bd3786"
             ],
             [
              0.5555555555555556,
              "#d8576b"
             ],
             [
              0.6666666666666666,
              "#ed7953"
             ],
             [
              0.7777777777777778,
              "#fb9f3a"
             ],
             [
              0.8888888888888888,
              "#fdca26"
             ],
             [
              1,
              "#f0f921"
             ]
            ],
            "type": "heatmapgl"
           }
          ],
          "histogram": [
           {
            "marker": {
             "pattern": {
              "fillmode": "overlay",
              "size": 10,
              "solidity": 0.2
             }
            },
            "type": "histogram"
           }
          ],
          "histogram2d": [
           {
            "colorbar": {
             "outlinewidth": 0,
             "ticks": ""
            },
            "colorscale": [
             [
              0,
              "#0d0887"
             ],
             [
              0.1111111111111111,
              "#46039f"
             ],
             [
              0.2222222222222222,
              "#7201a8"
             ],
             [
              0.3333333333333333,
              "#9c179e"
             ],
             [
              0.4444444444444444,
              "#bd3786"
             ],
             [
              0.5555555555555556,
              "#d8576b"
             ],
             [
              0.6666666666666666,
              "#ed7953"
             ],
             [
              0.7777777777777778,
              "#fb9f3a"
             ],
             [
              0.8888888888888888,
              "#fdca26"
             ],
             [
              1,
              "#f0f921"
             ]
            ],
            "type": "histogram2d"
           }
          ],
          "histogram2dcontour": [
           {
            "colorbar": {
             "outlinewidth": 0,
             "ticks": ""
            },
            "colorscale": [
             [
              0,
              "#0d0887"
             ],
             [
              0.1111111111111111,
              "#46039f"
             ],
             [
              0.2222222222222222,
              "#7201a8"
             ],
             [
              0.3333333333333333,
              "#9c179e"
             ],
             [
              0.4444444444444444,
              "#bd3786"
             ],
             [
              0.5555555555555556,
              "#d8576b"
             ],
             [
              0.6666666666666666,
              "#ed7953"
             ],
             [
              0.7777777777777778,
              "#fb9f3a"
             ],
             [
              0.8888888888888888,
              "#fdca26"
             ],
             [
              1,
              "#f0f921"
             ]
            ],
            "type": "histogram2dcontour"
           }
          ],
          "mesh3d": [
           {
            "colorbar": {
             "outlinewidth": 0,
             "ticks": ""
            },
            "type": "mesh3d"
           }
          ],
          "parcoords": [
           {
            "line": {
             "colorbar": {
              "outlinewidth": 0,
              "ticks": ""
             }
            },
            "type": "parcoords"
           }
          ],
          "pie": [
           {
            "automargin": true,
            "type": "pie"
           }
          ],
          "scatter": [
           {
            "fillpattern": {
             "fillmode": "overlay",
             "size": 10,
             "solidity": 0.2
            },
            "type": "scatter"
           }
          ],
          "scatter3d": [
           {
            "line": {
             "colorbar": {
              "outlinewidth": 0,
              "ticks": ""
             }
            },
            "marker": {
             "colorbar": {
              "outlinewidth": 0,
              "ticks": ""
             }
            },
            "type": "scatter3d"
           }
          ],
          "scattercarpet": [
           {
            "marker": {
             "colorbar": {
              "outlinewidth": 0,
              "ticks": ""
             }
            },
            "type": "scattercarpet"
           }
          ],
          "scattergeo": [
           {
            "marker": {
             "colorbar": {
              "outlinewidth": 0,
              "ticks": ""
             }
            },
            "type": "scattergeo"
           }
          ],
          "scattergl": [
           {
            "marker": {
             "colorbar": {
              "outlinewidth": 0,
              "ticks": ""
             }
            },
            "type": "scattergl"
           }
          ],
          "scattermapbox": [
           {
            "marker": {
             "colorbar": {
              "outlinewidth": 0,
              "ticks": ""
             }
            },
            "type": "scattermapbox"
           }
          ],
          "scatterpolar": [
           {
            "marker": {
             "colorbar": {
              "outlinewidth": 0,
              "ticks": ""
             }
            },
            "type": "scatterpolar"
           }
          ],
          "scatterpolargl": [
           {
            "marker": {
             "colorbar": {
              "outlinewidth": 0,
              "ticks": ""
             }
            },
            "type": "scatterpolargl"
           }
          ],
          "scatterternary": [
           {
            "marker": {
             "colorbar": {
              "outlinewidth": 0,
              "ticks": ""
             }
            },
            "type": "scatterternary"
           }
          ],
          "surface": [
           {
            "colorbar": {
             "outlinewidth": 0,
             "ticks": ""
            },
            "colorscale": [
             [
              0,
              "#0d0887"
             ],
             [
              0.1111111111111111,
              "#46039f"
             ],
             [
              0.2222222222222222,
              "#7201a8"
             ],
             [
              0.3333333333333333,
              "#9c179e"
             ],
             [
              0.4444444444444444,
              "#bd3786"
             ],
             [
              0.5555555555555556,
              "#d8576b"
             ],
             [
              0.6666666666666666,
              "#ed7953"
             ],
             [
              0.7777777777777778,
              "#fb9f3a"
             ],
             [
              0.8888888888888888,
              "#fdca26"
             ],
             [
              1,
              "#f0f921"
             ]
            ],
            "type": "surface"
           }
          ],
          "table": [
           {
            "cells": {
             "fill": {
              "color": "#EBF0F8"
             },
             "line": {
              "color": "white"
             }
            },
            "header": {
             "fill": {
              "color": "#C8D4E3"
             },
             "line": {
              "color": "white"
             }
            },
            "type": "table"
           }
          ]
         },
         "layout": {
          "annotationdefaults": {
           "arrowcolor": "#2a3f5f",
           "arrowhead": 0,
           "arrowwidth": 1
          },
          "autotypenumbers": "strict",
          "coloraxis": {
           "colorbar": {
            "outlinewidth": 0,
            "ticks": ""
           }
          },
          "colorscale": {
           "diverging": [
            [
             0,
             "#8e0152"
            ],
            [
             0.1,
             "#c51b7d"
            ],
            [
             0.2,
             "#de77ae"
            ],
            [
             0.3,
             "#f1b6da"
            ],
            [
             0.4,
             "#fde0ef"
            ],
            [
             0.5,
             "#f7f7f7"
            ],
            [
             0.6,
             "#e6f5d0"
            ],
            [
             0.7,
             "#b8e186"
            ],
            [
             0.8,
             "#7fbc41"
            ],
            [
             0.9,
             "#4d9221"
            ],
            [
             1,
             "#276419"
            ]
           ],
           "sequential": [
            [
             0,
             "#0d0887"
            ],
            [
             0.1111111111111111,
             "#46039f"
            ],
            [
             0.2222222222222222,
             "#7201a8"
            ],
            [
             0.3333333333333333,
             "#9c179e"
            ],
            [
             0.4444444444444444,
             "#bd3786"
            ],
            [
             0.5555555555555556,
             "#d8576b"
            ],
            [
             0.6666666666666666,
             "#ed7953"
            ],
            [
             0.7777777777777778,
             "#fb9f3a"
            ],
            [
             0.8888888888888888,
             "#fdca26"
            ],
            [
             1,
             "#f0f921"
            ]
           ],
           "sequentialminus": [
            [
             0,
             "#0d0887"
            ],
            [
             0.1111111111111111,
             "#46039f"
            ],
            [
             0.2222222222222222,
             "#7201a8"
            ],
            [
             0.3333333333333333,
             "#9c179e"
            ],
            [
             0.4444444444444444,
             "#bd3786"
            ],
            [
             0.5555555555555556,
             "#d8576b"
            ],
            [
             0.6666666666666666,
             "#ed7953"
            ],
            [
             0.7777777777777778,
             "#fb9f3a"
            ],
            [
             0.8888888888888888,
             "#fdca26"
            ],
            [
             1,
             "#f0f921"
            ]
           ]
          },
          "colorway": [
           "#636efa",
           "#EF553B",
           "#00cc96",
           "#ab63fa",
           "#FFA15A",
           "#19d3f3",
           "#FF6692",
           "#B6E880",
           "#FF97FF",
           "#FECB52"
          ],
          "font": {
           "color": "#2a3f5f"
          },
          "geo": {
           "bgcolor": "white",
           "lakecolor": "white",
           "landcolor": "#E5ECF6",
           "showlakes": true,
           "showland": true,
           "subunitcolor": "white"
          },
          "hoverlabel": {
           "align": "left"
          },
          "hovermode": "closest",
          "mapbox": {
           "style": "light"
          },
          "paper_bgcolor": "white",
          "plot_bgcolor": "#E5ECF6",
          "polar": {
           "angularaxis": {
            "gridcolor": "white",
            "linecolor": "white",
            "ticks": ""
           },
           "bgcolor": "#E5ECF6",
           "radialaxis": {
            "gridcolor": "white",
            "linecolor": "white",
            "ticks": ""
           }
          },
          "scene": {
           "xaxis": {
            "backgroundcolor": "#E5ECF6",
            "gridcolor": "white",
            "gridwidth": 2,
            "linecolor": "white",
            "showbackground": true,
            "ticks": "",
            "zerolinecolor": "white"
           },
           "yaxis": {
            "backgroundcolor": "#E5ECF6",
            "gridcolor": "white",
            "gridwidth": 2,
            "linecolor": "white",
            "showbackground": true,
            "ticks": "",
            "zerolinecolor": "white"
           },
           "zaxis": {
            "backgroundcolor": "#E5ECF6",
            "gridcolor": "white",
            "gridwidth": 2,
            "linecolor": "white",
            "showbackground": true,
            "ticks": "",
            "zerolinecolor": "white"
           }
          },
          "shapedefaults": {
           "line": {
            "color": "#2a3f5f"
           }
          },
          "ternary": {
           "aaxis": {
            "gridcolor": "white",
            "linecolor": "white",
            "ticks": ""
           },
           "baxis": {
            "gridcolor": "white",
            "linecolor": "white",
            "ticks": ""
           },
           "bgcolor": "#E5ECF6",
           "caxis": {
            "gridcolor": "white",
            "linecolor": "white",
            "ticks": ""
           }
          },
          "title": {
           "x": 0.05
          },
          "xaxis": {
           "automargin": true,
           "gridcolor": "white",
           "linecolor": "white",
           "ticks": "",
           "title": {
            "standoff": 15
           },
           "zerolinecolor": "white",
           "zerolinewidth": 2
          },
          "yaxis": {
           "automargin": true,
           "gridcolor": "white",
           "linecolor": "white",
           "ticks": "",
           "title": {
            "standoff": 15
           },
           "zerolinecolor": "white",
           "zerolinewidth": 2
          }
         }
        },
        "title": {
         "text": "<b> Who buys more : Men or Women?<b>"
        }
       }
      }
     },
     "metadata": {},
     "output_type": "display_data"
    }
   ],
   "source": [
    "fig = px.pie(df,values='Quantity',names='Gender',\n",
    "             hover_data=['Quantity','Gender'],\n",
    "             labels={'Gender':'Gender'},\n",
    "             title='<b> Who buys more : Men or Women?<b>',\n",
    "             color_discrete_sequence=px.colors.sequential.OrRd_r)\n",
    "\n",
    "\n",
    "fig.update_traces(textposition='inside',\n",
    "                  textinfo='percent+label')\n",
    "\n",
    "\n",
    "\n",
    "fig.show()"
   ]
  },
  {
   "cell_type": "code",
   "execution_count": 102,
   "metadata": {},
   "outputs": [
    {
     "data": {
      "image/png": "[encoded data removed]",
      "text/plain": [
       "<Figure size 1500x500 with 1 Axes>"
      ]
     },
     "metadata": {},
     "output_type": "display_data"
    }
   ],
   "source": [
    "plt.figure(figsize=(15,5))\n",
    "\n",
    "chart = sns.countplot(x = \"Product line\", data = df, hue=\"Gender\", order = df[\"Product line\"].value_counts().index)\n",
    "for num in chart.containers:\n",
    "    chart.bar_label(num)\n",
    "    \n",
    "plt.show();"
   ]
  },
  {
   "cell_type": "markdown",
   "metadata": {},
   "source": [
    "Когда увеличивается количество женщин, увеличивается линейка модных аксессуаров\n",
    "Когда увеличивается количество мужчин, увеличивается линейка товаров для здоровья и красоты"
   ]
  },
  {
   "cell_type": "code",
   "execution_count": 105,
   "metadata": {},
   "outputs": [
    {
     "data": {
      "image/png": "[encoded data removed]",
      "text/plain": [
       "<Figure size 1500x500 with 3 Axes>"
      ]
     },
     "metadata": {},
     "output_type": "display_data"
    }
   ],
   "source": [
    "sns.catplot(x = 'Month', y = 'gross income', data = df, kind = \"box\", col = 'Branch')\n",
    "plt.xlabel('Month')\n",
    "plt.ylabel(\"FRQ\")\n",
    "plt.show()"
   ]
  },
  {
   "cell_type": "code",
   "execution_count": null,
   "metadata": {},
   "outputs": [
    {
     "data": {
      "image/png": "[encoded data removed]",
      "text/plain": [
       "<Figure size 1500x500 with 1 Axes>"
      ]
     },
     "metadata": {},
     "output_type": "display_data"
    }
   ],
   "source": [
    "df['Time'] = pd.to_datetime(df['Time'])\n",
    "df['Hour'] = df['Time'].dt.hour\n",
    "\n",
    "sales_by_hour = df.groupby('Hour')['Total'].sum()\n",
    "\n",
    "# Plot the total sales by hour\n",
    "plt.figure(figsize=(15, 5))\n",
    "sns.barplot(x=sales_by_hour.index, y=sales_by_hour.values)\n",
    "plt.title('Total Sales by Hour of Day')\n",
    "plt.xlabel('Hour of Day')\n",
    "plt.ylabel('Total Sales')\n",
    "plt.show();"
   ]
  }
 ],
 "metadata": {
  "kernelspec": {
   "display_name": "machine_learning",
   "language": "python",
   "name": "python3"
  },
  "language_info": {
   "codemirror_mode": {
    "name": "ipython",
    "version": 3
   },
   "file_extension": ".py",
   "mimetype": "text/x-python",
   "name": "python",
   "nbconvert_exporter": "python",
   "pygments_lexer": "ipython3",
   "version": "3.10.13"
  }
 },
 "nbformat": 4,
 "nbformat_minor": 2
}
